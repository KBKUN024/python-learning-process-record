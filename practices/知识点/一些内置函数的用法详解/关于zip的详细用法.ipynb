{
 "cells": [
  {
   "cell_type": "code",
   "execution_count": 5,
   "metadata": {},
   "outputs": [
    {
     "name": "stdout",
     "output_type": "stream",
     "text": [
      "zip(a,b) <zip object at 0x120811940>\n",
      "zip(a,c) <zip object at 0x120813440>\n",
      "zip(b,c) <zip object at 0x120812700>\n",
      "zipped: [(1, 4), (2, 5), (3, 6)]\n",
      "li2: [(1, 2, 3), (4, 5, 6)]\n"
     ]
    }
   ],
   "source": [
    "a = [1,2,3]\n",
    "b = [4,5,6]\n",
    "c = [4,5,6,7,8]\n",
    "print('zip(a,b)',zip(a,b))\n",
    "print('zip(a,c)',zip(a,c))\n",
    "print('zip(b,c)',zip(b,c))\n",
    "zipped = list(zip(a,b))\n",
    "print('zipped:',zipped)\n",
    "li2 = zip(*zip(a,b)) # 与 zip 相反，zip(*) 可理解为解压\n",
    "print('li2:',list(li2))"
   ]
  },
  {
   "cell_type": "markdown",
   "metadata": {},
   "source": [
    "#### 请问，*zip(a,b)得到的结果是什么？为什么list(zip(*zip(a,b)))会得到[(1, 2, 3), (4, 5, 6)]，如何才能得到[[1, 2, 3], [4, 5, 6)]]?\n",
    "***zip(a,b) 的结果解析**\n",
    "\n",
    "`*zip(a,b)` 的作用是将 `zip(a,b)` 的结果进行解包`（unpacking）`：\n",
    "```python\n",
    "zip(a,b) → [(1,4), (2,5), (3,6)]\n",
    "*zip(a,b) → (1,4), (2,5), (3,6)  # 解包成独立的元组\n",
    "```\n",
    "`list(zip(*zip(a,b)))` 得到 `[(1,2,3), (4,5,6)]` 的原理：\n",
    "\n",
    "1. zip(a,b) 先配对：创建了一个迭代器<zip object at 0x120811940>\n",
    "2. *zip(a,b) 解包：解包创建的迭代器(1,4), (2,5), (3,6)\n",
    "3. zip(*zip(a,b)) 等价于 zip((1,4), (2,5), (3,6))\n",
    "4. 重新按位置配对：第0位配对(1,2,3)，第1位配对(4,5,6)\n",
    "\n",
    "如何得到 `[[1,2,3], [4,5,6]]`（列表而非元组）：\n",
    "```python\n",
    "# 方法1：使用列表推导式\n",
    "result = [list(t) for t in zip(*zip(a,b))]\n",
    "\n",
    "# 方法2：使用 map\n",
    "result = list(map(list, zip(*zip(a,b))))\n",
    "```\n",
    "这样就能将元组转换为列表格式。"
   ]
  }
 ],
 "metadata": {
  "kernelspec": {
   "display_name": "python练习",
   "language": "python",
   "name": "python3"
  },
  "language_info": {
   "codemirror_mode": {
    "name": "ipython",
    "version": 3
   },
   "file_extension": ".py",
   "mimetype": "text/x-python",
   "name": "python",
   "nbconvert_exporter": "python",
   "pygments_lexer": "ipython3",
   "version": "3.12.9"
  }
 },
 "nbformat": 4,
 "nbformat_minor": 2
}

{
 "cells": [
  {
   "cell_type": "markdown",
   "metadata": {},
   "source": [
    "在正则表达式中，​​分组捕获​​是通过圆括号 () 实现的，它不仅能将多个字符组合成一个整体进行匹配，还能在匹配后提取括号内的内容。这是正则表达式中非常强大的功能，下面我会详细解释它的用法和常见场景。\n",
    "\n",
    "`请记住，只有分组捕获的时候，匹配的结果才能使用group,反过来说，你都没分组，group个屁啊😂`\n",
    "# 1. 分组捕获的基本语法​​\n",
    "​​(1) 简单分组​​：用 (pattern) 包裹需要捕获的部分："
   ]
  },
  {
   "cell_type": "code",
   "execution_count": 7,
   "metadata": {},
   "outputs": [
    {
     "name": "stdout",
     "output_type": "stream",
     "text": [
      "('2023', '10', '05')\n",
      "Date: 2023-10-05\n",
      "2023\n",
      "10\n",
      "05\n"
     ]
    }
   ],
   "source": [
    "import re\n",
    "\n",
    "text = \"Date: 2023-10-05\"\n",
    "pattern = r\"Date: (\\d{4})-(\\d{2})-(\\d{2})\"  # 捕获年、月、日\n",
    "\n",
    "match = re.search(pattern, text)\n",
    "if match:\n",
    "    print(match.groups())  # 输出: ('2023', '10', '05')\n",
    "    print(match.group(0)) # 索引为0时是整个匹配的文本\n",
    "    print(match.group(1))\n",
    "    print(match.group(2))\n",
    "    print(match.group(3))"
   ]
  },
  {
   "cell_type": "markdown",
   "metadata": {},
   "source": [
    "​​- match.groups()​​：返回所有捕获组的元组（按顺序）。\n",
    "\n",
    "​​- match.group(n)​​：获取第 n 个分组（group(0) 是整个匹配文本）。\n",
    "\n",
    "上述例子中，因为是分组捕获，分组分组，肯定是被分成了一组组的，所以可以通过group(n)来访问，🔎详见例子"
   ]
  },
  {
   "cell_type": "markdown",
   "metadata": {},
   "source": [
    "# 2. 分组捕获的常见用途​​\n",
    "​​(1) 提取关键信息​"
   ]
  },
  {
   "cell_type": "code",
   "execution_count": 9,
   "metadata": {},
   "outputs": [
    {
     "name": "stdout",
     "output_type": "stream",
     "text": [
      "('Alice', '25')\n",
      "Alice\n",
      "25\n"
     ]
    }
   ],
   "source": [
    "text = \"Name: Alice, Age: 25\"\n",
    "match = re.search(r\"Name: (\\w+), Age: (\\d+)\", text)\n",
    "print(match.groups())  # 输出: ('Alice', '25')\n",
    "print(match.group(1)) \n",
    "print(match.group(2))  "
   ]
  },
  {
   "cell_type": "markdown",
   "metadata": {},
   "source": [
    "(2) 结合 findall 批量提取​"
   ]
  },
  {
   "cell_type": "code",
   "execution_count": 10,
   "metadata": {},
   "outputs": [
    {
     "name": "stdout",
     "output_type": "stream",
     "text": [
      "['123', '456', '789']\n"
     ]
    }
   ],
   "source": [
    "text = \"user_id=123, user_id=456, user_id=789\"\n",
    "ids = re.findall(r\"user_id=(\\d+)\", text)  # 注意括号位置\n",
    "print(ids)  # 输出: ['123', '456', '789']"
   ]
  },
  {
   "cell_type": "markdown",
   "metadata": {},
   "source": [
    "(3) 替换时引用分组（反向引用）​"
   ]
  },
  {
   "cell_type": "code",
   "execution_count": 11,
   "metadata": {},
   "outputs": [
    {
     "name": "stdout",
     "output_type": "stream",
     "text": [
      "10/05/2023\n"
     ]
    }
   ],
   "source": [
    "text = \"2023-10-05\"\n",
    "new_text = re.sub(r\"(\\d{4})-(\\d{2})-(\\d{2})\", r\"\\2/\\3/\\1\", text)  # 月/日/年\n",
    "print(new_text)  # 输出: 10/05/2023"
   ]
  },
  {
   "cell_type": "markdown",
   "metadata": {},
   "source": [
    "# 3. 非捕获分组（高级用法）​​\n",
    "如果只需要分组但不捕获（不占用 groups() 的返回），可以用 (?:pattern)："
   ]
  },
  {
   "cell_type": "code",
   "execution_count": 26,
   "metadata": {},
   "outputs": [
    {
     "name": "stdout",
     "output_type": "stream",
     "text": [
      "['e', 'e', 'a', 'y']\n",
      "('orange', 'banana')\n"
     ]
    }
   ],
   "source": [
    "text = \"apple orange banana strawberry\"\n",
    "match = re.findall(r\"(?:\\w+)(\\w+)\", text)  # 第一个 `\\w+` 不捕获\n",
    "print(match)  # 输出: ['e', 'e', 'a', 'y']\n",
    "match2 = re.search(r\"(?:\\w+) (\\w+) (\\w+)\", text)  # 第一个 `\\w+` 不捕获\n",
    "print(match2.groups())  # 输出: ('orange', 'banana')"
   ]
  },
  {
   "cell_type": "markdown",
   "metadata": {},
   "source": [
    "​- ​适用场景​​：当分组仅用于逻辑组合（如 | 或量词）时，避免不必要的捕获。"
   ]
  },
  {
   "cell_type": "markdown",
   "metadata": {},
   "source": [
    "🤔疑问：\n",
    "上面的match中，(\\w+) 只捕获最后一个字母，为什么呢？\n",
    "\n",
    "因为 (?:\\w+) 会贪婪匹配，先匹配尽可能多的字符，只留下最后一个字符给后面的 (\\w+) 捕获。比如对于 \"apple\"：\n",
    "\n",
    "(?:\\w+) 匹配 \"appl\"\n",
    "\n",
    "(\\w+) 只能匹配剩下的 \"e\"\n"
   ]
  },
  {
   "cell_type": "markdown",
   "metadata": {},
   "source": [
    "# 4. 命名分组（更易读）​​\n",
    "通过 (?P<name>pattern) 给分组命名，便于后续引用："
   ]
  },
  {
   "cell_type": "code",
   "execution_count": 27,
   "metadata": {},
   "outputs": [
    {
     "name": "stdout",
     "output_type": "stream",
     "text": [
      "2023\n",
      "{'year': '2023', 'month': '10', 'day': '05'}\n"
     ]
    }
   ],
   "source": [
    "text = \"Date: 2023-10-05\"\n",
    "pattern = r\"Date: (?P<year>\\d{4})-(?P<month>\\d{2})-(?P<day>\\d{2})\"\n",
    "\n",
    "match = re.search(pattern, text)\n",
    "print(match.group(\"year\"))   # 输出: '2023'\n",
    "print(match.groupdict())     # 输出: {'year': '2023', 'month': '10', 'day': '05'}"
   ]
  },
  {
   "cell_type": "markdown",
   "metadata": {},
   "source": [
    "# 5. 分组与量词的结合​​\n",
    "分组可以配合量词（*、+、?、{n,m}）使用："
   ]
  },
  {
   "cell_type": "code",
   "execution_count": 28,
   "metadata": {},
   "outputs": [
    {
     "name": "stdout",
     "output_type": "stream",
     "text": [
      "('a', 'bbb', 'cc')\n"
     ]
    }
   ],
   "source": [
    "text = \"abbbcc\"\n",
    "match = re.search(r\"(a)(b+)(c+)\", text)\n",
    "print(match.groups())  # 输出: ('a', 'bbb', 'cc')"
   ]
  },
  {
   "cell_type": "markdown",
   "metadata": {},
   "source": [
    "# 6. 常见问题​​\n",
    "​​(1) 分组 vs. 字符集 []​​\n",
    "- (\\d+) → ​​捕获​​数字序列（如 '123'）。\n",
    "- [\\d]+ → ​​仅匹配​​数字序列，不捕获（等价于 \\d+）。\n",
    "\n",
    "​​(2) 贪婪匹配问题​​：默认情况下，分组是贪婪的（匹配尽可能多的字符）："
   ]
  },
  {
   "cell_type": "code",
   "execution_count": 29,
   "metadata": {},
   "outputs": [
    {
     "name": "stdout",
     "output_type": "stream",
     "text": [
      "hello</div><div>world\n"
     ]
    }
   ],
   "source": [
    "text = \"<div>hello</div><div>world</div>\"\n",
    "match = re.search(r\"<div>(.*)</div>\", text)  # 贪婪匹配\n",
    "print(match.group(1))  # 输出: 'hello</div><div>world'"
   ]
  },
  {
   "cell_type": "markdown",
   "metadata": {},
   "source": [
    "- 改为非贪婪​​:<div>(.*?)</div> → 输出 'hello'。"
   ]
  },
  {
   "cell_type": "markdown",
   "metadata": {},
   "source": [
    "## **总结**\n",
    "\n",
    "|       功能       |        语法         |                    示例                    |\n",
    "| :--------------: | :-----------------: | :----------------------------------------: |\n",
    "| **普通捕获分组** |     `(pattern)`     |            `r\"(\\d{4})-(\\d{2})\"`            |\n",
    "|  **非捕获分组**  |    `(?:pattern)`    |           `r\"(?:\\d{3})-(\\d{4})\"`           |\n",
    "|   **命名分组**   | `(?P<name>pattern)` |            `r\"(?P<year>\\d{4})\"`            |\n",
    "|   **反向引用**   |     `\\1`, `\\2`      | `re.sub(r\"(\\d)\", r\"\\1\\1\", \"a1\")` → `'a11'` |"
   ]
  },
  {
   "cell_type": "markdown",
   "metadata": {},
   "source": [
    "分组捕获是正则表达式的核心功能之一，熟练掌握后可以高效处理文本提取、替换等任务！ 🚀\n",
    "\n"
   ]
  }
 ],
 "metadata": {
  "kernelspec": {
   "display_name": "python练习",
   "language": "python",
   "name": "python3"
  },
  "language_info": {
   "codemirror_mode": {
    "name": "ipython",
    "version": 3
   },
   "file_extension": ".py",
   "mimetype": "text/x-python",
   "name": "python",
   "nbconvert_exporter": "python",
   "pygments_lexer": "ipython3",
   "version": "3.12.9"
  }
 },
 "nbformat": 4,
 "nbformat_minor": 2
}

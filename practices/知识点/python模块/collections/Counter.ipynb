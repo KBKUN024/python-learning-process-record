{
 "cells": [
  {
   "cell_type": "markdown",
   "metadata": {},
   "source": [
    "在 Python 中，collections.Counter 是一个​​高效的计数器工具​​，用于统计可哈希对象（如列表、字符串等）中元素的出现次数。它返回一个类似字典的子类，其中键是元素，值是对应的计数。\n",
    "\n",
    "###  1. 基本用法​​\n",
    "​​(1) 创建 Counter​​\n",
    "\n",
    "可以从​​列表、字符串、元组、字典​​等可迭代对象创建 Counter："
   ]
  },
  {
   "cell_type": "code",
   "execution_count": 1,
   "metadata": {},
   "outputs": [
    {
     "name": "stdout",
     "output_type": "stream",
     "text": [
      "Counter({'INFO': 2, 'WARNING': 2, 'ERROR': 2, 'DEBUG': 1})\n",
      "Counter({'l': 2, 'h': 1, 'e': 1, 'o': 1})\n",
      "Counter({'a': 3, 'b': 2})\n"
     ]
    }
   ],
   "source": [
    "from collections import Counter\n",
    "\n",
    "# 从列表创建\n",
    "lst = ['INFO', 'WARNING', 'ERROR', 'DEBUG', 'INFO', 'WARNING','ERROR']\n",
    "counter = Counter(lst)\n",
    "print(counter)  # Counter({'INFO': 2, 'WARNING': 2, 'ERROR': 2, 'DEBUG': 1})\n",
    "\n",
    "# 从字符串创建\n",
    "s = \"hello\"\n",
    "counter = Counter(s)\n",
    "print(counter)  # Counter({'l': 2, 'h': 1, 'e': 1, 'o': 1})\n",
    "\n",
    "# 从字典创建（手动指定计数）\n",
    "counter = Counter({'a': 3, 'b': 2})\n",
    "print(counter)  # Counter({'a': 3, 'b': 2})"
   ]
  },
  {
   "cell_type": "markdown",
   "metadata": {},
   "source": [
    "(2) 访问计数​​\n",
    "\n",
    "可以像字典一样访问某个元素的计数："
   ]
  },
  {
   "cell_type": "code",
   "execution_count": 4,
   "metadata": {},
   "outputs": [
    {
     "name": "stdout",
     "output_type": "stream",
     "text": [
      "3\n",
      "0\n"
     ]
    }
   ],
   "source": [
    "print(counter['a'])  # 3\n",
    "print(counter['x'])  # 0（不存在的键返回0，不会报错）"
   ]
  },
  {
   "cell_type": "markdown",
   "metadata": {},
   "source": [
    "### 2. 常用方法​​\n",
    "​​(1) most_common(n)：返回出现次数最多的前 n 个元素​"
   ]
  },
  {
   "cell_type": "code",
   "execution_count": 5,
   "metadata": {},
   "outputs": [
    {
     "name": "stdout",
     "output_type": "stream",
     "text": [
      "[('a', 5), ('b', 2), ('r', 2)]\n"
     ]
    }
   ],
   "source": [
    "counter = Counter('abracadabra')\n",
    "print(counter.most_common(3))  # [('a', 5), ('b', 2), ('r', 2)]"
   ]
  },
  {
   "cell_type": "markdown",
   "metadata": {},
   "source": [
    "(2) elements()：返回所有元素的迭代器（按计数重复）​"
   ]
  },
  {
   "cell_type": "code",
   "execution_count": 6,
   "metadata": {},
   "outputs": [
    {
     "name": "stdout",
     "output_type": "stream",
     "text": [
      "['a', 'a', 'a', 'b', 'b', 'c']\n"
     ]
    }
   ],
   "source": [
    "counter = Counter(a=3, b=2, c=1)\n",
    "print(list(counter.elements()))  # ['a', 'a', 'a', 'b', 'b', 'c']"
   ]
  },
  {
   "cell_type": "markdown",
   "metadata": {},
   "source": [
    "(3) update()：合并计数器​"
   ]
  },
  {
   "cell_type": "code",
   "execution_count": 7,
   "metadata": {},
   "outputs": [
    {
     "name": "stdout",
     "output_type": "stream",
     "text": [
      "Counter({'a': 4, 'b': 3, 'c': 1})\n"
     ]
    }
   ],
   "source": [
    "c1 = Counter(a=3, b=1)\n",
    "c2 = Counter(a=1, b=2, c=1)\n",
    "c1.update(c2)\n",
    "print(c1)  # Counter({'a': 4, 'b': 3, 'c': 1})"
   ]
  },
  {
   "cell_type": "markdown",
   "metadata": {},
   "source": [
    "(4) 数学运算（+、-、&、|）​"
   ]
  },
  {
   "cell_type": "code",
   "execution_count": 8,
   "metadata": {},
   "outputs": [
    {
     "name": "stdout",
     "output_type": "stream",
     "text": [
      "Counter({'a': 4, 'b': 3})\n",
      "Counter({'a': 2})\n",
      "Counter({'a': 1, 'b': 1})\n",
      "Counter({'a': 3, 'b': 2})\n"
     ]
    }
   ],
   "source": [
    "c1 = Counter(a=3, b=1)\n",
    "c2 = Counter(a=1, b=2)\n",
    "\n",
    "print(c1 + c2)  # Counter({'a': 4, 'b': 3})\n",
    "print(c1 - c2)  # Counter({'a': 2})（负值会被丢弃）\n",
    "print(c1 & c2)  # Counter({'a': 1, 'b': 1})（取最小值）\n",
    "print(c1 | c2)  # Counter({'a': 3, 'b': 2})（取最大值）"
   ]
  },
  {
   "cell_type": "markdown",
   "metadata": {},
   "source": [
    "### 3. 实际应用示例​​\n",
    "​​(1) 统计单词出现次数​"
   ]
  },
  {
   "cell_type": "code",
   "execution_count": 12,
   "metadata": {},
   "outputs": [
    {
     "name": "stdout",
     "output_type": "stream",
     "text": [
      "Counter({'apple': 3, 'banana': 2, 'orange': 1})\n",
      "key: apple, value: 3\n",
      "key: banana, value: 2\n",
      "key: orange, value: 1\n"
     ]
    }
   ],
   "source": [
    "words = [\"apple\", \"banana\", \"apple\", \"orange\", \"banana\", \"apple\"]\n",
    "word_counter = Counter(words)\n",
    "print(word_counter)  # Counter({'apple': 3, 'banana': 2, 'orange': 1})\n",
    "for key,value in word_counter.items():\n",
    "    print(f'key: {key}, value: {value}')"
   ]
  },
  {
   "cell_type": "markdown",
   "metadata": {},
   "source": [
    "​​(2) 找出列表中最常见的元素​​\n"
   ]
  },
  {
   "cell_type": "code",
   "execution_count": 13,
   "metadata": {},
   "outputs": [
    {
     "name": "stdout",
     "output_type": "stream",
     "text": [
      "[(1, 4)]\n"
     ]
    }
   ],
   "source": [
    "lst = [1, 2, 3, 1, 2, 3, 4, 1, 1, 2]\n",
    "counter = Counter(lst)\n",
    "print(counter.most_common(1))  # [(1, 4)]"
   ]
  },
  {
   "cell_type": "markdown",
   "metadata": {},
   "source": [
    "​​(3) 统计字符频率（可用于词云分析）​​\n"
   ]
  },
  {
   "cell_type": "code",
   "execution_count": 14,
   "metadata": {},
   "outputs": [
    {
     "name": "stdout",
     "output_type": "stream",
     "text": [
      "[(' ', 6), ('s', 4), ('y', 3)]\n"
     ]
    }
   ],
   "source": [
    "text = \"python is awesome and python is easy\"\n",
    "char_counter = Counter(text)\n",
    "print(char_counter.most_common(3))  # [(' ', 6), ('p', 2), ('y', 2)]"
   ]
  },
  {
   "cell_type": "markdown",
   "metadata": {},
   "source": [
    "### 4. 注意事项​​\n",
    "- Counter 会自动处理不存在的键，返回 0（不会报 KeyError）。\n",
    "- 计数可以是 0 或负数（但 most_common() 会忽略 ≤0 的计数）。\n",
    "- 适用于​​大数据统计​​，比手动循环计数更高效。"
   ]
  },
  {
   "cell_type": "markdown",
   "metadata": {},
   "source": [
    "### 总结​​\n",
    "|           方法           |          说明           |\n",
    "| :----------------------: | :---------------------: |\n",
    "|   `Counter(iterable)`    |       创建计数器        |\n",
    "|      `counter[key]`      |   获取某个元素的计数    |\n",
    "| `counter.most_common(n)` | 返回前 n 个最常见的元素 |\n",
    "|   `counter.elements()`   |  返回所有元素的迭代器   |\n",
    "| `counter.update(other)`  |    合并另一个计数器     |\n",
    "|    `+`, `-`, `&`, `|`    |        数学运算         |\n",
    "\n",
    "Counter 是 Python 中处理计数任务的高效工具，特别适合​​数据分析、文本处理、词频统计​​等场景。 🚀"
   ]
  }
 ],
 "metadata": {
  "kernelspec": {
   "display_name": "python练习",
   "language": "python",
   "name": "python3"
  },
  "language_info": {
   "codemirror_mode": {
    "name": "ipython",
    "version": 3
   },
   "file_extension": ".py",
   "mimetype": "text/x-python",
   "name": "python",
   "nbconvert_exporter": "python",
   "pygments_lexer": "ipython3",
   "version": "3.12.9"
  }
 },
 "nbformat": 4,
 "nbformat_minor": 2
}

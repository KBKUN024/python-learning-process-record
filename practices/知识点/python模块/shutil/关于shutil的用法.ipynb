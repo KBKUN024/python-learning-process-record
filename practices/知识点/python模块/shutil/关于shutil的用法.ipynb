{
 "cells": [
  {
   "cell_type": "markdown",
   "metadata": {
    "vscode": {
     "languageId": "raw"
    }
   },
   "source": [
    "# 关于 shutil 模块的用法\n",
    "\n",
    "`shutil` (shell utilities) 是 Python 标准库中提供高级文件和目录操作的模块，补充了 `os` 模块的功能。\n"
   ]
  },
  {
   "cell_type": "code",
   "execution_count": null,
   "metadata": {},
   "outputs": [],
   "source": [
    "import shutil\n",
    "import os\n"
   ]
  },
  {
   "cell_type": "markdown",
   "metadata": {
    "vscode": {
     "languageId": "raw"
    }
   },
   "source": [
    "## 1. 文件操作\n",
    "\n",
    "### 文件复制\n",
    "- `shutil.copy(src, dst)` - 复制文件（保留权限）\n",
    "- `shutil.copy2(src, dst)` - 复制文件（保留所有元数据）\n",
    "- `shutil.copyfile(src, dst)` - 仅复制文件内容\n",
    "- `shutil.copymode(src, dst)` - 复制权限\n",
    "- `shutil.copystat(src, dst)` - 复制统计信息\n",
    "- `shutil.copytree(src, dst)` - 递归复制整个目录树\n",
    "\n",
    "### 文件移动和重命名\n",
    "- `shutil.move(src, dst)` - 移动文件或目录\n"
   ]
  },
  {
   "cell_type": "code",
   "execution_count": null,
   "metadata": {},
   "outputs": [],
   "source": [
    "# 文件操作示例\n",
    "# 注意：这些是演示代码，实际运行需要确保文件存在\n",
    "\n",
    "# 复制文件的不同方式\n",
    "# shutil.copy('source.txt', 'destination.txt')        # 复制文件和权限\n",
    "# shutil.copy2('source.txt', 'destination2.txt')      # 复制文件和所有元数据\n",
    "# shutil.copyfile('source.txt', 'destination3.txt')   # 仅复制文件内容\n",
    "\n",
    "# 复制整个目录\n",
    "# shutil.copytree('source_dir', 'destination_dir')\n",
    "\n",
    "# 移动文件或目录\n",
    "# shutil.move('old_location.txt', 'new_location.txt')\n",
    "\n",
    "print(\"文件操作示例（代码演示，实际需要文件存在才能执行）\")\n"
   ]
  },
  {
   "cell_type": "markdown",
   "metadata": {
    "vscode": {
     "languageId": "raw"
    }
   },
   "source": [
    "## 2. 目录操作\n",
    "\n",
    "### 目录删除\n",
    "- `shutil.rmtree(path)` - 递归删除目录树\n",
    "- `shutil.rmtree(path, ignore_errors=True)` - 忽略错误删除\n",
    "- `shutil.rmtree(path, onerror=handler)` - 自定义错误处理\n",
    "\n",
    "### 目录权限和所有权\n",
    "- `shutil.chown(path, user=None, group=None)` - 修改所有权\n",
    "- `shutil.which(cmd)` - 查找可执行文件路径\n"
   ]
  },
  {
   "cell_type": "code",
   "execution_count": null,
   "metadata": {},
   "outputs": [],
   "source": [
    "# 目录操作示例\n",
    "# 查找可执行文件\n",
    "python_path = shutil.which('python')\n",
    "print(\"Python 可执行文件路径:\", python_path)\n",
    "\n",
    "git_path = shutil.which('git')\n",
    "print(\"Git 可执行文件路径:\", git_path)\n",
    "\n",
    "# 目录删除示例（注释掉以免误删）\n",
    "# 创建测试目录\n",
    "# os.makedirs('test_dir/sub_dir', exist_ok=True)\n",
    "# with open('test_dir/test_file.txt', 'w') as f:\n",
    "#     f.write('test content')\n",
    "\n",
    "# 删除整个目录树\n",
    "# shutil.rmtree('test_dir')\n",
    "# print(\"目录已删除\")\n",
    "\n",
    "print(\"目录操作示例完成\")\n"
   ]
  },
  {
   "cell_type": "markdown",
   "metadata": {
    "vscode": {
     "languageId": "raw"
    }
   },
   "source": [
    "## 3. 压缩和解压\n",
    "\n",
    "### 支持的压缩格式\n",
    "- `shutil.make_archive(base_name, format, root_dir)` - 创建压缩包\n",
    "  - format: 'zip', 'tar', 'bztar', 'xztar', 'gztar'\n",
    "- `shutil.unpack_archive(filename, extract_dir)` - 解压文件\n",
    "- `shutil.get_archive_formats()` - 获取支持的压缩格式\n",
    "- `shutil.get_unpack_formats()` - 获取支持的解压格式\n",
    "\n",
    "### 压缩包注册\n",
    "- `shutil.register_archive_format()` - 注册新的压缩格式\n",
    "- `shutil.register_unpack_format()` - 注册新的解压格式\n"
   ]
  },
  {
   "cell_type": "code",
   "execution_count": null,
   "metadata": {},
   "outputs": [],
   "source": [
    "# 压缩和解压示例\n",
    "# 查看支持的格式\n",
    "print(\"支持的压缩格式:\", shutil.get_archive_formats())\n",
    "print(\"支持的解压格式:\", shutil.get_unpack_formats())\n",
    "\n",
    "# 压缩示例（注释掉以免创建不必要的文件）\n",
    "# 创建 zip 压缩包\n",
    "# shutil.make_archive('backup', 'zip', 'practices')\n",
    "\n",
    "# 创建 tar.gz 压缩包  \n",
    "# shutil.make_archive('backup', 'gztar', 'practices')\n",
    "\n",
    "# 解压示例\n",
    "# shutil.unpack_archive('backup.zip', 'extracted_folder')\n",
    "\n",
    "print(\"压缩解压示例完成（实际操作已注释）\")\n"
   ]
  },
  {
   "cell_type": "markdown",
   "metadata": {
    "vscode": {
     "languageId": "raw"
    }
   },
   "source": [
    "## 4. 磁盘使用情况\n",
    "\n",
    "### 磁盘空间查询\n",
    "- `shutil.disk_usage(path)` - 获取磁盘使用情况\n",
    "  - 返回 `(total, used, free)` 元组（字节为单位）\n",
    "\n",
    "### 终端大小\n",
    "- `shutil.get_terminal_size(fallback=(columns, lines))` - 获取终端大小\n"
   ]
  },
  {
   "cell_type": "code",
   "execution_count": null,
   "metadata": {},
   "outputs": [],
   "source": [
    "# 磁盘使用情况示例\n",
    "# 获取当前目录的磁盘使用情况\n",
    "total, used, free = shutil.disk_usage('.')\n",
    "\n",
    "print(\"磁盘使用情况:\")\n",
    "print(f\"  总容量: {total // (1024**3)} GB\")\n",
    "print(f\"  已使用: {used // (1024**3)} GB\") \n",
    "print(f\"  可用空间: {free // (1024**3)} GB\")\n",
    "\n",
    "# 获取终端大小\n",
    "terminal_size = shutil.get_terminal_size()\n",
    "print(f\"\\n终端大小: {terminal_size.columns} x {terminal_size.lines}\")\n"
   ]
  },
  {
   "cell_type": "markdown",
   "metadata": {
    "vscode": {
     "languageId": "raw"
    }
   },
   "source": [
    "## 5. 实际开发中的注意事项\n",
    "\n",
    "### 性能考虑\n",
    "- `shutil.copy2()` 比 `shutil.copy()` 慢，因为要复制元数据\n",
    "- `shutil.copytree()` 复制大目录时可能很慢\n",
    "- 使用 `shutil.move()` 在同一文件系统内移动文件很快\n",
    "\n",
    "### 错误处理\n",
    "- 复制操作可能因权限不足而失败\n",
    "- `shutil.rmtree()` 删除只读文件可能失败\n",
    "- 压缩操作可能因磁盘空间不足而失败\n",
    "\n",
    "### 安全考虑\n",
    "- 验证文件路径，防止路径遍历攻击\n",
    "- 检查目标位置的可用空间\n",
    "- 谨慎使用 `shutil.rmtree()`，可能导致数据丢失\n"
   ]
  },
  {
   "cell_type": "code",
   "execution_count": null,
   "metadata": {},
   "outputs": [],
   "source": [
    "# 综合示例：安全的文件操作\n",
    "def safe_copy_with_backup(src, dst):\n",
    "    \"\"\"安全地复制文件，如果目标存在则创建备份\"\"\"\n",
    "    src_path = Path(src)\n",
    "    dst_path = Path(dst)\n",
    "    \n",
    "    if not src_path.exists():\n",
    "        print(f\"源文件不存在: {src}\")\n",
    "        return False\n",
    "    \n",
    "    # 如果目标文件存在，创建备份\n",
    "    if dst_path.exists():\n",
    "        backup_path = dst_path.with_suffix(dst_path.suffix + '.backup')\n",
    "        shutil.copy2(dst_path, backup_path)\n",
    "        print(f\"已创建备份: {backup_path}\")\n",
    "    \n",
    "    # 复制文件\n",
    "    shutil.copy2(src_path, dst_path)\n",
    "    print(f\"文件已复制: {src} -> {dst}\")\n",
    "    return True\n",
    "\n",
    "# 演示函数（不实际执行）\n",
    "print(\"安全复制函数定义完成\")\n"
   ]
  }
 ],
 "metadata": {
  "language_info": {
   "name": "python"
  }
 },
 "nbformat": 4,
 "nbformat_minor": 2
}

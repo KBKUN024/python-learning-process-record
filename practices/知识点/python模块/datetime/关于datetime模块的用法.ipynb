{
 "cells": [
  {
   "cell_type": "markdown",
   "metadata": {
    "vscode": {
     "languageId": "raw"
    }
   },
   "source": [
    "# Python datetime 模块用法\n",
    "\n",
    "## 基本概念\n",
    "`datetime` 模块是Python标准库，用于处理日期和时间数据。\n",
    "\n",
    "## 核心类\n",
    "- `datetime.datetime` - 日期时间对象（年月日时分秒）\n",
    "- `datetime.date` - 日期对象（年月日）\n",
    "- `datetime.time` - 时间对象（时分秒）\n",
    "- `datetime.timedelta` - 时间间隔对象\n"
   ]
  },
  {
   "cell_type": "code",
   "execution_count": 1,
   "metadata": {},
   "outputs": [
    {
     "name": "stdout",
     "output_type": "stream",
     "text": [
      "现在: 2025-06-06 18:12:12.378015\n",
      "今天: 2025-06-06\n",
      "指定日期时间: 2023-12-25 14:30:00\n",
      "指定日期: 2023-12-25\n",
      "指定时间: 14:30:00\n"
     ]
    }
   ],
   "source": [
    "from datetime import datetime, date, time, timedelta\n",
    "\n",
    "# 1. 获取当前时间\n",
    "now = datetime.now()          # 当前日期时间\n",
    "today = date.today()          # 当前日期\n",
    "print(\"现在:\", now)\n",
    "print(\"今天:\", today)\n",
    "\n",
    "# 2. 创建指定日期时间\n",
    "dt = datetime(2023, 12, 25, 14, 30, 0)  # 2023-12-25 14:30:00\n",
    "d = date(2023, 12, 25)                  # 2023-12-25\n",
    "t = time(14, 30, 0)                     # 14:30:00\n",
    "print(\"指定日期时间:\", dt)\n",
    "print(\"指定日期:\", d)\n",
    "print(\"指定时间:\", t)\n"
   ]
  },
  {
   "cell_type": "markdown",
   "metadata": {
    "vscode": {
     "languageId": "raw"
    }
   },
   "source": [
    "## 日期时间格式化\n",
    "\n",
    "### strftime() - 对象转字符串\n",
    "将datetime对象格式化为字符串\n",
    "\n",
    "### strptime() - 字符串转对象  \n",
    "将字符串解析为datetime对象\n",
    "\n",
    "### 常用格式符号\n",
    "- `%Y` - 四位年份\n",
    "- `%m` - 月份(01-12)\n",
    "- `%d` - 日期(01-31)\n",
    "- `%H` - 小时(00-23)\n",
    "- `%M` - 分钟(00-59)\n",
    "- `%S` - 秒数(00-59)\n"
   ]
  },
  {
   "cell_type": "code",
   "execution_count": 2,
   "metadata": {},
   "outputs": [
    {
     "name": "stdout",
     "output_type": "stream",
     "text": [
      "格式化: 2025-06-06 20:05:20\n",
      "中文格式: 2025年06月06日 20时05分\n",
      "解析结果: 2023-12-25 15:30:00\n",
      "简单日期: 2025-06-06\n",
      "简单时间: 20:05:20\n",
      "ISO格式: 2025-06-06T20:05:20.303830\n"
     ]
    }
   ],
   "source": [
    "# 格式化和解析示例\n",
    "\n",
    "# 1. 格式化：对象 -> 字符串\n",
    "now = datetime.now()\n",
    "formatted = now.strftime(\"%Y-%m-%d %H:%M:%S\")\n",
    "print(\"格式化:\", formatted)  # 2024-01-15 14:30:25\n",
    "\n",
    "chinese_format = now.strftime(\"%Y年%m月%d日 %H时%M分\")\n",
    "print(\"中文格式:\", chinese_format)  # 2024年01月15日 14时30分\n",
    "\n",
    "# 2. 解析：字符串 -> 对象\n",
    "date_str = \"2023-12-25 15:30:00\"\n",
    "parsed_dt = datetime.strptime(date_str, \"%Y-%m-%d %H:%M:%S\")\n",
    "print(\"解析结果:\", parsed_dt)\n",
    "\n",
    "# 3. 常用格式\n",
    "simple_date = now.strftime(\"%Y-%m-%d\")        # 2024-01-15\n",
    "simple_time = now.strftime(\"%H:%M:%S\")        # 14:30:25\n",
    "iso_format = now.isoformat()                  # 2024-01-15T14:30:25.123456\n",
    "print(\"简单日期:\", simple_date)\n",
    "print(\"简单时间:\", simple_time)\n",
    "print(\"ISO格式:\", iso_format)\n"
   ]
  },
  {
   "cell_type": "markdown",
   "metadata": {
    "vscode": {
     "languageId": "raw"
    }
   },
   "source": [
    "## 时间间隔操作 - timedelta\n",
    "\n",
    "用于表示两个日期或时间之间的差值，也可用于日期时间的加减运算。\n",
    "\n",
    "### 创建时间间隔\n",
    "```python\n",
    "timedelta(days=1, hours=2, minutes=30)\n",
    "```\n",
    "\n",
    "### 支持的参数\n",
    "- `days`, `hours`, `minutes`, `seconds`, `microseconds`, `milliseconds`, `weeks`\n"
   ]
  },
  {
   "cell_type": "code",
   "execution_count": null,
   "metadata": {},
   "outputs": [],
   "source": [
    "# timedelta 时间间隔操作\n",
    "\n",
    "now = datetime.now()\n",
    "\n",
    "# 1. 创建时间间隔\n",
    "one_day = timedelta(days=1)\n",
    "one_week = timedelta(weeks=1)\n",
    "mixed_delta = timedelta(days=2, hours=3, minutes=30)\n",
    "\n",
    "# 2. 日期时间加减\n",
    "tomorrow = now + one_day\n",
    "yesterday = now - one_day\n",
    "next_week = now + one_week\n",
    "future_time = now + mixed_delta\n",
    "\n",
    "print(\"现在:\", now.strftime(\"%Y-%m-%d %H:%M\"))\n",
    "print(\"明天:\", tomorrow.strftime(\"%Y-%m-%d %H:%M\"))\n",
    "print(\"昨天:\", yesterday.strftime(\"%Y-%m-%d %H:%M\"))\n",
    "print(\"下周:\", next_week.strftime(\"%Y-%m-%d %H:%M\"))\n",
    "print(\"2天3小时30分后:\", future_time.strftime(\"%Y-%m-%d %H:%M\"))\n",
    "\n",
    "# 3. 计算时间差\n",
    "start_date = datetime(2023, 1, 1)\n",
    "end_date = datetime(2023, 12, 31)\n",
    "time_diff = end_date - start_date\n",
    "print(\"时间差:\", time_diff.days, \"天\")\n"
   ]
  },
  {
   "cell_type": "markdown",
   "metadata": {
    "vscode": {
     "languageId": "raw"
    }
   },
   "source": [
    "## 常用属性和方法\n",
    "\n",
    "### datetime对象属性\n",
    "- `.year`, `.month`, `.day` - 年月日\n",
    "- `.hour`, `.minute`, `.second` - 时分秒\n",
    "- `.weekday()` - 星期几(0=周一, 6=周日)\n",
    "\n",
    "### 实用方法\n",
    "- `.replace()` - 替换特定部分\n",
    "- `.date()` - 提取日期部分\n",
    "- `.time()` - 提取时间部分\n"
   ]
  },
  {
   "cell_type": "code",
   "execution_count": null,
   "metadata": {},
   "outputs": [],
   "source": [
    "# 常用属性和方法示例\n",
    "\n",
    "dt = datetime(2023, 12, 25, 14, 30, 45)\n",
    "\n",
    "# 1. 访问属性\n",
    "print(\"年:\", dt.year)        # 2023\n",
    "print(\"月:\", dt.month)       # 12\n",
    "print(\"日:\", dt.day)         # 25\n",
    "print(\"时:\", dt.hour)        # 14\n",
    "print(\"分:\", dt.minute)      # 30\n",
    "print(\"秒:\", dt.second)      # 45\n",
    "\n",
    "# 2. 星期几\n",
    "weekdays = ['周一', '周二', '周三', '周四', '周五', '周六', '周日']\n",
    "print(\"星期几:\", weekdays[dt.weekday()])  # 0=周一\n",
    "\n",
    "# 3. 替换部分内容\n",
    "new_year = dt.replace(year=2024)\n",
    "new_time = dt.replace(hour=9, minute=0, second=0)\n",
    "print(\"改年份:\", new_year)\n",
    "print(\"改时间:\", new_time)\n",
    "\n",
    "# 4. 提取日期和时间部分\n",
    "date_part = dt.date()        # date对象\n",
    "time_part = dt.time()        # time对象\n",
    "print(\"日期部分:\", date_part)\n",
    "print(\"时间部分:\", time_part)\n"
   ]
  },
  {
   "cell_type": "markdown",
   "metadata": {
    "vscode": {
     "languageId": "raw"
    }
   },
   "source": [
    "## 注意事项\n",
    "\n",
    "1. **时区问题**：默认创建的是无时区信息的\"天真\"datetime对象\n",
    "2. **格式匹配**：`strptime()` 的格式字符串必须与输入字符串完全匹配\n",
    "3. **月份范围**：月份是1-12，不是0-11（与某些语言不同）\n",
    "4. **性能考虑**：频繁的格式化操作可能影响性能\n",
    "\n",
    "```python\n",
    "# 常用快捷操作\n",
    "from datetime import datetime\n",
    "\n",
    "# 今天零点\n",
    "today_start = datetime.now().replace(hour=0, minute=0, second=0, microsecond=0)\n",
    "\n",
    "# 获取时间戳\n",
    "timestamp = datetime.now().timestamp()\n",
    "\n",
    "# 从时间戳创建\n",
    "dt_from_timestamp = datetime.fromtimestamp(timestamp)\n",
    "```\n"
   ]
  }
 ],
 "metadata": {
  "kernelspec": {
   "display_name": "python练习",
   "language": "python",
   "name": "python3"
  },
  "language_info": {
   "codemirror_mode": {
    "name": "ipython",
    "version": 3
   },
   "file_extension": ".py",
   "mimetype": "text/x-python",
   "name": "python",
   "nbconvert_exporter": "python",
   "pygments_lexer": "ipython3",
   "version": "3.12.9"
  }
 },
 "nbformat": 4,
 "nbformat_minor": 2
}

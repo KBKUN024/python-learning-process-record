{
 "cells": [
  {
   "cell_type": "markdown",
   "metadata": {},
   "source": [
    "### 描述\n",
    "\n",
    "isinstance() 函数来判断一个对象是否是一个已知的类型，类似 type()。\n",
    "\n",
    "`isinstance() 与 type() 区别：`\n",
    "\n",
    "- type() 不会认为子类是一种父类类型，不考虑继承关系。\n",
    "- isinstance() 会认为子类是一种父类类型，考虑继承关系。\n",
    "\n",
    "如果要`判断两个类型是否相同`**推荐使用** `isinstance()`。\n",
    "\n",
    "### 语法\n",
    "\n",
    "以下是 isinstance() 方法的语法:\n",
    "\n",
    "`isinstance(object, classinfo)`\n",
    "\n",
    "### 参数\n",
    "\n",
    "- object -- 实例对象。\n",
    "- classinfo -- 可以是直接或间接类名、基本类型或者由它们组成的元组。\n",
    "\n",
    "### 返回值\n",
    "\n",
    "如果对象的类型与参数二的类型（classinfo）相同则返回 True，否则返回 False。\n",
    "\n",
    "## 实例\n",
    "\n",
    "以下展示了使用 isinstance 函数的实例：\n"
   ]
  },
  {
   "cell_type": "code",
   "execution_count": 2,
   "metadata": {},
   "outputs": [
    {
     "name": "stdout",
     "output_type": "stream",
     "text": [
      "True\n",
      "False\n",
      "True\n"
     ]
    }
   ],
   "source": [
    "a = 2\n",
    "print(isinstance(a, int))\n",
    "print(isinstance(a, str))\n",
    "print(isinstance(a, (str, int, list)))  # 是元组中的一个返回 True"
   ]
  },
  {
   "cell_type": "markdown",
   "metadata": {},
   "source": [
    "### type() 与 isinstance()区别：\n"
   ]
  },
  {
   "cell_type": "code",
   "execution_count": 4,
   "metadata": {},
   "outputs": [
    {
     "name": "stdout",
     "output_type": "stream",
     "text": [
      "True\n",
      "True\n",
      "True\n",
      "False\n"
     ]
    }
   ],
   "source": [
    "class A:\n",
    "    pass\n",
    "\n",
    "\n",
    "class B(A):\n",
    "    pass\n",
    "\n",
    "\n",
    "print(isinstance(A(), A))  # returns True\n",
    "print(type(A()) == A)  # returns True\n",
    "print(isinstance(B(), A))  # returns True\n",
    "print(type(B()) == A)  # returns False"
   ]
  },
  {
   "cell_type": "markdown",
   "metadata": {},
   "source": [
    "isinstance(object, classinfo) 就是用来检查 object 是否是 classinfo 的实例。"
   ]
  }
 ],
 "metadata": {
  "kernelspec": {
   "display_name": "python练习",
   "language": "python",
   "name": "python3"
  },
  "language_info": {
   "codemirror_mode": {
    "name": "ipython",
    "version": 3
   },
   "file_extension": ".py",
   "mimetype": "text/x-python",
   "name": "python",
   "nbconvert_exporter": "python",
   "pygments_lexer": "ipython3",
   "version": "3.12.9"
  }
 },
 "nbformat": 4,
 "nbformat_minor": 2
}

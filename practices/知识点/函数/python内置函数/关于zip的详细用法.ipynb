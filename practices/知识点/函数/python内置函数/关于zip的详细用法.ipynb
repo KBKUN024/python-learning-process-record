{
 "cells": [
  {
   "cell_type": "code",
   "execution_count": 5,
   "metadata": {},
   "outputs": [
    {
     "name": "stdout",
     "output_type": "stream",
     "text": [
      "zip(a,b) <zip object at 0x120811940>\n",
      "zip(a,c) <zip object at 0x120813440>\n",
      "zip(b,c) <zip object at 0x120812700>\n",
      "zipped: [(1, 4), (2, 5), (3, 6)]\n",
      "li2: [(1, 2, 3), (4, 5, 6)]\n"
     ]
    }
   ],
   "source": [
    "a = [1,2,3]\n",
    "b = [4,5,6]\n",
    "c = [4,5,6,7,8]\n",
    "print('zip(a,b)',zip(a,b))\n",
    "print('zip(a,c)',zip(a,c))\n",
    "print('zip(b,c)',zip(b,c))\n",
    "zipped = list(zip(a,b))\n",
    "print('zipped:',zipped)\n",
    "li2 = zip(*zip(a,b)) # 与 zip 相反，zip(*) 可理解为解压\n",
    "print('li2:',list(li2))"
   ]
  },
  {
   "cell_type": "markdown",
   "metadata": {},
   "source": [
    "#### 请问，*zip(a,b)得到的结果是什么？为什么list(zip(*zip(a,b)))会得到[(1, 2, 3), (4, 5, 6)]，如何才能得到[[1, 2, 3], [4, 5, 6)]]?\n",
    "***zip(a,b) 的结果解析**\n",
    "\n",
    "`*zip(a,b)` 的作用是将 `zip(a,b)` 的结果进行解包`（unpacking）`：\n",
    "```python\n",
    "zip(a,b) → [(1,4), (2,5), (3,6)]\n",
    "*zip(a,b) → (1,4), (2,5), (3,6)  # 解包成独立的元组\n",
    "```\n",
    "`list(zip(*zip(a,b)))` 得到 `[(1,2,3), (4,5,6)]` 的原理：\n",
    "\n",
    "1. zip(a,b) 先配对：创建了一个迭代器<zip object at 0x120811940>\n",
    "2. *zip(a,b) 解包：解包创建的迭代器(1,4), (2,5), (3,6)\n",
    "3. zip(*zip(a,b)) 等价于 zip((1,4), (2,5), (3,6))\n",
    "4. 重新按位置配对：第0位配对(1,2,3)，第1位配对(4,5,6)\n",
    "\n",
    "如何得到 `[[1,2,3], [4,5,6]]`（列表而非元组）：\n",
    "```python\n",
    "# 方法1：使用列表推导式\n",
    "result = [list(t) for t in zip(*zip(a,b))]\n",
    "\n",
    "# 方法2：使用 map\n",
    "result = list(map(list, zip(*zip(a,b))))\n",
    "```\n",
    "这样就能将元组转换为列表格式。\n",
    "\n",
    "---"
   ]
  },
  {
   "cell_type": "markdown",
   "metadata": {},
   "source": [
    "```python\n",
    "args_example = (25, \"张三\", 95.5)\n",
    "types_example = (int, str, float)\n",
    "```\n",
    "##### 疑问：`zip(args_example, types_example)`返回的类型是zip类型，而且输出是一个`<class zip 0xxxxxxx>`这样的可迭代对象，这个可迭代对象有具体的值吗？例子中由args_example和types_example使用zip打包成的是:(25,int),(\"张三\",str),(95.5,float)吗？但是这个似乎不是可迭代对象，既不是列表，又不是元组，也不是字典，更不是集合。但是对它进行list()操作却能生成一个这样的列表：`[(25,int),(\"张三\",str),(95.5,float)]`\n",
    "#### 解答：\n",
    "zip() 返回的是一个 `迭代器对象（zip iterator）`，它确实包含配对的元组：`(25, int)`,` (\"张三\", str)`, `(95.5, float)`，所以zip()返回的并不是什么元组，或者说不是任何容器类型。\n",
    "关键点：\n",
    "- 迭代器 是可迭代对象的一种特殊形式，**`但它不是容器类型（列表/元组/字典/集合）`**\n",
    "- 它采用 惰性求值：只有在被消费时（如list()、for循环）才实际生成值\n",
    "- 这样设计是为了 内存效率 - 不会立即创建所有元组，而是按需生成\n",
    "验证：\n",
    "```python\n",
    "# zip对象确实有值，只是以迭代器形式存在\n",
    "z = zip(args_example, types_example)\n",
    "print(next(z))  # 输出: (25, <class 'int'>)\n",
    "print(next(z))  # 输出: ('张三', <class 'str'>)\n",
    "```\n",
    "注意： 迭代器是一次性的，消费完后就空了，这就是为什么通常用list(zip(...))来查看内容。"
   ]
  },
  {
   "cell_type": "markdown",
   "metadata": {},
   "source": []
  }
 ],
 "metadata": {
  "kernelspec": {
   "display_name": "python练习",
   "language": "python",
   "name": "python3"
  },
  "language_info": {
   "codemirror_mode": {
    "name": "ipython",
    "version": 3
   },
   "file_extension": ".py",
   "mimetype": "text/x-python",
   "name": "python",
   "nbconvert_exporter": "python",
   "pygments_lexer": "ipython3",
   "version": "3.12.9"
  }
 },
 "nbformat": 4,
 "nbformat_minor": 2
}

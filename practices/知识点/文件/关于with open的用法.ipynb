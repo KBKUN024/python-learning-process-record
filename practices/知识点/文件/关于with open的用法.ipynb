{
 "cells": [
  {
   "cell_type": "markdown",
   "metadata": {
    "vscode": {
     "languageId": "raw"
    }
   },
   "source": [
    "# Python with open 用法\n",
    "\n",
    "## 基本概念\n",
    "`with open` 是Python的上下文管理器语法，用于安全地打开和关闭文件。\n",
    "\n",
    "## 语法格式\n",
    "```python\n",
    "with open(filename, mode, encoding) as file:\n",
    "    # 文件操作\n",
    "    pass\n",
    "# 文件自动关闭\n",
    "```\n",
    "\n",
    "## 核心特点\n",
    "- **自动关闭文件**：无论是否出现异常，文件都会被正确关闭\n",
    "- **异常安全**：即使代码出错，资源也会被正确释放\n",
    "- **简洁语法**：比传统的try-finally更简洁\n"
   ]
  },
  {
   "cell_type": "code",
   "execution_count": null,
   "metadata": {},
   "outputs": [],
   "source": [
    "# 基本用法示例\n",
    "\n",
    "# 1. 读取文件\n",
    "with open('example.txt', 'r', encoding='utf-8') as file:\n",
    "    content = file.read()\n",
    "    print(\"文件内容:\", content)\n",
    "\n",
    "# 2. 写入文件\n",
    "with open('output.txt', 'w', encoding='utf-8') as file:\n",
    "    file.write('Hello, World!')\n",
    "\n",
    "# 3. 追加文件\n",
    "with open('log.txt', 'a', encoding='utf-8') as file:\n",
    "    file.write('新的日志记录\\n')\n",
    "\n",
    "# 4. 逐行读取\n",
    "with open('data.txt', 'r', encoding='utf-8') as file:\n",
    "    for line in file:\n",
    "        print(line.strip())  # strip()去除换行符\n"
   ]
  },
  {
   "cell_type": "markdown",
   "metadata": {
    "vscode": {
     "languageId": "raw"
    }
   },
   "source": [
    "## 文件打开模式\n",
    "\n",
    "| 模式 | 说明 | 文件不存在时 |\n",
    "|------|------|-------------|\n",
    "| `'r'` | 只读（默认） | 抛出异常 |\n",
    "| `'w'` | 写入（覆盖） | 创建新文件 |\n",
    "| `'a'` | 追加写入 | 创建新文件 |\n",
    "| `'x'` | 独占创建 | 创建新文件，已存在则异常 |\n",
    "| `'r+'` | 读写 | 抛出异常 |\n",
    "| `'w+'` | 读写（覆盖） | 创建新文件 |\n"
   ]
  },
  {
   "cell_type": "markdown",
   "metadata": {
    "vscode": {
     "languageId": "raw"
    }
   },
   "source": [
    "## open() 函数完整参数\n",
    "\n",
    "```python\n",
    "open(file, mode='r', buffering=-1, encoding=None, \n",
    "     errors=None, newline=None, closefd=True, opener=None)\n",
    "```\n",
    "\n",
    "### 重要参数详解\n",
    "\n",
    "| 参数 | 说明 | 默认值 | 示例 |\n",
    "|------|------|--------|------|\n",
    "| `encoding` | 文件编码格式 | None（系统默认） | `'utf-8'`, `'gbk'` |\n",
    "| `newline` | 换行符处理方式 | None | `''`, `'\\n'`, `'\\r\\n'` |\n",
    "| `buffering` | 缓冲策略 | -1（系统默认） | `0`（无缓冲）, `1`（行缓冲） |\n",
    "| `errors` | 编码错误处理 | 'strict' | `'ignore'`, `'replace'` |\n"
   ]
  },
  {
   "cell_type": "code",
   "execution_count": null,
   "metadata": {},
   "outputs": [],
   "source": [
    "# 重要参数演示\n",
    "\n",
    "# 1. newline参数 - 控制换行符处理\n",
    "print(\"=== newline参数演示 ===\")\n",
    "\n",
    "# 创建带不同换行符的测试文件\n",
    "test_data = \"第一行\\n第二行\\r\\n第三行\\r第四行\"\n",
    "with open('newline_test.txt', 'w', encoding='utf-8', newline='') as f:\n",
    "    f.write(test_data)\n",
    "\n",
    "# newline=None (默认) - 统一转换为\\n\n",
    "with open('newline_test.txt', 'r', encoding='utf-8') as f:\n",
    "    content = f.read()\n",
    "    print(\"newline=None:\", repr(content))\n",
    "\n",
    "# newline='' - 保持原始换行符\n",
    "with open('newline_test.txt', 'r', encoding='utf-8', newline='') as f:\n",
    "    content = f.read()\n",
    "    print(\"newline='':\", repr(content))\n",
    "\n",
    "# newline='\\n' - 只识别\\n为换行\n",
    "with open('newline_test.txt', 'r', encoding='utf-8', newline='\\n') as f:\n",
    "    lines = list(f)\n",
    "    print(\"newline='\\\\n':\", len(lines), \"行\")\n"
   ]
  },
  {
   "cell_type": "code",
   "execution_count": null,
   "metadata": {},
   "outputs": [],
   "source": [
    "# 2. errors参数 - 编码错误处理\n",
    "print(\"\\n=== errors参数演示 ===\")\n",
    "\n",
    "# 创建包含特殊字符的文件\n",
    "special_text = \"正常文字 🐍 Python\"\n",
    "with open('special.txt', 'w', encoding='utf-8') as f:\n",
    "    f.write(special_text)\n",
    "\n",
    "# errors='strict' (默认) - 遇到错误抛出异常\n",
    "try:\n",
    "    with open('special.txt', 'r', encoding='ascii', errors='strict') as f:\n",
    "        content = f.read()\n",
    "except UnicodeDecodeError as e:\n",
    "    print(\"strict模式:\", f\"编码错误 - {e}\")\n",
    "\n",
    "# errors='ignore' - 忽略错误字符\n",
    "with open('special.txt', 'r', encoding='ascii', errors='ignore') as f:\n",
    "    content = f.read()\n",
    "    print(\"ignore模式:\", repr(content))\n",
    "\n",
    "# errors='replace' - 用?替换错误字符\n",
    "with open('special.txt', 'r', encoding='ascii', errors='replace') as f:\n",
    "    content = f.read()\n",
    "    print(\"replace模式:\", repr(content))\n"
   ]
  },
  {
   "cell_type": "code",
   "execution_count": null,
   "metadata": {},
   "outputs": [],
   "source": [
    "# 3. buffering参数 - 缓冲控制\n",
    "print(\"\\n=== buffering参数演示 ===\")\n",
    "\n",
    "import time\n",
    "\n",
    "# buffering=0 - 无缓冲（仅二进制模式）\n",
    "with open('unbuffered.bin', 'wb', buffering=0) as f:\n",
    "    f.write(b'Hello')\n",
    "    f.write(b' World')  # 立即写入磁盘\n",
    "    print(\"无缓冲写入完成\")\n",
    "\n",
    "# buffering=1 - 行缓冲（文本模式）\n",
    "with open('line_buffered.txt', 'w', encoding='utf-8', buffering=1) as f:\n",
    "    f.write('第一行\\n')  # 遇到\\n立即刷新\n",
    "    f.write('第二行')    # 暂存在缓冲区\n",
    "    time.sleep(0.1)\n",
    "    print(\"行缓冲演示完成\")\n",
    "\n",
    "# buffering=-1 - 系统默认缓冲\n",
    "with open('default_buffered.txt', 'w', encoding='utf-8') as f:\n",
    "    f.write('使用系统默认缓冲大小')\n",
    "    print(\"默认缓冲完成\")\n"
   ]
  },
  {
   "cell_type": "markdown",
   "metadata": {
    "vscode": {
     "languageId": "raw"
    }
   },
   "source": [
    "## newline参数详解\n",
    "\n",
    "### 读取时的行为\n",
    "- `newline=None`（默认）：将`\\r`, `\\n`, `\\r\\n`都统一转换为`\\n`\n",
    "- `newline=''`：保持原始换行符不变\n",
    "- `newline='\\n'`：只将`\\n`识别为换行符\n",
    "- `newline='\\r'`：只将`\\r`识别为换行符\n",
    "- `newline='\\r\\n'`：只将`\\r\\n`识别为换行符\n",
    "\n",
    "### 写入时的行为\n",
    "- `newline=None`（默认）：将`\\n`转换为系统默认换行符\n",
    "- `newline=''`：不转换，保持原样\n",
    "- 其他值：将`\\n`替换为指定的换行符\n",
    "\n",
    "### 实际应用场景\n",
    "```python\n",
    "# CSV文件处理（避免空行）\n",
    "with open('data.csv', 'w', newline='', encoding='utf-8') as f:\n",
    "    writer = csv.writer(f)\n",
    "    \n",
    "# 跨平台文件处理\n",
    "with open('cross_platform.txt', 'w', newline='\\n', encoding='utf-8') as f:\n",
    "    f.write('统一使用\\\\n换行符')\n",
    "```\n"
   ]
  },
  {
   "cell_type": "code",
   "execution_count": null,
   "metadata": {},
   "outputs": [],
   "source": [
    "# CSV文件处理中newline的重要性\n",
    "print(\"=== CSV文件中newline的作用 ===\")\n",
    "\n",
    "import csv\n",
    "\n",
    "# 错误示例：不使用newline=''\n",
    "print(\"不使用 newline=''：\")\n",
    "with open('test1.csv', 'w', encoding='utf-8') as f:  # 缺少newline=''\n",
    "    writer = csv.writer(f)\n",
    "    writer.writerow(['姓名', '年龄'])\n",
    "    writer.writerow(['张三', '25'])\n",
    "\n",
    "with open('test1.csv', 'r', encoding='utf-8') as f:\n",
    "    lines = f.readlines()\n",
    "    print(f\"行数: {len(lines)}\")\n",
    "    for i, line in enumerate(lines):\n",
    "        print(f\"第{i+1}行: {repr(line)}\")\n",
    "\n",
    "print(\"\\n正确示例：使用 newline=''：\")\n",
    "with open('test2.csv', 'w', newline='', encoding='utf-8') as f:  # 正确用法\n",
    "    writer = csv.writer(f)\n",
    "    writer.writerow(['姓名', '年龄'])\n",
    "    writer.writerow(['张三', '25'])\n",
    "\n",
    "with open('test2.csv', 'r', encoding='utf-8') as f:\n",
    "    lines = f.readlines()\n",
    "    print(f\"行数: {len(lines)}\")\n",
    "    for i, line in enumerate(lines):\n",
    "        print(f\"第{i+1}行: {repr(line)}\")\n"
   ]
  },
  {
   "cell_type": "code",
   "execution_count": null,
   "metadata": {},
   "outputs": [],
   "source": [
    "# 不同模式示例\n",
    "\n",
    "# 1. 独占创建模式\n",
    "try:\n",
    "    with open('new_file.txt', 'x', encoding='utf-8') as file:\n",
    "        file.write('这是新文件')\n",
    "        print(\"文件创建成功\")\n",
    "except FileExistsError:\n",
    "    print(\"文件已存在，无法创建\")\n",
    "\n",
    "# 2. 读写模式\n",
    "with open('data.txt', 'w+', encoding='utf-8') as file:\n",
    "    file.write('Hello\\nWorld\\n')  # 写入\n",
    "    file.seek(0)                  # 移动到文件开头\n",
    "    content = file.read()         # 读取\n",
    "    print(\"读取内容:\", content)\n",
    "\n",
    "# 3. 二进制模式\n",
    "with open('image.jpg', 'rb') as file:\n",
    "    data = file.read(100)  # 读取前100字节\n",
    "    print(\"文件大小（前100字节）:\", len(data))\n",
    "\n",
    "with open('copy.jpg', 'wb') as file:\n",
    "    file.write(data)  # 写入二进制数据\n"
   ]
  },
  {
   "cell_type": "markdown",
   "metadata": {
    "vscode": {
     "languageId": "raw"
    }
   },
   "source": [
    "## 常用读取方法\n",
    "\n",
    "| 方法 | 说明 | 返回值 |\n",
    "|------|------|-------|\n",
    "| `.read()` | 读取整个文件 | 字符串 |\n",
    "| `.read(size)` | 读取指定字节数 | 字符串 |\n",
    "| `.readline()` | 读取一行 | 字符串（含换行符） |\n",
    "| `.readlines()` | 读取所有行 | 字符串列表 |\n",
    "\n",
    "## 与传统方式对比\n",
    "```python\n",
    "# 传统方式（不推荐）\n",
    "file = open('data.txt', 'r')\n",
    "content = file.read()\n",
    "file.close()  # 容易忘记\n",
    "\n",
    "# with方式（推荐）\n",
    "with open('data.txt', 'r') as file:\n",
    "    content = file.read()\n",
    "# 自动关闭\n",
    "```\n"
   ]
  },
  {
   "cell_type": "code",
   "execution_count": null,
   "metadata": {},
   "outputs": [],
   "source": [
    "# 读取方法对比\n",
    "\n",
    "# 创建测试文件\n",
    "test_content = \"第一行\\n第二行\\n第三行\\n\"\n",
    "with open('test.txt', 'w', encoding='utf-8') as file:\n",
    "    file.write(test_content)\n",
    "\n",
    "# 1. read() - 读取全部\n",
    "with open('test.txt', 'r', encoding='utf-8') as file:\n",
    "    all_content = file.read()\n",
    "    print(\"read():\", repr(all_content))\n",
    "\n",
    "# 2. readline() - 逐行读取\n",
    "with open('test.txt', 'r', encoding='utf-8') as file:\n",
    "    line1 = file.readline()\n",
    "    line2 = file.readline()\n",
    "    print(\"readline():\", repr(line1), repr(line2))\n",
    "\n",
    "# 3. readlines() - 所有行的列表\n",
    "with open('test.txt', 'r', encoding='utf-8') as file:\n",
    "    all_lines = file.readlines()\n",
    "    print(\"readlines():\", all_lines)\n",
    "\n",
    "# 4. 迭代读取（推荐大文件）\n",
    "with open('test.txt', 'r', encoding='utf-8') as file:\n",
    "    for i, line in enumerate(file, 1):\n",
    "        print(f\"第{i}行:\", line.strip())\n"
   ]
  },
  {
   "cell_type": "markdown",
   "metadata": {
    "vscode": {
     "languageId": "raw"
    }
   },
   "source": [
    "## 多文件操作\n",
    "\n",
    "可以同时打开多个文件进行操作：\n",
    "\n",
    "```python\n",
    "# 同时操作多个文件\n",
    "with open('input.txt', 'r') as infile, open('output.txt', 'w') as outfile:\n",
    "    content = infile.read()\n",
    "    outfile.write(content.upper())\n",
    "```\n"
   ]
  },
  {
   "cell_type": "code",
   "execution_count": null,
   "metadata": {},
   "outputs": [],
   "source": [
    "# 多文件操作示例\n",
    "\n",
    "# 1. 文件复制\n",
    "with open('source.txt', 'w', encoding='utf-8') as file:\n",
    "    file.write('原始文件内容\\n这是第二行')\n",
    "\n",
    "with open('source.txt', 'r', encoding='utf-8') as infile, \\\n",
    "     open('backup.txt', 'w', encoding='utf-8') as outfile:\n",
    "    content = infile.read()\n",
    "    outfile.write(content)\n",
    "    print(\"文件复制完成\")\n",
    "\n",
    "# 2. 文件合并\n",
    "files_to_merge = ['file1.txt', 'file2.txt', 'file3.txt']\n",
    "\n",
    "# 创建要合并的文件\n",
    "for i, filename in enumerate(files_to_merge, 1):\n",
    "    with open(filename, 'w', encoding='utf-8') as file:\n",
    "        file.write(f'这是文件{i}的内容\\n')\n",
    "\n",
    "# 合并文件\n",
    "with open('merged.txt', 'w', encoding='utf-8') as outfile:\n",
    "    for filename in files_to_merge:\n",
    "        with open(filename, 'r', encoding='utf-8') as infile:\n",
    "            outfile.write(f'=== {filename} ===\\n')\n",
    "            outfile.write(infile.read())\n",
    "            outfile.write('\\n')\n",
    "\n",
    "print(\"文件合并完成\")\n"
   ]
  },
  {
   "cell_type": "markdown",
   "metadata": {
    "vscode": {
     "languageId": "raw"
    }
   },
   "source": [
    "## 注意事项\n",
    "\n",
    "1. **编码问题**：处理中文时务必指定 `encoding='utf-8'`\n",
    "2. **文件路径**：使用相对路径或绝对路径，注意路径分隔符\n",
    "3. **异常处理**：文件不存在或权限不足时会抛出异常\n",
    "4. **大文件处理**：对于大文件，使用迭代读取而非一次性读取全部\n",
    "\n",
    "```python\n",
    "# 异常处理示例\n",
    "try:\n",
    "    with open('nonexistent.txt', 'r', encoding='utf-8') as file:\n",
    "        content = file.read()\n",
    "except FileNotFoundError:\n",
    "    print(\"文件不存在\")\n",
    "except PermissionError:\n",
    "    print(\"没有权限访问文件\")\n",
    "except Exception as e:\n",
    "    print(f\"其他错误: {e}\")\n",
    "```\n"
   ]
  },
  {
   "cell_type": "markdown",
   "metadata": {
    "vscode": {
     "languageId": "raw"
    }
   },
   "source": [
    "## 高级参数应用总结\n",
    "\n",
    "### 参数组合建议\n",
    "\n",
    "```python\n",
    "# 1. 处理CSV文件\n",
    "with open('data.csv', 'w', newline='', encoding='utf-8') as f:\n",
    "    # newline='' 防止CSV出现空行\n",
    "\n",
    "# 2. 跨平台文本文件\n",
    "with open('config.txt', 'w', encoding='utf-8', newline='\\n') as f:\n",
    "    # 统一使用 \\n 换行符\n",
    "\n",
    "# 3. 处理可能损坏的文件\n",
    "with open('messy.txt', 'r', encoding='utf-8', errors='replace') as f:\n",
    "    # 用 ? 替换无法解码的字符\n",
    "\n",
    "# 4. 实时日志写入\n",
    "with open('app.log', 'a', encoding='utf-8', buffering=1) as f:\n",
    "    # 行缓冲确保日志及时写入\n",
    "\n",
    "# 5. 大文件顺序写入\n",
    "with open('bigfile.txt', 'w', encoding='utf-8', buffering=8192) as f:\n",
    "    # 8KB缓冲区提高写入效率\n",
    "```\n",
    "\n",
    "### 常见错误与解决方案\n",
    "\n",
    "| 错误现象 | 可能原因 | 解决方案 |\n",
    "|----------|----------|----------|\n",
    "| CSV文件有空行 | 未使用`newline=''` | 写入时添加`newline=''` |\n",
    "| 中文乱码 | 编码不匹配 | 指定正确的`encoding` |\n",
    "| 程序崩溃 | 编码错误 | 使用`errors='replace'` |\n",
    "| 日志不及时 | 缓冲延迟 | 使用`buffering=1` |\n"
   ]
  }
 ],
 "metadata": {
  "kernelspec": {
   "display_name": "python练习",
   "language": "python",
   "name": "python3"
  },
  "language_info": {
   "name": "python",
   "version": "3.12.9"
  }
 },
 "nbformat": 4,
 "nbformat_minor": 2
}

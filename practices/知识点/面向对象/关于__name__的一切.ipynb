{
    "cells": [
     {
      "cell_type": "markdown",
      "metadata": {},
      "source": [
       "# 关于 Python 中 `__name__` 的一切\n",
       "\n",
       "## 概述\n",
       "`__name__` 是 Python 中的一个特殊属性（魔法属性），它存在于许多对象中，用于标识对象的名称。"
      ]
     },
     {
      "cell_type": "markdown",
      "metadata": {},
      "source": [
       "## 1. 模块的 `__name__` 属性 🏗️\n",
       "\n",
       "最常见的 `__name__` 用法是在模块中判断当前脚本是否为主程序入口。"
      ]
     },
     {
      "cell_type": "code",
      "execution_count": null,
      "metadata": {},
      "outputs": [],
      "source": [
       "# 当前模块的 __name__\n",
       "print(f\"当前模块的 __name__: {__name__}\")\n",
       "\n",
       "# 在 Jupyter Notebook 中，__name__ 通常是 '__main__'\n",
       "# 在被导入的模块中，__name__ 是模块的文件名（不含.py）"
      ]
     },
     {
      "cell_type": "code",
      "execution_count": null,
      "metadata": {},
      "outputs": [],
      "source": [
       "# 经典的主程序入口判断\n",
       "def main():\n",
       "    print(\"这是主程序\")\n",
       "\n",
       "if __name__ == \"__main__\":\n",
       "    main()\n",
       "    print(\"当前脚本作为主程序运行\")\n",
       "else:\n",
       "    print(\"当前脚本被其他模块导入\")"
      ]
     },
     {
      "cell_type": "code",
      "execution_count": null,
      "metadata": {},
      "outputs": [],
      "source": [
       "# 查看标准库模块的 __name__\n",
       "import os\n",
       "import sys\n",
       "import json\n",
       "\n",
       "print(f\"os 模块的 __name__: {os.__name__}\")\n",
       "print(f\"sys 模块的 __name__: {sys.__name__}\")\n",
       "print(f\"json 模块的 __name__: {json.__name__}\")"
      ]
     },
     {
      "cell_type": "markdown",
      "metadata": {},
      "source": [
       "## 2. 类的 `__name__` 属性 🏛️\n",
       "\n",
       "每个类都有 `__name__` 属性，表示类的名称。"
      ]
     },
     {
      "cell_type": "code",
      "execution_count": null,
      "metadata": {},
      "outputs": [],
      "source": [
       "# 自定义类的 __name__\n",
       "class Student:\n",
       "    def __init__(self, name):\n",
       "        self.name = name\n",
       "\n",
       "class Teacher:\n",
       "    pass\n",
       "\n",
       "print(f\"Student 类的 __name__: {Student.__name__}\")\n",
       "print(f\"Teacher 类的 __name__: {Teacher.__name__}\")\n",
       "\n",
       "# 创建实例\n",
       "student = Student(\"张三\")\n",
       "print(f\"student 实例的类名: {student.__class__.__name__}\")\n",
       "print(f\"type(student).__name__: {type(student).__name__}\")"
      ]
     },
     {
      "cell_type": "code",
      "execution_count": null,
      "metadata": {},
      "outputs": [],
      "source": [
       "# 内置类型的 __name__\n",
       "print(f\"int 类型的 __name__: {int.__name__}\")\n",
       "print(f\"str 类型的 __name__: {str.__name__}\")\n",
       "print(f\"list 类型的 __name__: {list.__name__}\")\n",
       "print(f\"dict 类型的 __name__: {dict.__name__}\")\n",
       "print(f\"tuple 类型的 __name__: {tuple.__name__}\")"
      ]
     },
     {
      "cell_type": "markdown",
      "metadata": {},
      "source": [
       "## 3. 函数的 `__name__` 属性 🔧\n",
       "\n",
       "函数对象也有 `__name__` 属性，表示函数的名称。"
      ]
     },
     {
      "cell_type": "code",
      "execution_count": null,
      "metadata": {},
      "outputs": [],
      "source": [
       "# 普通函数的 __name__\n",
       "def calculate_area(radius):\n",
       "    return 3.14 * radius * radius\n",
       "\n",
       "def greet_user(name):\n",
       "    return f\"Hello, {name}!\"\n",
       "\n",
       "print(f\"calculate_area 函数的 __name__: {calculate_area.__name__}\")\n",
       "print(f\"greet_user 函数的 __name__: {greet_user.__name__}\")"
      ]
     },
     {
      "cell_type": "code",
      "execution_count": null,
      "metadata": {},
      "outputs": [],
      "source": [
       "# Lambda 函数的 __name__\n",
       "square = lambda x: x * x\n",
       "add = lambda a, b: a + b\n",
       "\n",
       "print(f\"lambda 函数的 __name__: {square.__name__}\")\n",
       "print(f\"lambda 函数的 __name__: {add.__name__}\")\n",
       "# Lambda 函数的 __name__ 总是 '<lambda>'"
      ]
     },
     {
      "cell_type": "code",
      "execution_count": null,
      "metadata": {},
      "outputs": [],
      "source": [
       "# 内置函数的 __name__\n",
       "print(f\"print 函数的 __name__: {print.__name__}\")\n",
       "print(f\"len 函数的 __name__: {len.__name__}\")\n",
       "print(f\"max 函数的 __name__: {max.__name__}\")\n",
       "print(f\"min 函数的 __name__: {min.__name__}\")"
      ]
     },
     {
      "cell_type": "markdown",
      "metadata": {},
      "source": [
       "## 4. 装饰器中的 `__name__` 问题 🎭\n",
       "\n",
       "装饰器会改变函数的 `__name__`，这就是为什么需要 `functools.wraps`。"
      ]
     },
     {
      "cell_type": "code",
      "execution_count": null,
      "metadata": {},
      "outputs": [],
      "source": [
       "# 不使用 wraps 的装饰器\n",
       "def my_decorator_bad(func):\n",
       "    def wrapper(*args, **kwargs):\n",
       "        print(f\"调用函数: {func.__name__}\")\n",
       "        return func(*args, **kwargs)\n",
       "    return wrapper\n",
       "\n",
       "@my_decorator_bad\n",
       "def original_function():\n",
       "    return \"原始函数\"\n",
       "\n",
       "print(f\"被装饰函数的 __name__: {original_function.__name__}\")  # 会显示 'wrapper'"
      ]
     },
     {
      "cell_type": "code",
      "execution_count": null,
      "metadata": {},
      "outputs": [],
      "source": [
       "# 使用 wraps 的正确装饰器\n",
       "from functools import wraps\n",
       "\n",
       "def my_decorator_good(func):\n",
       "    @wraps(func)\n",
       "    def wrapper(*args, **kwargs):\n",
       "        print(f\"调用函数: {func.__name__}\")\n",
       "        return func(*args, **kwargs)\n",
       "    return wrapper\n",
       "\n",
       "@my_decorator_good\n",
       "def another_function():\n",
       "    return \"另一个函数\"\n",
       "\n",
       "print(f\"使用 wraps 的函数 __name__: {another_function.__name__}\")  # 会显示 'another_function'"
      ]
     },
     {
      "cell_type": "markdown",
      "metadata": {},
      "source": [
       "## 5. 回到你的问题：装饰器中的参数 🎯\n",
       "\n",
       "分析你提到的代码片段中的 `arg` 和 `expected_type.__name__`。"
      ]
     },
     {
      "cell_type": "code",
      "execution_count": null,
      "metadata": {},
      "outputs": [],
      "source": [
       "# 重现你的装饰器代码\n",
       "from functools import wraps\n",
       "\n",
       "def type_check(*expected_types):\n",
       "    def decorator(func):\n",
       "        @wraps(func)\n",
       "        def wrapper(*args, **kwargs):\n",
       "            print(f'在装饰器的wrapper中,args:{args},kwargs:{kwargs}')\n",
       "            for i, (arg, expected_type) in enumerate(zip(args, expected_types)):\n",
       "                print(f\"第{i+1}个参数:\")\n",
       "                print(f\"  arg = {arg} (类型: {type(arg).__name__})\")\n",
       "                print(f\"  expected_type = {expected_type}\")\n",
       "                print(f\"  expected_type.__name__ = {expected_type.__name__}\")\n",
       "                \n",
       "                # 检查 arg 是否有 __name__ 属性\n",
       "                if hasattr(arg, '__name__'):\n",
       "                    print(f\"  arg.__name__ = {arg.__name__}\")\n",
       "                else:\n",
       "                    print(f\"  arg 没有 __name__ 属性\")\n",
       "                \n",
       "                if not isinstance(arg, expected_type):\n",
       "                    raise TypeError(f\"参数 {i+1} 应该是 {expected_type.__name__} 类型\")\n",
       "                print()\n",
       "            return func(*args, **kwargs)\n",
       "        return wrapper\n",
       "    return decorator\n",
       "\n",
       "@type_check(int, str)\n",
       "def test_function(number, text):\n",
       "    return f\"数字: {number}, 文本: {text}\"\n",
       "\n",
       "# 测试\n",
       "result = test_function(42, \"hello\")\n",
       "print(f\"结果: {result}\")"
      ]
     },
     {
      "cell_type": "markdown",
      "metadata": {},
      "source": [
       "## 6. 哪些对象有 `__name__` 属性？ 📋\n",
       "\n",
       "让我们系统地测试各种对象是否有 `__name__` 属性。"
      ]
     },
     {
      "cell_type": "code",
      "execution_count": null,
      "metadata": {},
      "outputs": [],
      "source": [
       "def check_name_attribute(obj, obj_description):\n",
       "    \"\"\"检查对象是否有 __name__ 属性\"\"\"\n",
       "    if hasattr(obj, '__name__'):\n",
       "        print(f\"✅ {obj_description} 有 __name__ 属性: {obj.__name__}\")\n",
       "    else:\n",
       "        print(f\"❌ {obj_description} 没有 __name__ 属性\")\n",
       "\n",
       "# 测试各种对象\n",
       "print(\"=== 基本数据类型 ===\")\n",
       "check_name_attribute(42, \"整数 42\")\n",
       "check_name_attribute(\"hello\", \"字符串 'hello'\")\n",
       "check_name_attribute([1, 2, 3], \"列表 [1, 2, 3]\")\n",
       "check_name_attribute({\"a\": 1}, \"字典 {'a': 1}\")\n",
       "check_name_attribute(True, \"布尔值 True\")\n",
       "\n",
       "print(\"\\n=== 类型对象 ===\")\n",
       "check_name_attribute(int, \"int 类型\")\n",
       "check_name_attribute(str, \"str 类型\")\n",
       "check_name_attribute(list, \"list 类型\")\n",
       "check_name_attribute(dict, \"dict 类型\")\n",
       "\n",
       "print(\"\\n=== 函数 ===\")\n",
       "def sample_func():\n",
       "    pass\n",
       "check_name_attribute(sample_func, \"自定义函数\")\n",
       "check_name_attribute(print, \"内置函数 print\")\n",
       "check_name_attribute(lambda x: x, \"lambda 函数\")\n",
       "\n",
       "print(\"\\n=== 类和实例 ===\")\n",
       "class MyClass:\n",
       "    pass\n",
       "check_name_attribute(MyClass, \"自定义类 MyClass\")\n",
       "my_instance = MyClass()\n",
       "check_name_attribute(my_instance, \"类实例 my_instance\")\n",
       "\n",
       "print(\"\\n=== 模块 ===\")\n",
       "import math\n",
       "check_name_attribute(math, \"math 模块\")"
      ]
     },
     {
      "cell_type": "markdown",
      "metadata": {},
      "source": [
       "## 7. 特殊情况和高级用法 🚀"
      ]
     },
     {
      "cell_type": "code",
      "execution_count": null,
      "metadata": {},
      "outputs": [],
      "source": [
       "# 动态修改 __name__\n",
       "def original_function():\n",
       "    return \"原始函数\"\n",
       "\n",
       "print(f\"修改前: {original_function.__name__}\")\n",
       "original_function.__name__ = \"renamed_function\"\n",
       "print(f\"修改后: {original_function.__name__}\")"
      ]
     },
     {
      "cell_type": "code",
      "execution_count": null,
      "metadata": {},
      "outputs": [],
      "source": [
       "# 使用 __name__ 进行反射\n",
       "class Calculator:\n",
       "    def add(self, a, b):\n",
       "        return a + b\n",
       "    \n",
       "    def multiply(self, a, b):\n",
       "        return a * b\n",
       "\n",
       "calc = Calculator()\n",
       "\n",
       "# 获取类的所有方法名\n",
       "methods = [method for method in dir(calc) \n",
       "          if callable(getattr(calc, method)) and not method.startswith('_')]\n",
       "\n",
       "print(\"Calculator 类的方法:\")\n",
       "for method_name in methods:\n",
       "    method = getattr(calc, method_name)\n",
       "    print(f\"  {method.__name__}\")"
      ]
     },
     {
      "cell_type": "code",
      "execution_count": null,
      "metadata": {},
      "outputs": [],
      "source": [
       "# 在错误处理中使用 __name__\n",
       "def safe_call(func, *args, **kwargs):\n",
       "    try:\n",
       "        return func(*args, **kwargs)\n",
       "    except Exception as e:\n",
       "        print(f\"调用函数 {func.__name__} 时发生错误: {e}\")\n",
       "        return None\n",
       "\n",
       "def divide(a, b):\n",
       "    return a / b\n",
       "\n",
       "# 测试\n",
       "result1 = safe_call(divide, 10, 2)\n",
       "print(f\"正常调用结果: {result1}\")\n",
       "\n",
       "result2 = safe_call(divide, 10, 0)\n",
       "print(f\"异常调用结果: {result2}\")"
      ]
     },
     {
      "cell_type": "markdown",
      "metadata": {},
      "source": [
       "## 8. 实际应用场景 💼"
      ]
     },
     {
      "cell_type": "code",
      "execution_count": null,
      "metadata": {},
      "outputs": [],
      "source": [
       "# 场景1: 日志记录\n",
       "import logging\n",
       "\n",
       "def log_function_call(func):\n",
       "    @wraps(func)\n",
       "    def wrapper(*args, **kwargs):\n",
       "        logging.info(f\"调用函数: {func.__name__}\")\n",
       "        result = func(*args, **kwargs)\n",
       "        logging.info(f\"函数 {func.__name__} 执行完成\")\n",
       "        return result\n",
       "    return wrapper\n",
       "\n",
       "# 配置日志\n",
       "logging.basicConfig(level=logging.INFO, format='%(message)s')\n",
       "\n",
       "@log_function_call\n",
       "def important_calculation(x, y):\n",
       "    return x * y + 10\n",
       "\n",
       "result = important_calculation(5, 3)"
      ]
     },
     {
      "cell_type": "code",
      "execution_count": null,
      "metadata": {},
      "outputs": [],
      "source": [
       "# 场景2: 函数注册器\n",
       "class FunctionRegistry:\n",
       "    def __init__(self):\n",
       "        self.functions = {}\n",
       "    \n",
       "    def register(self, func):\n",
       "        self.functions[func.__name__] = func\n",
       "        return func\n",
       "    \n",
       "    def get_function(self, name):\n",
       "        return self.functions.get(name)\n",
       "    \n",
       "    def list_functions(self):\n",
       "        return list(self.functions.keys())\n",
       "\n",
       "# 使用注册器\n",
       "registry = FunctionRegistry()\n",
       "\n",
       "@registry.register\n",
       "def process_data(data):\n",
       "    return data.upper()\n",
       "\n",
       "@registry.register\n",
       "def validate_input(input_str):\n",
       "    return len(input_str) > 0\n",
       "\n",
       "print(\"注册的函数:\", registry.list_functions())\n",
       "\n",
       "# 动态调用\n",
       "func = registry.get_function('process_data')\n",
       "if func:\n",
       "    result = func(\"hello world\")\n",
       "    print(f\"结果: {result}\")"
      ]
     },
     {
      "cell_type": "markdown",
      "metadata": {},
      "source": [
       "## 9. 总结 📝\n",
       "\n",
       "### 哪些对象有 `__name__` 属性？\n",
       "\n",
       "**✅ 有 `__name__` 属性的对象：**\n",
       "- 模块 (modules)\n",
       "- 类 (classes)\n",
       "- 函数 (functions)\n",
       "- 方法 (methods)\n",
       "- 类型对象 (type objects)\n",
       "- 部分内置对象\n",
       "\n",
       "**❌ 没有 `__name__` 属性的对象：**\n",
       "- 基本数据类型的实例（数字、字符串、列表等）\n",
       "- 大多数类的实例\n",
       "- 字典、元组等容器对象\n",
       "\n",
       "### 关键要点：\n",
       "1. **`arg`（函数参数值）通常没有 `__name__` 属性**\n",
       "2. **`expected_type`（类型对象）有 `__name__` 属性**\n",
       "3. **装饰器中使用 `@wraps(func)` 来保持原函数的 `__name__`**\n",
       "4. **`__name__` 在调试、日志记录、反射中非常有用**\n",
       "\n",
       "### 最佳实践：\n",
       "- 在装饰器中总是使用 `@wraps(func)`\n",
       "- 使用 `hasattr(obj, '__name__')` 检查对象是否有该属性\n",
       "- 在错误信息中使用 `__name__` 提供更清晰的信息\n",
       "- 利用 `__name__` 进行动态编程和反射"
      ]
     }
    ],
    "metadata": {
     "kernelspec": {
      "display_name": "Python 3",
      "language": "python",
      "name": "python3"
     },
     "language_info": {
      "codemirror_mode": {
       "name": "ipython",
       "version": 3
      },
      "file_extension": ".py",
      "mimetype": "text/x-python",
      "name": "python",
      "nbconvert_exporter": "python",
      "pygments_lexer": "ipython3",
      "version": "3.8.0"
     }
    },
    "nbformat": 4,
    "nbformat_minor": 4
   }
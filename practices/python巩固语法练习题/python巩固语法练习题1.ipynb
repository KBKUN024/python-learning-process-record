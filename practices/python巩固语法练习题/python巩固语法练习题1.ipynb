{
 "cells": [
  {
   "cell_type": "markdown",
   "metadata": {},
   "source": [
    "## 基础变量和数据类型（1-5题）\n",
    "\n",
    "### 题目1：变量赋值与类型检查 ✅\n",
    "创建以下变量并打印它们的类型：\n",
    "- 整数变量 `age` 赋值为 25\n",
    "- 浮点数变量 `height` 赋值为 1.75\n",
    "- 字符串变量 `name` 赋值为 \"张三\"\n",
    "- 布尔变量 `is_student` 赋值为 True\n",
    "- 列表变量 `hobbies` 赋值为 [\"读书\", \"游泳\", \"编程\"]"
   ]
  },
  {
   "cell_type": "code",
   "execution_count": 7,
   "metadata": {},
   "outputs": [
    {
     "name": "stdout",
     "output_type": "stream",
     "text": [
      "<class 'int'>\n",
      "<class 'float'>\n",
      "<class 'str'>\n",
      "<class 'bool'>\n",
      "<class 'list'>\n"
     ]
    }
   ],
   "source": [
    "age = 25\n",
    "height = 1.75\n",
    "name = \"张三\"   \n",
    "is_student = True\n",
    "hobbies = [\"读书\",\"游泳\",\"编程\"]\n",
    "print(type(age))\n",
    "print(type(height))\n",
    "print(type(name))\n",
    "print(type(is_student))\n",
    "print(type(hobbies))"
   ]
  },
  {
   "cell_type": "markdown",
   "metadata": {},
   "source": [
    "### 题目2：数据类型转换 ✅\n",
    "给定字符串 `\"123\"`，将其转换为整数并加上 77，然后再转换回字符串输出。"
   ]
  },
  {
   "cell_type": "code",
   "execution_count": 8,
   "metadata": {},
   "outputs": [
    {
     "name": "stdout",
     "output_type": "stream",
     "text": [
      "200\n"
     ]
    }
   ],
   "source": [
    "strs = \"123\"\n",
    "print(str(int(strs)+77))"
   ]
  },
  {
   "cell_type": "markdown",
   "metadata": {},
   "source": [
    "### 题目3：多重赋值 ✅\n",
    "使用一行代码同时给三个变量 `x, y, z` 分别赋值 10, 20, 30。然后交换 x 和 y 的值。\n"
   ]
  },
  {
   "cell_type": "code",
   "execution_count": 9,
   "metadata": {},
   "outputs": [
    {
     "name": "stdout",
     "output_type": "stream",
     "text": [
      "x:20,y:10\n"
     ]
    }
   ],
   "source": [
    "x,y,z = 10,20,30\n",
    "x,y = y,x\n",
    "print(f'x:{x},y:{y}')"
   ]
  },
  {
   "cell_type": "markdown",
   "metadata": {},
   "source": [
    "### 题目4：格式化字符串 ✅\n",
    "创建变量 `name=\"李四\"`, `score=85.5`，使用f-string格式化输出：\n",
    "`\"学生李四的成绩是85.5分\"`\n"
   ]
  },
  {
   "cell_type": "code",
   "execution_count": 10,
   "metadata": {},
   "outputs": [
    {
     "name": "stdout",
     "output_type": "stream",
     "text": [
      "学生李四的成绩是85.5\n"
     ]
    }
   ],
   "source": [
    "name = \"李四\"\n",
    "score = 85.5\n",
    "print(f\"学生{name}的成绩是{score}\")"
   ]
  },
  {
   "cell_type": "markdown",
   "metadata": {},
   "source": [
    "## 其他的格式化方式"
   ]
  },
  {
   "cell_type": "code",
   "execution_count": 11,
   "metadata": {},
   "outputs": [
    {
     "name": "stdout",
     "output_type": "stream",
     "text": [
      "学生李四的成绩是85.5\n"
     ]
    }
   ],
   "source": [
    "name = \"李四\"\n",
    "score = 85.5\n",
    "print(\"学生%s的成绩是%.1f\" % (name, score))"
   ]
  },
  {
   "cell_type": "markdown",
   "metadata": {},
   "source": [
    "### 题目5：输入处理 ✅\n",
    "编写代码获取用户输入的年龄，将其转换为整数，并判断是否为成年人（>=18岁）。\n"
   ]
  },
  {
   "cell_type": "code",
   "execution_count": 12,
   "metadata": {},
   "outputs": [
    {
     "ename": "KeyboardInterrupt",
     "evalue": "Interrupted by user",
     "output_type": "error",
     "traceback": [
      "\u001b[31m---------------------------------------------------------------------------\u001b[39m",
      "\u001b[31mKeyboardInterrupt\u001b[39m                         Traceback (most recent call last)",
      "\u001b[36mCell\u001b[39m\u001b[36m \u001b[39m\u001b[32mIn[12]\u001b[39m\u001b[32m, line 1\u001b[39m\n\u001b[32m----> \u001b[39m\u001b[32m1\u001b[39m age = \u001b[38;5;28mint\u001b[39m(\u001b[38;5;28;43minput\u001b[39;49m\u001b[43m(\u001b[49m\u001b[43m)\u001b[49m)\n\u001b[32m      2\u001b[39m \u001b[38;5;28;01mif\u001b[39;00m age >= \u001b[32m18\u001b[39m:\n\u001b[32m      3\u001b[39m     \u001b[38;5;28mprint\u001b[39m(\u001b[33m'\u001b[39m\u001b[33madult\u001b[39m\u001b[33m'\u001b[39m)\n",
      "\u001b[36mFile \u001b[39m\u001b[32m~/miniconda3/envs/python练习/lib/python3.12/site-packages/ipykernel/kernelbase.py:1282\u001b[39m, in \u001b[36mKernel.raw_input\u001b[39m\u001b[34m(self, prompt)\u001b[39m\n\u001b[32m   1280\u001b[39m     msg = \u001b[33m\"\u001b[39m\u001b[33mraw_input was called, but this frontend does not support input requests.\u001b[39m\u001b[33m\"\u001b[39m\n\u001b[32m   1281\u001b[39m     \u001b[38;5;28;01mraise\u001b[39;00m StdinNotImplementedError(msg)\n\u001b[32m-> \u001b[39m\u001b[32m1282\u001b[39m \u001b[38;5;28;01mreturn\u001b[39;00m \u001b[38;5;28;43mself\u001b[39;49m\u001b[43m.\u001b[49m\u001b[43m_input_request\u001b[49m\u001b[43m(\u001b[49m\n\u001b[32m   1283\u001b[39m \u001b[43m    \u001b[49m\u001b[38;5;28;43mstr\u001b[39;49m\u001b[43m(\u001b[49m\u001b[43mprompt\u001b[49m\u001b[43m)\u001b[49m\u001b[43m,\u001b[49m\n\u001b[32m   1284\u001b[39m \u001b[43m    \u001b[49m\u001b[38;5;28;43mself\u001b[39;49m\u001b[43m.\u001b[49m\u001b[43m_parent_ident\u001b[49m\u001b[43m[\u001b[49m\u001b[33;43m\"\u001b[39;49m\u001b[33;43mshell\u001b[39;49m\u001b[33;43m\"\u001b[39;49m\u001b[43m]\u001b[49m\u001b[43m,\u001b[49m\n\u001b[32m   1285\u001b[39m \u001b[43m    \u001b[49m\u001b[38;5;28;43mself\u001b[39;49m\u001b[43m.\u001b[49m\u001b[43mget_parent\u001b[49m\u001b[43m(\u001b[49m\u001b[33;43m\"\u001b[39;49m\u001b[33;43mshell\u001b[39;49m\u001b[33;43m\"\u001b[39;49m\u001b[43m)\u001b[49m\u001b[43m,\u001b[49m\n\u001b[32m   1286\u001b[39m \u001b[43m    \u001b[49m\u001b[43mpassword\u001b[49m\u001b[43m=\u001b[49m\u001b[38;5;28;43;01mFalse\u001b[39;49;00m\u001b[43m,\u001b[49m\n\u001b[32m   1287\u001b[39m \u001b[43m\u001b[49m\u001b[43m)\u001b[49m\n",
      "\u001b[36mFile \u001b[39m\u001b[32m~/miniconda3/envs/python练习/lib/python3.12/site-packages/ipykernel/kernelbase.py:1325\u001b[39m, in \u001b[36mKernel._input_request\u001b[39m\u001b[34m(self, prompt, ident, parent, password)\u001b[39m\n\u001b[32m   1322\u001b[39m \u001b[38;5;28;01mexcept\u001b[39;00m \u001b[38;5;167;01mKeyboardInterrupt\u001b[39;00m:\n\u001b[32m   1323\u001b[39m     \u001b[38;5;66;03m# re-raise KeyboardInterrupt, to truncate traceback\u001b[39;00m\n\u001b[32m   1324\u001b[39m     msg = \u001b[33m\"\u001b[39m\u001b[33mInterrupted by user\u001b[39m\u001b[33m\"\u001b[39m\n\u001b[32m-> \u001b[39m\u001b[32m1325\u001b[39m     \u001b[38;5;28;01mraise\u001b[39;00m \u001b[38;5;167;01mKeyboardInterrupt\u001b[39;00m(msg) \u001b[38;5;28;01mfrom\u001b[39;00m\u001b[38;5;250m \u001b[39m\u001b[38;5;28;01mNone\u001b[39;00m\n\u001b[32m   1326\u001b[39m \u001b[38;5;28;01mexcept\u001b[39;00m \u001b[38;5;167;01mException\u001b[39;00m:\n\u001b[32m   1327\u001b[39m     \u001b[38;5;28mself\u001b[39m.log.warning(\u001b[33m\"\u001b[39m\u001b[33mInvalid Message:\u001b[39m\u001b[33m\"\u001b[39m, exc_info=\u001b[38;5;28;01mTrue\u001b[39;00m)\n",
      "\u001b[31mKeyboardInterrupt\u001b[39m: Interrupted by user"
     ]
    }
   ],
   "source": [
    "age = int(input())\n",
    "if age >= 18:\n",
    "    print('adult')"
   ]
  },
  {
   "cell_type": "markdown",
   "metadata": {},
   "source": [
    "## 答案 用了异常处理\n",
    "```python\n",
    "# 获取用户输入并判断是否成年\n",
    "try:\n",
    "    age_input = input(\"请输入您的年龄: \")\n",
    "    age = int(age_input)\n",
    "    \n",
    "    if age >= 18:\n",
    "        print(\"您已成年\")\n",
    "    else:\n",
    "        print(\"您还未成年\")\n",
    "        \n",
    "except ValueError:\n",
    "    print(\"请输入有效的数字\")```"
   ]
  },
  {
   "cell_type": "markdown",
   "metadata": {},
   "source": [
    "## 字符串操作（6-10题）\n",
    "\n",
    "### 题目6：字符串基本操作 ✅❌\n",
    "给定字符串 `text = \"Hello Python World\"`：\n",
    "- 将字符串转换为大写 ✅\n",
    "- 将字符串转换为小写 ✅\n",
    "- 获取字符串长度 ✅\n",
    "- 检查是否包含 \"Python\" ❌  检查某个字符串是否包含某个部分使用的是\"in\"⚠️⚠️⚠️\n"
   ]
  },
  {
   "cell_type": "code",
   "execution_count": 32,
   "metadata": {},
   "outputs": [
    {
     "name": "stdout",
     "output_type": "stream",
     "text": [
      "text:Hello Python World,upper_text:HELLO PYTHON WORLD,lower_text:hello python world,length:18,is_python:True\n"
     ]
    }
   ],
   "source": [
    "text = \"Hello Python World\"\n",
    "upper_text = text.upper()\n",
    "lower_text = text.lower()\n",
    "length = len(text)\n",
    "# is_python = text.find('Python')\n",
    "is_python = 'Python' in text # ✅正确的答案\n",
    "print(f\"text:{text},upper_text:{upper_text},lower_text:{lower_text},length:{length},is_python:{is_python}\")"
   ]
  },
  {
   "cell_type": "markdown",
   "metadata": {},
   "source": [
    "### 题目7：字符串切片 ✅\n",
    "给定字符串 `s = \"programming\"`：\n",
    "- 获取前5个字符\n",
    "- 获取后5个字符\n",
    "- 获取中间的字符（从索引2到8）\n",
    "- 反转整个字符串\n"
   ]
  },
  {
   "cell_type": "code",
   "execution_count": 6,
   "metadata": {},
   "outputs": [
    {
     "name": "stdout",
     "output_type": "stream",
     "text": [
      "前五个: progr, 后五个: mming, 中间的: ogramm, 反转: gnimmargorp\n"
     ]
    }
   ],
   "source": [
    "s = \"programming\"\n",
    "start_text = s[:5]\n",
    "end_text = s[-5:]\n",
    "middle_text = s[2:8]\n",
    "reverse_text = s[::-1] # 没有立即想出来，虽然是自己想出来的，但是不够快💨！！！\n",
    "print(f\"前五个: {start_text}, 后五个: {end_text}, 中间的: {middle_text}, 反转: {reverse_text}\")"
   ]
  },
  {
   "cell_type": "markdown",
   "metadata": {},
   "source": [
    "### 题目8：字符串分割与连接 ✅\n",
    "给定字符串 `email = \"user@example.com\"`：\n",
    "- 使用 `@` 分割字符串\n",
    "- 将分割后的部分用 `_` 连接起来\n"
   ]
  },
  {
   "cell_type": "code",
   "execution_count": 8,
   "metadata": {},
   "outputs": [
    {
     "name": "stdout",
     "output_type": "stream",
     "text": [
      "['user', 'example.com']\n",
      "user_example.com\n"
     ]
    }
   ],
   "source": [
    "email = \"user@example.com\"\n",
    "split_list = email.split('@')\n",
    "after_join = '_'.join(split_list)\n",
    "print(split_list)\n",
    "print(after_join)"
   ]
  },
  {
   "cell_type": "markdown",
   "metadata": {},
   "source": [
    "### 题目9：字符串替换 ✅\n",
    "给定字符串 `sentence = \"我喜欢苹果，苹果很甜\"`，将所有的 \"苹果\" 替换为 \"橘子\"。\n"
   ]
  },
  {
   "cell_type": "code",
   "execution_count": 10,
   "metadata": {},
   "outputs": [
    {
     "name": "stdout",
     "output_type": "stream",
     "text": [
      "我喜欢橘子，橘子很甜\n"
     ]
    }
   ],
   "source": [
    "sentence = \"我喜欢苹果，苹果很甜\"\n",
    "sentence = sentence.replace('苹果','橘子')\n",
    "print(sentence)"
   ]
  },
  {
   "cell_type": "markdown",
   "metadata": {},
   "source": [
    "### 题目10：字符串验证 ✅❌\n",
    "编写代码检查一个字符串是否：\n",
    "- 全部是数字 ❌\n",
    "- 全部是字母 ❌\n",
    "- 以特定前缀开头 ✅\n",
    "- 以特定后缀结尾 ✅\n",
    "---\n",
    "❌不知道怎么检查：全部是数字以及全部是字母\n"
   ]
  },
  {
   "cell_type": "code",
   "execution_count": 33,
   "metadata": {},
   "outputs": [
    {
     "name": "stdout",
     "output_type": "stream",
     "text": [
      "False True True True\n"
     ]
    }
   ],
   "source": [
    "# import re # 无需使用道正则\n",
    "s = 'programming'\n",
    "# is_all_number = re.findall(r'\\d*',s) # ❌\n",
    "# is_all_letter = re.findall(r'\\w*',s) # ❌\n",
    "is_all_number = s.isdigit() # 检查字符串是否全是数字\n",
    "is_all_letter = s.isalpha() # 检查字符串是否全是字母\n",
    "start_with = s.startswith('pro')\n",
    "end_with = s.endswith('ng')\n",
    "print(is_all_number,is_all_letter,start_with,end_with)"
   ]
  },
  {
   "cell_type": "markdown",
   "metadata": {},
   "source": [
    "## 列表操作（11-15题）\n",
    "\n",
    "### 题目11：列表基本操作 ✅\n",
    "创建列表 `numbers = [1, 2, 3, 4, 5]`：\n",
    "- 在末尾添加数字 6\n",
    "- 在开头插入数字 0\n",
    "- 删除数字 3\n",
    "- 获取列表长度\n"
   ]
  },
  {
   "cell_type": "code",
   "execution_count": 14,
   "metadata": {},
   "outputs": [
    {
     "name": "stdout",
     "output_type": "stream",
     "text": [
      "[0, 1, 2, 4, 5, 6]\n",
      "6\n"
     ]
    }
   ],
   "source": [
    "numbers = [1,2,'3',4,5]\n",
    "numbers.append(6)\n",
    "numbers.insert(0,0)\n",
    "numbers.remove('3')\n",
    "print(numbers)\n",
    "print(len(numbers))"
   ]
  },
  {
   "cell_type": "markdown",
   "metadata": {},
   "source": [
    "### 题目12：列表切片与索引 ✅\n",
    "给定列表 `fruits = [\"苹果\", \"香蕉\", \"橘子\", \"葡萄\", \"桃子\"]`：\n",
    "- 获取前三个水果\n",
    "- 获取最后两个水果\n",
    "- 获取每隔一个的水果（步长为2）\n"
   ]
  },
  {
   "cell_type": "code",
   "execution_count": 15,
   "metadata": {},
   "outputs": [
    {
     "name": "stdout",
     "output_type": "stream",
     "text": [
      "['苹果', '香蕉', '橘子']\n",
      "['葡萄', '桃子']\n",
      "['苹果', '橘子', '桃子']\n"
     ]
    }
   ],
   "source": [
    "fruits = [\"苹果\", \"香蕉\", \"橘子\", \"葡萄\", \"桃子\"]\n",
    "print(fruits[0:3]) # 可以简化为fruits[:3]，因为默认从索引0的位置开始\n",
    "print(fruits[-2:])\n",
    "print(fruits[0::2]) # 可以简化为fruits[::2],因为默认从索引0的位置开始"
   ]
  },
  {
   "cell_type": "markdown",
   "metadata": {},
   "source": [
    "### 题目13：列表推导式 ✅❌\n",
    "使用列表推导式创建：\n",
    "- 0到9的平方数列表 ✅\n",
    "- 1到20中的偶数列表 ✅\n",
    "- 包含 \"apple\", \"banana\", \"cherry\" 的字符串长度列表 ❌会错意了，叫你创建的是长度列表，也就是只有长度的列表\n"
   ]
  },
  {
   "cell_type": "code",
   "execution_count": 3,
   "metadata": {},
   "outputs": [
    {
     "name": "stdout",
     "output_type": "stream",
     "text": [
      "[0, 1, 4, 9, 16, 25, 36, 49, 64, 81]\n",
      "[2, 4, 6, 8, 10, 12, 14, 16, 18, 20]\n",
      "[5, 10, 6, 6, 6]\n"
     ]
    }
   ],
   "source": [
    "s_li = [\"apple\", \"watermelon\", \"orange\", \"banana\", \"cherry\"]\n",
    "print([i**2 for i in range(10)])\n",
    "print([(i+1) for i in range(20) if (i + 1) % 2 == 0])\n",
    "# print(list(filter(lambda x: x == \"apple\" or x == \"banana\" or x == \"cherry\", s_li))) # ❌错误答案\n",
    "print([len(word) for word in s_li]) # ✅正确答案"
   ]
  },
  {
   "cell_type": "markdown",
   "metadata": {},
   "source": [
    "### 题目14：列表排序与查找 ✅❌\n",
    "给定列表 `scores = [88, 92, 76, 85, 98, 79]`：\n",
    "- 对列表进行升序排序\n",
    "- 对列表进行降序排序\n",
    "- 找出最大值和最小值\n",
    "- 计算平均值\n",
    "---\n",
    "❌忘记了max和min方法，还有怎么对列表的每一个元素求和，应该是reduce，但是我的用法不对。\n",
    "\n",
    "看来自己摸索出来了，max和min就是直接用就可以，reduce还是不知道。\n",
    "\n",
    "不是reduce，计算列表中元素的和用的是`sum函数`‼️\n",
    "\n",
    "值得注意的是，注意`sort`和`sorted`的用法，`sort会改变原始列表`，`而sorted不会`，它是返回一个排序后的新列表，本题虽然结果一样，但是如果不改变原列表一定要用sorted，谨记。"
   ]
  },
  {
   "cell_type": "code",
   "execution_count": 7,
   "metadata": {},
   "outputs": [
    {
     "name": "stdout",
     "output_type": "stream",
     "text": [
      "升序: [76, 79, 85, 88, 92, 98]\n",
      "降序:[98, 92, 88, 85, 79, 76]\n",
      "最大值: 98, 最小值: 76\n",
      "86.33333333333333\n"
     ]
    }
   ],
   "source": [
    "scores = [88, 92, 76, 85, 98, 79]\n",
    "scores.sort()\n",
    "print('升序:',scores)\n",
    "scores.sort(reverse=True)\n",
    "print(f'降序:{scores}')\n",
    "print(f'最大值: {max(scores)}, 最小值: {min(scores)}')\n",
    "# print(reduce(scores)) # ❌\n",
    "print(sum(scores)/len(scores)) # ✅sum才是求和的正确方式"
   ]
  },
  {
   "cell_type": "markdown",
   "metadata": {},
   "source": [
    "### 题目15：嵌套列表 ✅\n",
    "创建一个3x3的二维列表（矩阵），并：\n",
    "- 访问第2行第3列的元素\n",
    "- 修改第1行第1列的元素\n",
    "- 打印整个矩阵\n"
   ]
  },
  {
   "cell_type": "code",
   "execution_count": 8,
   "metadata": {},
   "outputs": [
    {
     "name": "stdout",
     "output_type": "stream",
     "text": [
      "2\n",
      "[[0, 0, 0], [0, 1, 2], [0, 2, 4]]\n",
      "修改后li1: [[24, 0, 0], [0, 1, 2], [0, 2, 4]]\n",
      "初始矩阵:\n",
      "[1, 2, 3]\n",
      "[4, 5, 6]\n",
      "[7, 8, 9]\n",
      "\n",
      "第2行第3列的元素: 6\n",
      "\n",
      "修改后第1行第1列的元素: 100\n",
      "\n",
      "修改后的矩阵:\n",
      "[100, 2, 3]\n",
      "[4, 5, 6]\n",
      "[7, 8, 9]\n"
     ]
    }
   ],
   "source": [
    "li1 = [0,0,0]\n",
    "for i in range(3):\n",
    "    li1[i] = []\n",
    "    for j in range(3):\n",
    "        li1[i].append(i*j)\n",
    "print(li1[1][2])\n",
    "print(li1)\n",
    "li1[0][0] = 24\n",
    "print('修改后li1:',li1)"
   ]
  },
  {
   "cell_type": "markdown",
   "metadata": {},
   "source": [
    "## 字典与元组（16-20题）\n",
    "\n",
    "### 题目16：字典基本操作 ✅\n",
    "创建学生信息字典 `student = {\"name\": \"王五\", \"age\": 20, \"major\": \"计算机\"}`：\n",
    "- 添加新的键值对 `\"grade\": \"大二\"`\n",
    "- 修改年龄为 21\n",
    "- 删除专业信息\n",
    "- 获取所有键和所有值\n"
   ]
  },
  {
   "cell_type": "code",
   "execution_count": 35,
   "metadata": {},
   "outputs": [
    {
     "name": "stdout",
     "output_type": "stream",
     "text": [
      "第一次修改 {'name': '王五', 'age': 20, 'major': '计算机', 'grade': '大二'}\n",
      "第二次修改 {'name': '王五', 'age': 21, 'major': '计算机', 'grade': '大二'}\n",
      "第三次修改 {'name': '王五', 'age': 21, 'grade': '大二'}\n",
      "k:dict_keys(['name', 'age', 'grade']),v:dict_values(['王五', 21, '大二'])\n"
     ]
    }
   ],
   "source": [
    "student = {\"name\": \"王五\", \"age\": 20, \"major\": \"计算机\"}\n",
    "student['grade'] = '大二'\n",
    "print('第一次修改',student)\n",
    "student['age'] = 21\n",
    "print('第二次修改',student)\n",
    "student.pop('major') # 除了使用pop，还可以使用del student('major')\n",
    "print('第三次修改',student)\n",
    "k = student.keys()\n",
    "v = student.values()\n",
    "print(f'k:{k},v:{v}')"
   ]
  },
  {
   "cell_type": "markdown",
   "metadata": {},
   "source": [
    "### 题目17：字典遍历 ✅⚠️ 对了，但是需要改进\n",
    "给定字典 `scores = {\"数学\": 90, \"英语\": 85, \"物理\": 88}`：\n",
    "- 遍历并打印所有科目和成绩\n",
    "- 找出成绩最高的科目\n",
    "- 计算总分和平均分\n",
    "---\n",
    "⚠️本题运用到了dict.items()获取键和值,max()计算最高分，都是我没有想到的\n"
   ]
  },
  {
   "cell_type": "code",
   "execution_count": 1,
   "metadata": {},
   "outputs": [
    {
     "name": "stdout",
     "output_type": "stream",
     "text": [
      "数学:90\n",
      "英语:85\n",
      "物理:88\n",
      "最高分科目为:数学\n",
      "总分:263,平均分:87.66666666666667\n"
     ]
    }
   ],
   "source": [
    "scores = {\"数学\": 90, \"英语\": 85, \"物理\": 88}\n",
    "temp_score = 0\n",
    "subject = ''\n",
    "li = []\n",
    "for i in scores: # 这种寻找最高分的方式太繁琐了，python可以使用max函数做到，一行代码搞定\n",
    "    li.append(scores[i])\n",
    "    if scores[i] > temp_score:\n",
    "        temp_score = scores[i]\n",
    "        subject = i\n",
    "    print(f'{i}:{scores.get(i)}')\n",
    "print(f'最高分科目为:{subject}')\n",
    "print(f'总分:{sum(li)},平均分:{sum(li)/len(li)}')"
   ]
  },
  {
   "cell_type": "code",
   "execution_count": 6,
   "metadata": {},
   "outputs": [
    {
     "name": "stdout",
     "output_type": "stream",
     "text": [
      "所有科目和成绩:\n",
      "数学: 90\n",
      "英语: 85\n",
      "物理: 88\n",
      "\n",
      "成绩最高的科目: 数学 (90分)\n",
      "总分: 263\n",
      "平均分: 87.67\n"
     ]
    }
   ],
   "source": [
    "# 标准答案，好好参考\n",
    "scores = {\"数学\": 90, \"英语\": 85, \"物理\": 88}\n",
    "\n",
    "# 遍历并打印所有科目和成绩\n",
    "print(\"所有科目和成绩:\")\n",
    "for subject, score in scores.items():\n",
    "    print(f\"{subject}: {score}\")\n",
    "\n",
    "# 找出成绩最高的科目\n",
    "max_subject = max(scores, key=scores.get)\n",
    "max_score = scores[max_subject]\n",
    "print(f\"\\n成绩最高的科目: {max_subject} ({max_score}分)\")\n",
    "\n",
    "# 计算总分和平均分\n",
    "total_score = sum(scores.values())\n",
    "average_score = total_score / len(scores)\n",
    "print(f\"总分: {total_score}\")\n",
    "print(f\"平均分: {average_score:.2f}\")"
   ]
  },
  {
   "cell_type": "markdown",
   "metadata": {},
   "source": [
    "### 关于dict.items()的一点点引申"
   ]
  },
  {
   "cell_type": "code",
   "execution_count": 11,
   "metadata": {},
   "outputs": [
    {
     "name": "stdout",
     "output_type": "stream",
     "text": [
      "[1, 'a', 2, 'b', 3, 'c']\n",
      "[1, 'a', 2, 'b', 3, 'c']\n"
     ]
    }
   ],
   "source": [
    "d = {1: \"a\", 2: \"b\", 3: \"c\"}\n",
    "# print([k,v for k,v in d.items()]) # 这样是错的❌，我是想让d的键和值都变成一个个列表中的元素，但是这样做是不行的，因为列表推导式的表达式部分不能直接写多个值，需要明确的结构，只能获取键或值，无法同时获取\n",
    "# 你可以像下面这样做👇\n",
    "# ✅ 将所有键和值放在同一个扁平列表中(即所有键值混合)\n",
    "result = [item for key, value in d.items() for item in [key, value]]\n",
    "print(result)  # ['a', 1, 'b', 2, 'c', 3]\n",
    "\n",
    "from itertools import chain\n",
    "\n",
    "# ✅ 更优雅的扁平化方式\n",
    "result = list(chain.from_iterable(d.items()))\n",
    "print(result)  # ['a', 1, 'b', 2, 'c', 3]"
   ]
  },
  {
   "cell_type": "markdown",
   "metadata": {},
   "source": [
    "⚙️ 拓展\n",
    "`列表推导式的for循环嵌套`\n",
    "```python\n",
    "result = [item for key, value in d.items() for item in [key, value]]\n",
    "# 真实结构\n",
    "# [表达式 for 外层循环 for 内层循环]\n",
    "# 等价于下面的代码\n",
    "\"\"\"\n",
    "d = {'a': 1, 'b': 2, 'c': 3}\n",
    "\n",
    "# 这个复杂的列表推导式等价于下面的嵌套循环：\n",
    "result = []\n",
    "for key, value in d.items():        # 外层循环：遍历字典的键值对\n",
    "    for item in [key, value]:       # 内层循环：遍历当前键值对组成的列表\n",
    "        result.append(item)         # 将每个item添加到结果中\n",
    "\"\"\"\n",
    "```\n"
   ]
  },
  {
   "cell_type": "code",
   "execution_count": 2,
   "metadata": {},
   "outputs": [
    {
     "name": "stdout",
     "output_type": "stream",
     "text": [
      "外层循环的key:a,value:1\n",
      "内层循环的item:a\n",
      "内层循环的item:1\n",
      "外层循环的key:b,value:2\n",
      "内层循环的item:b\n",
      "内层循环的item:2\n",
      "外层循环的key:c,value:3\n",
      "内层循环的item:c\n",
      "内层循环的item:3\n",
      "result2: ['a', 1, 'b', 2, 'c', 3]\n"
     ]
    }
   ],
   "source": [
    "d = {'a': 1, 'b': 2, 'c': 3}\n",
    "\n",
    "# 这个复杂的列表推导式等价于下面的嵌套循环：\n",
    "result = []\n",
    "result2 = []\n",
    "for key, value in d.items():        # 外层循环：遍历字典的键值对\n",
    "    print(f'外层循环的key:{key},value:{value}')\n",
    "    for item in [key, value]:       # 内层循环：遍历当前键值对组成的列表\n",
    "        print(f\"内层循环的item:{item}\")\n",
    "        result.append(item)         # 将每个item添加到结果中\n",
    "# 更加简洁的写法\n",
    "for key,value in d.items():\n",
    "    result2.extend([key,value])\n",
    "print('result2:',result2)"
   ]
  },
  {
   "cell_type": "markdown",
   "metadata": {},
   "source": [
    "### 题目18：元组操作 ✅\n",
    "创建元组 `coordinates = (10, 20, 30)`：\n",
    "- 访问各个元素\n",
    "- 尝试修改元组（观察会发生什么）\n",
    "- 将元组转换为列表，修改后再转换回元组\n"
   ]
  },
  {
   "cell_type": "code",
   "execution_count": 44,
   "metadata": {},
   "outputs": [
    {
     "name": "stdout",
     "output_type": "stream",
     "text": [
      "10 20 30\n",
      "[10, 20, 30]\n",
      "(10, 20, 30)\n"
     ]
    }
   ],
   "source": [
    "coordinates = (10, 20, 30)\n",
    "print(coordinates[0],coordinates[1],coordinates[2])\n",
    "# coordinates[0] = 1\n",
    "li = list(coordinates)\n",
    "print(li)\n",
    "print(tuple(li))"
   ]
  },
  {
   "cell_type": "markdown",
   "metadata": {},
   "source": [
    "### 题目19：字典推导式 ✅❌\n",
    "给定列表 `words = [\"apple\", \"banana\", \"cherry\"]`，使用字典推导式创建：\n",
    "- 单词到其长度的映射 ✅\n",
    "- 单词到其首字母的映射 ❌ 我不懂它的意思，怎么样算“单词到首字母的映射”，我以为是{'a':['apple'],'b':[banana]}这样的\n"
   ]
  },
  {
   "cell_type": "code",
   "execution_count": 9,
   "metadata": {},
   "outputs": [
    {
     "name": "stdout",
     "output_type": "stream",
     "text": [
      "单词到其长度的映射:  {'apple': 5, 'banana': 6, 'cherry': 6}\n",
      "单词到其首字母的映射:  {'a': ['apple'], 'b': ['banana'], 'c': ['cherry']}\n",
      "单词首字母映射: {'apple': 'a', 'banana': 'b', 'cherry': 'c'}\n"
     ]
    }
   ],
   "source": [
    "words = [\"apple\", \"banana\", \"cherry\"]\n",
    "print('单词到其长度的映射: ',{i:len(i) for i in words})\n",
    "print('单词到其首字母的映射: ',{i[0]:[i] for i in words})\n",
    "\n",
    "# 答案\n",
    "# 单词到其首字母的映射\n",
    "word_first_letters = {word: word[0] for word in words}\n",
    "print(f\"单词首字母映射: {word_first_letters}\")"
   ]
  },
  {
   "cell_type": "markdown",
   "metadata": {},
   "source": [
    "### 题目20：数据结构综合 ❌\n",
    "创建一个学生成绩管理系统的数据结构，包含多个学生的姓名、年龄和各科成绩，并实现：\n",
    "- 添加新学生\n",
    "- 查询学生信息\n",
    "- 计算学生平均分\n"
   ]
  },
  {
   "cell_type": "code",
   "execution_count": 108,
   "metadata": {},
   "outputs": [
    {
     "name": "stdout",
     "output_type": "stream",
     "text": [
      "学生信息: {}\n",
      "加入新学生后的学生信息: {'yiming': {'age': 15, 'scores': {'数学': 140, '语文': 130, '地理': 96, '生物': 95}}}\n",
      "加入新学生后的学生信息: {'yiming': {'age': 15, 'scores': {'数学': 140, '语文': 130, '地理': 96, '生物': 95}}, 'hwx': {'age': 18, 'scores': {'数学': 140, '语文': 130}}}\n",
      "hwx的信息是:  {'age': 18, 'scores': {'数学': 140, '语文': 130}}\n",
      "here: {'数学': 140, '语文': 130, '地理': 96, '生物': 95}\n",
      "平均分:115.25\n"
     ]
    }
   ],
   "source": [
    "class ScoreManagement:\n",
    "    info_dict = {}\n",
    "\n",
    "    def __init__(self) -> None:\n",
    "        print(\"学生信息:\", self.info_dict)\n",
    "\n",
    "    def add_new_student(\n",
    "        self, n, *args\n",
    "    ):  # 如果这里想传入不定的参数怎么办？比如我可能只想传名字和年龄，不想传成绩，需要解包吗？\n",
    "        self.info_dict[n] = {}\n",
    "        if args[0]:\n",
    "            self.info_dict[n]['age'] = args[0]\n",
    "        if args[1]:\n",
    "            self.info_dict[n]['scores'] = args[1]\n",
    "        else:\n",
    "            self.info_dict[n] = {}\n",
    "        print(\"加入新学生后的学生信息:\", self.info_dict)\n",
    "\n",
    "    def get_student_info(self,name):\n",
    "        print(f\"{name}的信息是: \", self.info_dict[name])\n",
    "\n",
    "    def calculate_scores(self, name):\n",
    "        dic = self.info_dict[name].get(\"scores\")\n",
    "        temp = 0\n",
    "        if dic == None:\n",
    "            print(\"改学生未录入成绩!\")\n",
    "        else:\n",
    "            print('here:',dic)\n",
    "            for i in dic:\n",
    "                temp += dic[i]\n",
    "            print(f\"平均分:{temp / len(dic)}\")\n",
    "\n",
    "\n",
    "sm = ScoreManagement()\n",
    "sm.add_new_student(\"yiming\", 15, {\"数学\": 140, \"语文\": 130, \"地理\": 96, \"生物\": 95})\n",
    "sm.add_new_student(\"hwx\", 18, {\"数学\": 140, \"语文\": 130})\n",
    "sm.get_student_info('hwx')\n",
    "sm.calculate_scores(\"yiming\")"
   ]
  },
  {
   "cell_type": "markdown",
   "metadata": {},
   "source": [
    "### 以上的方式是有问题的，因为触犯了典型的python陷阱：类属性被所有实例共享了。\n",
    "如果你想的是所有学生都在一个管理类里管理不是吗？如果实在要这样的话，就要使用单例模式了，这样所有的实例的父类只有一个。\n",
    "### 代码中存在的问题\n",
    "1. 类属性共享的陷阱 ⚠️\n",
    "```python\n",
    "class ScoreManagement:\n",
    "    info_dict = {}  # ❌ 所有实例共享同一个字典\n",
    "```\n",
    "这是一个经典的Python陷阱。见如下的代码演示："
   ]
  },
  {
   "cell_type": "code",
   "execution_count": 12,
   "metadata": {},
   "outputs": [
    {
     "name": "stdout",
     "output_type": "stream",
     "text": [
      "=== 演示类属性共享问题 ===\n",
      "学生信息: {}\n",
      "加入新学生后的学生信息: {'张三': {'age': 18, 'scores': {'数学': 90}}}\n",
      "学生信息: {'张三': {'age': 18, 'scores': {'数学': 90}}}\n",
      "sm2看到的学生信息: {'张三': {'age': 18, 'scores': {'数学': 90}}}\n",
      "加入新学生后的学生信息: {'张三': {'age': 18, 'scores': {'数学': 90}}, '李四': {'age': 19, 'scores': {'语文': 85}}}\n",
      "sm1现在看到的学生信息: {'张三': {'age': 18, 'scores': {'数学': 90}}, '李四': {'age': 19, 'scores': {'语文': 85}}}\n"
     ]
    }
   ],
   "source": [
    "class ScoreManagement:\n",
    "    info_dict = {}  # 类属性 - 所有实例共享\n",
    "\n",
    "    def __init__(self) -> None:\n",
    "        print(\"学生信息:\", self.info_dict)\n",
    "\n",
    "    def add_new_student(self, n, *args):\n",
    "        self.info_dict[n] = {}\n",
    "        if args and args[0]:\n",
    "            self.info_dict[n]['age'] = args[0]\n",
    "        if len(args) > 1 and args[1]:\n",
    "            self.info_dict[n]['scores'] = args[1]\n",
    "        print(\"加入新学生后的学生信息:\", self.info_dict)\n",
    "\n",
    "# 演示问题\n",
    "print(\"=== 演示类属性共享问题 ===\")\n",
    "sm1 = ScoreManagement()\n",
    "sm1.add_new_student(\"张三\", 18, {\"数学\": 90})\n",
    "\n",
    "sm2 = ScoreManagement()  # 新实例\n",
    "print(\"sm2看到的学生信息:\", sm2.info_dict)  # 😱 也包含张三！\n",
    "\n",
    "sm2.add_new_student(\"李四\", 19, {\"语文\": 85})\n",
    "print(\"sm1现在看到的学生信息:\", sm1.info_dict)  # 😱 也包含李四！"
   ]
  },
  {
   "cell_type": "markdown",
   "metadata": {},
   "source": [
    "#### 你可能会有疑惑，多个实例共享这个字典有什么不对吗？因为这些学生的信息确实是可以共享的呀。而且，如果当前的代码是在一个脚本中在终端运行，那么创建的实例只有一个，这样好像是可以的？\n",
    "\n",
    "解答:\n",
    "1. 设计意图 vs 实际行为的不匹配 🎯\n",
    "```python\n",
    "# 当我们写 ScoreManagement() 时，通常期望创建一个独立的管理系统：\n",
    "# 期望的行为：两个独立的管理系统\n",
    "class_a_manager = ScoreManagement()  # 管理A班学生\n",
    "class_b_manager = ScoreManagement()  # 管理B班学生\n",
    "\n",
    "# 但实际上：它们管理的是同一批学生！\n",
    "class_a_manager.add_student(\"张三\", 18)\n",
    "print(class_b_manager.info_dict)  # 😱 B班管理器也能看到张三！\n",
    "```\n",
    "这违背了\"**每个实例独立**\"的基本期望。\n",
    "\n",
    "---\n",
    "2. 潜在的Bug和意外行为 🐛\n",
    "\n",
    "即使在单个脚本中，也可能出现意外：\n",
    "```python\n",
    "# 看起来正常的代码\n",
    "def create_class_manager(class_name):\n",
    "    manager = ScoreManagement()\n",
    "    manager.class_name = class_name  # 想设置班级名\n",
    "    return manager\n",
    "\n",
    "# 使用时出现问题\n",
    "manager1 = create_class_manager(\"高一(1)班\")\n",
    "manager1.add_student(\"张三\", 18)\n",
    "\n",
    "manager2 = create_class_manager(\"高一(2)班\") \n",
    "print(f\"{manager2.class_name}的学生:\", manager2.info_dict)\n",
    "# 输出：高一(2)班的学生: {'张三': {'age': 18}}\n",
    "# 😱 2班管理器显示了1班的学生！\n",
    "```\n",
    "---\n",
    "3. 测试和调试困难 🧪\n",
    "```python\n",
    "def test_add_student():\n",
    "    # 第一个测试\n",
    "    manager = ScoreManagement()\n",
    "    manager.add_student(\"测试学生\", 18)\n",
    "    assert len(manager.info_dict) == 1  # ✅ 通过\n",
    "\n",
    "def test_empty_manager():\n",
    "    # 第二个测试（期望是空的）\n",
    "    manager = ScoreManagement()\n",
    "    assert len(manager.info_dict) == 0  # ❌ 失败！还有上个测试的数据\n",
    "\n",
    "# 测试之间相互影响，很难调试\n",
    "```\n",
    "---\n",
    "4. 什么时候类属性是合适的？ ✅\n",
    "\n",
    "类属性确实有合适的使用场景：\n",
    "```python\n",
    "class Student:\n",
    "    # ✅ 这些用类属性是合适的\n",
    "    school_name = \"清华大学\"  # 所有学生共享学校名\n",
    "    total_count = 0          # 统计总学生数\n",
    "    \n",
    "    def __init__(self, name, age):\n",
    "        self.name = name     # ✅ 实例属性：每个学生独有\n",
    "        self.age = age       # ✅ 实例属性：每个学生独有\n",
    "        Student.total_count += 1  # 更新总数\n",
    "\n",
    "# 使用\n",
    "student1 = Student(\"张三\", 18)\n",
    "student2 = Student(\"李四\", 19)\n",
    "print(f\"学校: {Student.school_name}\")  # 清华大学\n",
    "print(f\"总学生数: {Student.total_count}\")  # 2\n",
    "```\n",
    "---\n",
    "5. 管理系统的正确设计 🏗️\n",
    "\n",
    "对于学生管理系统，有几种正确的设计：\n",
    "#### 方案A：实例属性（推荐）\n",
    "```python\n",
    "class ScoreManagement:\n",
    "    def __init__(self, class_name=\"默认班级\"):\n",
    "        self.class_name = class_name\n",
    "        self.students = {}  # 每个实例独有\n",
    "    \n",
    "    def add_student(self, name, age):\n",
    "        self.students[name] = {\"age\": age}\n",
    "        print(f\"{self.class_name} 添加学生: {name}\")\n",
    "\n",
    "# 使用\n",
    "class_a = ScoreManagement(\"高一(1)班\")\n",
    "class_b = ScoreManagement(\"高一(2)班\")\n",
    "# 两个班级完全独立\n",
    "```\n",
    "#### 方案B：单例模式（如果真需要全局）\n",
    "```python\n",
    "class GlobalStudentManager:\n",
    "    _instance = None\n",
    "    _students = {}\n",
    "    \n",
    "    def __new__(cls):\n",
    "        if cls._instance is None:\n",
    "            cls._instance = super().__new__(cls)\n",
    "        return cls._instance\n",
    "    \n",
    "    def add_student(self, name, age):\n",
    "        self._students[name] = {\"age\": age}\n",
    "\n",
    "# 明确表达\"全局唯一\"的意图\n",
    "```\n",
    "#### 方案C：类方法（工具类）\n",
    "```python\n",
    "class StudentUtils:\n",
    "    _global_students = {}\n",
    "    \n",
    "    @classmethod\n",
    "    def add_student(cls, name, age):\n",
    "        cls._global_students[name] = {\"age\": age}\n",
    "    \n",
    "    @classmethod\n",
    "    def get_all_students(cls):\n",
    "        return cls._global_students\n",
    "\n",
    "# 直接通过类调用，不创建实例\n",
    "StudentUtils.add_student(\"张三\", 18)\n",
    "```\n",
    "---\n",
    "6. 实际场景中的问题 🌍\n",
    "\n",
    "`对于你刚才的疑问，你可以想象一下接下来的场景`\n",
    "```python\n",
    "# 学校管理系统\n",
    "def import_students_from_file(filename, manager):\n",
    "    \"\"\"从文件导入学生\"\"\"\n",
    "    # ... 读取文件，添加学生到manager\n",
    "    \n",
    "def backup_class_data(manager, backup_name):\n",
    "    \"\"\"备份班级数据\"\"\"\n",
    "    # ... 保存manager中的学生数据\n",
    "\n",
    "# 使用时\n",
    "class_1a = ScoreManagement()\n",
    "import_students_from_file(\"1a_students.csv\", class_1a)\n",
    "\n",
    "class_1b = ScoreManagement() \n",
    "import_students_from_file(\"1b_students.csv\", class_1b)\n",
    "\n",
    "# 😱 问题：1b的数据包含了1a的学生！\n",
    "backup_class_data(class_1b, \"1b_backup\")  # 备份了错误的数据\n",
    "```\n",
    "`看到这里应该是已经一目了然了`\n",
    "\n",
    "---\n",
    "7. 原则总结 📝\n",
    "\n",
    "类属性适用于：\n",
    "- 所有实例共享的常量（如学校名、版本号）\n",
    "- 统计信息（如总实例数）\n",
    "- 配置信息（如默认设置）\n",
    "\n",
    "实例属性适用于：\n",
    "- 每个实例独有的数据（如学生列表、班级名）\n",
    "- 状态信息（如当前操作、临时数据）\n",
    "- 业务数据（如用户信息、订单数据）"
   ]
  },
  {
   "cell_type": "markdown",
   "metadata": {},
   "source": [
    "### 标准答案"
   ]
  },
  {
   "cell_type": "code",
   "execution_count": 11,
   "metadata": {},
   "outputs": [
    {
     "name": "stdout",
     "output_type": "stream",
     "text": [
      "学生 张三 添加成功\n",
      "学生 李四 添加成功\n",
      "姓名: 张三\n",
      "年龄: 20\n",
      "成绩: {'数学': 90, '英语': 85, '物理': 88}\n",
      "{'age': 20, 'scores': {'数学': 90, '英语': 85, '物理': 88}}\n",
      "张三 的平均分: 87.67\n"
     ]
    },
    {
     "data": {
      "text/plain": [
       "87.66666666666667"
      ]
     },
     "execution_count": 11,
     "metadata": {},
     "output_type": "execute_result"
    }
   ],
   "source": [
    "# 学生成绩管理系统\n",
    "class StudentManager:\n",
    "    def __init__(self):\n",
    "        self.students = {}\n",
    "    \n",
    "    def add_student(self, name, age, subjects_scores):\n",
    "        \"\"\"添加新学生\"\"\"\n",
    "        self.students[name] = {\n",
    "            \"age\": age,\n",
    "            \"scores\": subjects_scores\n",
    "        }\n",
    "        print(f\"学生 {name} 添加成功\")\n",
    "    \n",
    "    def query_student(self, name):\n",
    "        \"\"\"查询学生信息\"\"\"\n",
    "        if name in self.students:\n",
    "            student = self.students[name]\n",
    "            print(f\"姓名: {name}\")\n",
    "            print(f\"年龄: {student['age']}\")\n",
    "            print(f\"成绩: {student['scores']}\")\n",
    "            return student\n",
    "        else:\n",
    "            print(f\"未找到学生 {name}\")\n",
    "            return None\n",
    "    \n",
    "    def calculate_average(self, name):\n",
    "        \"\"\"计算学生平均分\"\"\"\n",
    "        if name in self.students:\n",
    "            scores = self.students[name][\"scores\"]\n",
    "            average = sum(scores.values()) / len(scores)\n",
    "            print(f\"{name} 的平均分: {average:.2f}\")\n",
    "            return average\n",
    "        else:\n",
    "            print(f\"未找到学生 {name}\")\n",
    "            return None\n",
    "\n",
    "# 使用示例\n",
    "manager = StudentManager()\n",
    "\n",
    "# 添加学生\n",
    "manager.add_student(\"张三\", 20, {\"数学\": 90, \"英语\": 85, \"物理\": 88})\n",
    "manager.add_student(\"李四\", 19, {\"数学\": 78, \"英语\": 92, \"物理\": 85})\n",
    "\n",
    "# 查询学生信息\n",
    "s = manager.query_student(\"张三\")\n",
    "print(s)\n",
    "\n",
    "# 计算平均分\n",
    "manager.calculate_average(\"张三\")"
   ]
  },
  {
   "cell_type": "markdown",
   "metadata": {},
   "source": [
    "### 超完整的实战例子，见:`improved_solution.py`"
   ]
  },
  {
   "cell_type": "markdown",
   "metadata": {},
   "source": [
    "## 控制流程（21-25题）\n",
    "\n",
    "### 题目21：条件判断 ✅\n",
    "编写程序判断一个数字的性质：\n",
    "- 正数、负数或零\n",
    "- 奇数或偶数\n",
    "- 是否能被3整除\n"
   ]
  },
  {
   "cell_type": "code",
   "execution_count": 111,
   "metadata": {},
   "outputs": [
    {
     "name": "stdout",
     "output_type": "stream",
     "text": [
      "是否是正数:True,是否是负数:False,是否为0:False\n",
      "是否是奇数:True,是否是偶数:False\n",
      "是否能被3整除:True\n"
     ]
    }
   ],
   "source": [
    "num = int(input())\n",
    "print(f\"是否是正数:{num > 0},是否是负数:{num < 0},是否为0:{num == 0}\")\n",
    "print(f\"是否是奇数:{num % 2 != 0},是否是偶数:{num % 2 == 0}\")\n",
    "print(f\"是否能被3整除:{num % 3 == 0}\")"
   ]
  },
  {
   "cell_type": "markdown",
   "metadata": {},
   "source": [
    "### 题目22：多重条件 ✅\n",
    "根据学生成绩划分等级：\n",
    "- 90-100: 优秀\n",
    "- 80-89: 良好\n",
    "- 70-79: 中等\n",
    "- 60-69: 及格\n",
    "- 0-59: 不及格\n"
   ]
  },
  {
   "cell_type": "code",
   "execution_count": 114,
   "metadata": {},
   "outputs": [
    {
     "name": "stdout",
     "output_type": "stream",
     "text": [
      "不及格\n"
     ]
    }
   ],
   "source": [
    "score = int(input('请输入学生成绩💯:'))\n",
    "if score in range(90,101):\n",
    "    print('优秀')\n",
    "elif score in range(80,90):\n",
    "    print('良好')\n",
    "elif score in range(70,80):\n",
    "    print('中等')\n",
    "elif score in range(60,70):\n",
    "    print('及格')\n",
    "else:\n",
    "    print('不及格')"
   ]
  },
  {
   "cell_type": "markdown",
   "metadata": {},
   "source": [
    "### 题目23：循环基础 ✅\n",
    "使用for循环和while循环分别实现：\n",
    "- 计算1到100的和\n",
    "- 打印九九乘法表的前5行\n",
    "- 找出1到50中所有的质数\n"
   ]
  },
  {
   "cell_type": "code",
   "execution_count": 169,
   "metadata": {},
   "outputs": [
    {
     "name": "stdout",
     "output_type": "stream",
     "text": [
      "for循环计算的和 5050\n",
      "while_temp: 5050\n",
      "1x1=1 \n",
      "\n",
      "1x2=2 2x2=4 \n",
      "\n",
      "1x3=3 2x3=6 3x3=9 \n",
      "\n",
      "1x4=4 2x4=8 3x4=12 4x4=16 \n",
      "\n",
      "1x5=5 2x5=10 3x5=15 4x5=20 5x5=25 \n",
      "\n",
      "2 | 3 | 5 | 7 | 11 | 13 | 17 | 19 | 23 | 29 | 31 | 37 | 41 | 43 | 47 | "
     ]
    }
   ],
   "source": [
    "# for循环 - 计算1-100的和\n",
    "for_temp = 0\n",
    "while_temp = 0\n",
    "for i in range(100):\n",
    "    for_temp += (i+1)\n",
    "print('for循环计算的和',for_temp)\n",
    "# while循环 - 计算1-100的和\n",
    "i = 0\n",
    "while i <= 100:\n",
    "    while_temp += i\n",
    "    i += 1\n",
    "print('while_temp:',while_temp)\n",
    "\n",
    "# 九九乘法表的前5行\n",
    "for i in range(9):\n",
    "    if i == 5:\n",
    "        break\n",
    "    for j in range(i+1):\n",
    "        print(f'{j+1}x{i+1}={(i+1)*(j+1)} ',end='')\n",
    "    print('\\n')\n",
    "# 找出1-50之间的质数\n",
    "def is_prime(num):\n",
    "    if num <= 1:\n",
    "        return False\n",
    "    for i in range(2, int(num ** 0.5) + 1):\n",
    "        if num % i == 0:\n",
    "            return False\n",
    "    return True\n",
    "for i in range(50):\n",
    "    if is_prime(i+1):\n",
    "        print(i+1,end=' | ')\n",
    "\n",
    "\n",
    "\n",
    "\n"
   ]
  },
  {
   "cell_type": "markdown",
   "metadata": {},
   "source": [
    "### 题目24：循环控制 ✅\n",
    "编写程序：\n",
    "- 使用break找出第一个大于100的平方数\n",
    "- 使用continue跳过所有偶数，只打印1到20的奇数\n",
    "- 使用嵌套循环打印星号三角形\n"
   ]
  },
  {
   "cell_type": "code",
   "execution_count": 14,
   "metadata": {},
   "outputs": [
    {
     "name": "stdout",
     "output_type": "stream",
     "text": [
      "i:  11\n",
      "1 3 5 7 9 11 13 15 17 19 \n",
      "*\n",
      "**\n",
      "***\n",
      "****\n",
      "*****\n",
      "******\n",
      "*******\n",
      "********\n",
      "*********\n"
     ]
    }
   ],
   "source": [
    "i = 0\n",
    "while True:\n",
    "    if i**2 > 100:\n",
    "        print(\"i: \", i)\n",
    "        break\n",
    "    i += 1\n",
    "for i in range(20):\n",
    "    if (i + 1) % 2 == 0:\n",
    "        continue\n",
    "    else:\n",
    "        print(i + 1, end=\" \")\n",
    "\n",
    "for i in range(10):\n",
    "    s = \"\"\n",
    "    for j in range(i):\n",
    "        s += \"*\"\n",
    "        \n",
    "    print(s)    \n",
    "    "
   ]
  },
  {
   "cell_type": "markdown",
   "metadata": {},
   "source": [
    "### 题目25：异常处理 ✅\n",
    "编写程序处理以下异常情况：\n",
    "- 除零错误\n",
    "- 索引越界错误\n",
    "- 类型转换错误\n",
    "- 文件"
   ]
  },
  {
   "cell_type": "code",
   "execution_count": 17,
   "metadata": {},
   "outputs": [
    {
     "name": "stdout",
     "output_type": "stream",
     "text": [
      "除以0了!division by zero\n",
      "异常处理结束!\n",
      "数组越界了!list index out of range\n",
      "异常处理结束!\n",
      "类型转换错误了!int() argument must be a string, a bytes-like object or a real number, not 'list'\n",
      "异常处理结束!\n",
      "文件不存在:{e}\n",
      "文件异常处理结束!\n"
     ]
    }
   ],
   "source": [
    "try:\n",
    "    print(3 / 0)\n",
    "except ZeroDivisionError as e:\n",
    "    print(f\"除以0了!{e}\")\n",
    "finally:\n",
    "    print(\"异常处理结束!\")\n",
    "try:\n",
    "    li = [1, 2]\n",
    "    print(li[4])\n",
    "except IndexError as e:\n",
    "    print(f\"数组越界了!{e}\")\n",
    "finally:\n",
    "    print(\"异常处理结束!\")\n",
    "try:\n",
    "    li = [1, 2]\n",
    "    int(li)\n",
    "except TypeError as e:\n",
    "    print(f\"类型转换错误了!{e}\")\n",
    "finally:\n",
    "    print(\"异常处理结束!\")\n",
    "# 文件\n",
    "try:\n",
    "    with open('xx.json') as f:\n",
    "        print(f.read)\n",
    "except Exception as e: # 文件不存在的异常要使用这个，不知道的话，统一使用Exception就可以\n",
    "    print('文件不存在:{e}')\n",
    "finally:\n",
    "    print('文件异常处理结束!')"
   ]
  },
  {
   "cell_type": "code",
   "execution_count": 18,
   "metadata": {},
   "outputs": [
    {
     "name": "stdout",
     "output_type": "stream",
     "text": [
      "10 / 2 = 5.0\n",
      "错误: 除数不能为零\n",
      "索引 2 的值: 3\n",
      "错误: 索引 10 越界\n",
      "转换成功: 123 -> 123\n",
      "错误: 无法将 'abc' 转换为整数\n",
      "错误: 文件 'existing_file.txt' 不存在\n",
      "错误: 文件 'non_existing_file.txt' 不存在\n"
     ]
    }
   ],
   "source": [
    "# 标准答案\n",
    "# 1. 除零错误\n",
    "def safe_division(a, b):\n",
    "    try:\n",
    "        result = a / b\n",
    "        print(f\"{a} / {b} = {result}\")\n",
    "        return result\n",
    "    except ZeroDivisionError:\n",
    "        print(\"错误: 除数不能为零\")\n",
    "        return None\n",
    "\n",
    "safe_division(10, 2)\n",
    "safe_division(10, 0)\n",
    "\n",
    "# 2. 索引越界错误\n",
    "def safe_list_access(lst, index):\n",
    "    try:\n",
    "        value = lst[index]\n",
    "        print(f\"索引 {index} 的值: {value}\")\n",
    "        return value\n",
    "    except IndexError:\n",
    "        print(f\"错误: 索引 {index} 越界\")\n",
    "        return None\n",
    "\n",
    "test_list = [1, 2, 3, 4, 5]\n",
    "safe_list_access(test_list, 2)\n",
    "safe_list_access(test_list, 10)\n",
    "\n",
    "# 3. 类型转换错误\n",
    "def safe_int_conversion(value):\n",
    "    try:\n",
    "        result = int(value)\n",
    "        print(f\"转换成功: {value} -> {result}\")\n",
    "        return result\n",
    "    except ValueError:\n",
    "        print(f\"错误: 无法将 '{value}' 转换为整数\")\n",
    "        return None\n",
    "\n",
    "safe_int_conversion(\"123\")\n",
    "safe_int_conversion(\"abc\")\n",
    "\n",
    "# 4. 文件不存在错误\n",
    "def safe_file_read(filename):\n",
    "    try:\n",
    "        with open(filename, 'r', encoding='utf-8') as f:\n",
    "            content = f.read()\n",
    "            print(f\"文件内容: {content}\")\n",
    "            return content\n",
    "    except FileNotFoundError:\n",
    "        print(f\"错误: 文件 '{filename}' 不存在\")\n",
    "        return None\n",
    "    except Exception as e:\n",
    "        print(f\"读取文件时发生错误: {e}\")\n",
    "        return None\n",
    "\n",
    "safe_file_read(\"existing_file.txt\")\n",
    "safe_file_read(\"non_existing_file.txt\")"
   ]
  },
  {
   "cell_type": "markdown",
   "metadata": {},
   "source": [
    "## 函数与模块（26-30题）\n",
    "\n",
    "### 题目26：函数定义与调用 ✅\n",
    "编写以下函数：\n",
    "- 计算圆的面积（传入半径）\n",
    "- 判断一个数是否为素数\n",
    "- 反转字符串\n",
    "- 计算阶乘\n"
   ]
  },
  {
   "cell_type": "code",
   "execution_count": 223,
   "metadata": {},
   "outputs": [
    {
     "name": "stdout",
     "output_type": "stream",
     "text": [
      "113.09733552923255\n",
      "False\n",
      "gnimmargorp\n",
      "最后一个值: 3628800\n"
     ]
    }
   ],
   "source": [
    "import math\n",
    "\n",
    "r = int(input(\"输入半径:\"))\n",
    "n = int(input(\"输入需要判断是否是素数的数字:\"))\n",
    "\n",
    "def area(r):\n",
    "    print(math.pi * r * r)\n",
    "area(r)\n",
    "\n",
    "def is_prime(n):\n",
    "    if n <= 1:\n",
    "        return False\n",
    "    for i in range(2, int(n**0.5) + 1):\n",
    "        return False\n",
    "    return True\n",
    "print(is_prime(n))\n",
    "\n",
    "s = \"programming\"\n",
    "print(s[::-1])\n",
    "\n",
    "\n",
    "def factorial(n):\n",
    "    if n >= 0 or n == 1:\n",
    "        yield 1\n",
    "    temp = 1\n",
    "    while n > 1:\n",
    "        temp *= n\n",
    "        yield temp\n",
    "        n -= 1\n",
    "pw = factorial(10)\n",
    "# 方法1:只输出最后一个值，用list存，但是效率低，浪费空间，因为存储了所有的中间值，最好的办法是方法2\n",
    "# li = []\n",
    "# for x in pw:\n",
    "#     li.append(x)\n",
    "# print(li[-1])\n",
    "# 方法2:用一个变量接受，迭代完成就是最后一个值！！！无需存储其他值\n",
    "last_value = 0\n",
    "for x in pw:\n",
    "    last_value = x\n",
    "print('最后一个值:',last_value)"
   ]
  },
  {
   "cell_type": "markdown",
   "metadata": {},
   "source": [
    "### 题目27：函数参数 ✅\n",
    "编写函数实现：\n",
    "- 位置参数：计算两个数的和\n",
    "- 默认参数：问候函数（可选择语言）\n",
    "- 可变参数：计算多个数的乘积\n",
    "- 关键字参数：创建学生信息\n"
   ]
  },
  {
   "cell_type": "code",
   "execution_count": 5,
   "metadata": {},
   "outputs": [
    {
     "name": "stdout",
     "output_type": "stream",
     "text": [
      "30\n",
      "哈哈，你好呀👋\n",
      "你好呀\n",
      "乘积为:6\n",
      "{'name': 'hwx', 'age': 20, 'hobby': 'basketball'}\n",
      "学生hwx的信息为:年龄:20,爱好:basketball\n"
     ]
    }
   ],
   "source": [
    "def add(a,b):\n",
    "    print(a+b)\n",
    "def say_hello(lan=\"你好呀\"):\n",
    "    print(lan)\n",
    "def multiply(*args):\n",
    "    a,b,c = [*args] # 解包\n",
    "    print(f'乘积为:{a*b*c}')\n",
    "def info(**kwargs):\n",
    "    dic = {**kwargs}\n",
    "    print(dic)\n",
    "    print(f'学生{dic['name']}的信息为:年龄:{dic['age']},爱好:{dic['hobby']}')\n",
    "add(13,17)\n",
    "say_hello('哈哈，你好呀👋')\n",
    "say_hello()\n",
    "multiply(1,2,3)\n",
    "info(name='hwx',age=20,hobby='basketball')\n"
   ]
  },
  {
   "cell_type": "code",
   "execution_count": 19,
   "metadata": {},
   "outputs": [],
   "source": [
    "# 标准答案\n",
    "# 1. 位置参数：计算两个数的和\n",
    "def add_two_numbers(a, b):\n",
    "    \"\"\"计算两个数的和\"\"\"\n",
    "    return a + b\n",
    "\n",
    "# 2. 默认参数：问候函数\n",
    "def greet(name, language=\"中文\"):\n",
    "    \"\"\"问候函数，可选择语言\"\"\"\n",
    "    greetings = {\n",
    "        \"中文\": f\"你好，{name}!\",\n",
    "        \"英文\": f\"Hello, {name}!\",\n",
    "        \"日文\": f\"こんにちは、{name}!\",\n",
    "        \"韩文\": f\"안녕하세요, {name}!\"\n",
    "    }\n",
    "    return greetings.get(language, f\"Hello, {name}!\")\n",
    "\n",
    "# 3. 可变参数：计算多个数的乘积\n",
    "def multiply_numbers(*numbers):\n",
    "    \"\"\"计算多个数的乘积\"\"\"\n",
    "    if not numbers:\n",
    "        return 0\n",
    "    result = 1\n",
    "    for num in numbers:\n",
    "        result *= num\n",
    "    return result\n",
    "\n",
    "# 4. 关键字参数：创建学生信息\n",
    "def create_student(**info):\n",
    "    \"\"\"创建学生信息\"\"\"\n",
    "    student = {}\n",
    "    for key, value in info.items():\n",
    "        student[key] = value\n",
    "    return student\n",
    "\n",
    "# 测试函数\n",
    "print(f\"3 + 5 = {add_two_numbers(3, 5)}\")\n",
    "print(greet(\"张三\"))\n",
    "print(greet(\"Tom\", \"英文\"))\n",
    "print(f\"2 * 3 * 4 = {multiply_numbers(2, 3, 4)}\")\n",
    "student = create_student(name=\"李四\", age=20, major=\"计算机\")\n",
    "print(f\"学生信息: {student}\")"
   ]
  },
  {
   "cell_type": "markdown",
   "metadata": {},
   "source": [
    "### 题目28：Lambda函数 ✅❌\n",
    "使用lambda函数：\n",
    "- 计算两个数的最大值 ✅\n",
    "- 将字符串列表按长度排序 ❌❌ 第二次复习依旧忘记\n",
    "- 过滤出列表中的偶数 ✅\n",
    "- 将数字列表每个元素平方 ✅\n",
    "---\n",
    "❌将字符串列表按长度排序要怎么做？"
   ]
  },
  {
   "cell_type": "code",
   "execution_count": 4,
   "metadata": {},
   "outputs": [
    {
     "name": "stdout",
     "output_type": "stream",
     "text": [
      "6\n",
      "['123', 'AssertionError', 'BrokenPipeError', 'IndexError', 'a', 'kkjd']\n",
      "按长度排序: ['c', 'go', 'java', 'python', 'javascript']\n",
      "[1, 3, 5, 7, 9]\n",
      "[1, 4, 9, 16, 25, 36, 49, 64, 81]\n"
     ]
    }
   ],
   "source": [
    "cal = lambda x, y: max(x, y)\n",
    "print(cal(5, 6))\n",
    "\n",
    "# 将字符串列表按长度排序 的错误❌做法\n",
    "s = [\"IndexError\", \"a\", \"BrokenPipeError\", \"123\", \"kkjd\", \"AssertionError\"]\n",
    "s.sort()\n",
    "print(s)\n",
    "# 将字符串列表按长度排序 的正确✅做法\n",
    "words = [\"python\", \"java\", \"c\", \"javascript\", \"go\"]\n",
    "sorted_by_length = sorted(words, key=lambda x: len(x))\n",
    "print(f\"按长度排序: {sorted_by_length}\")\n",
    "\n",
    "n = [1, 2, 3, 4, 5, 6, 7, 8, 9]\n",
    "print(list(filter(lambda x: x % 2 != 0, n)))\n",
    "print(list(map(lambda x: x**2, n)))\n",
    "\n",
    "\n"
   ]
  },
  {
   "cell_type": "markdown",
   "metadata": {},
   "source": [
    "### 题目29：装饰器基础 ❌\n",
    "编写一个简单的装饰器：\n",
    "- 计算函数执行时间 ❌装饰器写法有误\n",
    "- 在函数执行前后打印日志 ❌ 不知道怎么做\n",
    "- 验证函数参数类型 ❌ 不知道怎么做"
   ]
  },
  {
   "cell_type": "code",
   "execution_count": 21,
   "metadata": {},
   "outputs": [
    {
     "name": "stdout",
     "output_type": "stream",
     "text": [
      "check_type执行\n"
     ]
    },
    {
     "ename": "TypeError",
     "evalue": "check_type.<locals>.decorator() missing 1 required positional argument: 'func'",
     "output_type": "error",
     "traceback": [
      "\u001b[31m---------------------------------------------------------------------------\u001b[39m",
      "\u001b[31mTypeError\u001b[39m                                 Traceback (most recent call last)",
      "\u001b[36mCell\u001b[39m\u001b[36m \u001b[39m\u001b[32mIn[21]\u001b[39m\u001b[32m, line 45\u001b[39m\n\u001b[32m     42\u001b[39m \u001b[38;5;129m@check_type\u001b[39m\n\u001b[32m     43\u001b[39m \u001b[38;5;28;01mdef\u001b[39;00m\u001b[38;5;250m \u001b[39m\u001b[34mtest2\u001b[39m():\n\u001b[32m     44\u001b[39m     \u001b[38;5;28mprint\u001b[39m(\u001b[33m'\u001b[39m\u001b[33mtest\u001b[39m\u001b[33m'\u001b[39m)\n\u001b[32m---> \u001b[39m\u001b[32m45\u001b[39m \u001b[43mtest2\u001b[49m\u001b[43m(\u001b[49m\u001b[43m)\u001b[49m\n\u001b[32m     47\u001b[39m \u001b[38;5;129m@logger\u001b[39m\n\u001b[32m     48\u001b[39m \u001b[38;5;28;01mdef\u001b[39;00m\u001b[38;5;250m \u001b[39m\u001b[34mtest\u001b[39m(num:\u001b[38;5;28mint\u001b[39m):\n\u001b[32m     49\u001b[39m     \u001b[38;5;28mprint\u001b[39m(\u001b[33mf\u001b[39m\u001b[33m'\u001b[39m\u001b[33mthis is test-\u001b[39m\u001b[38;5;132;01m{\u001b[39;00mnum\u001b[38;5;132;01m}\u001b[39;00m\u001b[33m'\u001b[39m)\n",
      "\u001b[31mTypeError\u001b[39m: check_type.<locals>.decorator() missing 1 required positional argument: 'func'"
     ]
    }
   ],
   "source": [
    "from functools import wraps\n",
    "\n",
    "import time\n",
    "def timer(func):\n",
    "    \"\"\"_summary_timer\n",
    "\n",
    "    Returns:\n",
    "        _type_: _description_\n",
    "    \"\"\"\n",
    "    @wraps(func)\n",
    "    def wrapper(*args,**kwargs):\n",
    "       start = time.time()\n",
    "       result = func(*args,**kwargs)\n",
    "       end = time.time() \n",
    "       print(f'耗时:{end - start:.2f}')\n",
    "       return result\n",
    "    return wrapper\n",
    "\n",
    "def logger(func):\n",
    "    @wraps(func)\n",
    "    def wrapper(*args,**kwargs):\n",
    "        print('==wrapper_start==')\n",
    "        result = func(*args,**kwargs)\n",
    "        print('==wrapper_end')\n",
    "        return result\n",
    "    return wrapper\n",
    "\n",
    "def check_type(*expected_types):\n",
    "    print('check_type执行')\n",
    "    def decorator(func):\n",
    "        print('decorator执行')\n",
    "        @wraps(func)\n",
    "        def wrapper(*args,**kwargs):\n",
    "            print(f'wrapper执行,args:{args},kwargs:{kwargs}')\n",
    "            for i,(arg,expected_type) in enumerate(zip(args,expected_types)):\n",
    "                if not isinstance(arg,expected_type):\n",
    "                    raise TypeError(f'参数{i+1} 应该是 {expected_type.__name__} 类型')\n",
    "            return func(*args,**kwargs)\n",
    "        return wrapper\n",
    "    return decorator\n",
    "@check_type()\n",
    "def test2():\n",
    "    print('test')\n",
    "test2()\n",
    "\n",
    "@logger\n",
    "def test(num:int):\n",
    "    print(f'this is test-{num}')\n",
    "\n",
    "@timer\n",
    "def loading():\n",
    "    \"\"\"_summary_loading\n",
    "    \"\"\"\n",
    "    print('loading',end='')\n",
    "    for _ in range(5):\n",
    "        print('.',end='',flush=True)\n",
    "        time.sleep(1)"
   ]
  },
  {
   "cell_type": "code",
   "execution_count": null,
   "metadata": {},
   "outputs": [
    {
     "name": "stdout",
     "output_type": "stream",
     "text": [
      "func执行前\n",
      "func\n",
      "func执行后\n",
      "函数的参数类型: <class 'function'>\n",
      "执行时间:5.00503396987915\n"
     ]
    }
   ],
   "source": [
    "import time\n",
    "def decorate_func(func):\n",
    "    def wrapper():\n",
    "        start = time.time()\n",
    "        print('func执行前')\n",
    "        func()\n",
    "        print('func执行后')\n",
    "        print('函数的参数类型:',type(func))\n",
    "        end = time.time()\n",
    "        print(f\"执行时间:{end - start}\")\n",
    "    return wrapper\n",
    "@decorate_func\n",
    "def func():\n",
    "    time.sleep(5)\n",
    "    print('func')\n",
    "func()\n",
    "\n"
   ]
  },
  {
   "cell_type": "markdown",
   "metadata": {},
   "source": [
    "### 为什么上述写法是错的？\n",
    "#### 因为内部的wrapper没有return一个result（或者return 其他的东西）\n",
    "\n",
    "必须要 return result！ 这是装饰器的核心原则。\n",
    "\n",
    "`当然，可以直接return func(*args,**kwargs)，而不一定要用result接受`\n",
    "\n",
    "🎯 为什么必须 return result？\n",
    "1. 保持原函数的完整行为\n",
    "装饰器的作用是\"增强\"函数功能，而不是\"破坏\"原有功能。如果不return result：\n",
    "```python\n",
    "# ❌ 错误示例：不return result\n",
    "def timer(func):\n",
    "    def wrapper(*args, **kwargs):\n",
    "        start_time = time.time()\n",
    "        result = func(*args, **kwargs)\n",
    "        end_time = time.time()\n",
    "        print(f\"执行时间: {end_time - start_time:.4f} 秒\")\n",
    "        # 没有 return result ❌\n",
    "    return wrapper\n",
    "\n",
    "@timer\n",
    "def add(a, b):\n",
    "    return a + b\n",
    "\n",
    "# 问题出现了！\n",
    "result = add(2, 3)\n",
    "print(result)  # 输出: None （而不是期望的 5）\n",
    "```\n",
    "2. 调用者期望的返回值\n",
    "```python\n",
    "# ✅ 正确示例：return result\n",
    "def timer(func):\n",
    "    def wrapper(*args, **kwargs):\n",
    "        start_time = time.time()\n",
    "        result = func(*args, **kwargs)\n",
    "        end_time = time.time()\n",
    "        print(f\"执行时间: {end_time - start_time:.4f} 秒\")\n",
    "        return result  # ✅ 返回原函数的结果\n",
    "    return wrapper\n",
    "# ✅ 也可以是：直接return func(*args, **kwargs)，不一定要用result接受\n",
    "def timer(func):\n",
    "    def wrapper(*args, **kwargs):\n",
    "        start_time = time.time()\n",
    "        end_time = time.time()\n",
    "        print(f\"执行时间: {end_time - start_time:.4f} 秒\")\n",
    "        return func(*args, **kwargs)  # ✅ 返回原函数的结果\n",
    "    return wrapper\n",
    "\n",
    "@timer\n",
    "def add(a, b):\n",
    "    return a + b\n",
    "\n",
    "result = add(2, 3)\n",
    "print(result)  # 输出: 5 ✅\n",
    "```\n",
    "🔍 实际影响对比\n",
    "```python\n",
    "# 测试用的函数\n",
    "def calculate_square(n):\n",
    "    return n * n\n",
    "\n",
    "# 不return的装饰器\n",
    "def bad_timer(func):\n",
    "    def wrapper(*args, **kwargs):\n",
    "        result = func(*args, **kwargs)\n",
    "        print(\"计算完成\")\n",
    "        # 没有return result ❌\n",
    "    return wrapper\n",
    "\n",
    "# 正确的装饰器\n",
    "def good_timer(func):\n",
    "    def wrapper(*args, **kwargs):\n",
    "        result = func(*args, **kwargs)\n",
    "        print(\"计算完成\")\n",
    "        return result  # ✅\n",
    "    return wrapper\n",
    "\n",
    "# 对比结果\n",
    "@bad_timer\n",
    "def bad_square(n):\n",
    "    return n * n\n",
    "\n",
    "@good_timer  \n",
    "def good_square(n):\n",
    "    return n * n\n",
    "\n",
    "print(bad_square(5))   # 输出: None ❌\n",
    "print(good_square(5))  # 输出: 25 ✅\n",
    "```\n",
    "### 💡 例外情况\n",
    "只有在以下情况下可以不return result：\n",
    "- 原函数本身没有返回值（但为了一致性，建议还是return）\n",
    "- 装饰器故意要修改返回值：\n",
    "```python\n",
    "def always_return_success(func):\n",
    "    def wrapper(*args, **kwargs):\n",
    "        func(*args, **kwargs)\n",
    "        return \"操作成功\"  # 故意返回固定值\n",
    "    return wrapper\n",
    "```\n",
    "`不return会让你的装饰器\"吃掉\"原函数的返回值，这通常是bug而不是feature！`"
   ]
  },
  {
   "cell_type": "code",
   "execution_count": 1,
   "metadata": {},
   "outputs": [
    {
     "name": "stdout",
     "output_type": "stream",
     "text": [
      "开始执行函数: slow_function\n",
      "函数 slow_function 执行完成\n",
      "函数 slow_function 执行时间: 0.1020 秒\n",
      "完成\n",
      "在装饰器的wrapper中,args:(2, 3),kwargs:{}\n",
      "2 + 3 = 5\n",
      "在装饰器的wrapper中,args:(2, '3'),kwargs:{}\n",
      "类型错误: 参数 2 应该是 int 类型\n"
     ]
    }
   ],
   "source": [
    "# 标准答案\n",
    "import time\n",
    "from functools import wraps\n",
    "\n",
    "\n",
    "# 1. 计算函数执行时间的装饰器\n",
    "def timer(func):\n",
    "    @wraps(func)\n",
    "    def wrapper(*args, **kwargs):\n",
    "        start_time = time.time()\n",
    "        result = func(*args, **kwargs)\n",
    "        end_time = time.time()\n",
    "        print(f\"函数 {func.__name__} 执行时间: {end_time - start_time:.4f} 秒\")\n",
    "        return result\n",
    "\n",
    "    return wrapper\n",
    "\n",
    "\n",
    "# 2. 在函数执行前后打印日志的装饰器\n",
    "def logger(func):\n",
    "    @wraps(func)\n",
    "    def wrapper(*args, **kwargs):\n",
    "        print(f\"开始执行函数: {func.__name__}\")\n",
    "        result = func(*args, **kwargs)\n",
    "        print(f\"函数 {func.__name__} 执行完成\")\n",
    "        return result\n",
    "\n",
    "    return wrapper\n",
    "\n",
    "\n",
    "# 3. 验证函数参数类型的装饰器\n",
    "def type_check(*expected_types):\n",
    "    def decorator(func):\n",
    "        @wraps(func)\n",
    "        def wrapper(*args, **kwargs):\n",
    "            print(f'在装饰器的wrapper中,args:{args},kwargs:{kwargs}')\n",
    "            for i, (arg, expected_type) in enumerate(zip(args, expected_types)):\n",
    "                if not isinstance(arg, expected_type):\n",
    "                    raise TypeError(f\"参数 {i+1} 应该是 {expected_type.__name__} 类型\")\n",
    "            return func(*args, **kwargs)\n",
    "\n",
    "        return wrapper\n",
    "\n",
    "    return decorator\n",
    "\n",
    "\n",
    "# 使用装饰器\n",
    "@timer\n",
    "@logger\n",
    "def slow_function():\n",
    "    time.sleep(0.1)\n",
    "    return \"完成\"\n",
    "\n",
    "\n",
    "@type_check(int, int)\n",
    "def add_integers(a, b):\n",
    "    return a + b\n",
    "\n",
    "\n",
    "# 测试\n",
    "print(slow_function())\n",
    "print(f\"2 + 3 = {add_integers(2, 3)}\")\n",
    "\n",
    "try:\n",
    "    add_integers(2, \"3\")  # 这会引发TypeError\n",
    "except TypeError as e:\n",
    "    print(f\"类型错误: {e}\")"
   ]
  },
  {
   "cell_type": "markdown",
   "metadata": {},
   "source": [
    "### 上述装饰器标准答案的分析\n",
    "**1. `from functools import wraps `这行代码的作用是 ​​从 Python 的 functools 模块导入 wraps 装饰器​​。wraps 的主要用途是 ​​在定义自定义装饰器时，保留被装饰函数（或类）的原始元信息​​（如函数名、文档字符串、参数列表等）**\n",
    "\n",
    "为什么需要 wraps？​​\n",
    "\n",
    "当使用装饰器包装一个函数时，原始函数的元信息（如 __name__、__doc__）会被装饰器覆盖。例如：\n",
    "```python\n",
    "def my_decorator(func):\n",
    "    def wrapper(*args, **kwargs):\n",
    "        \"\"\"Wrapper docstring\"\"\"\n",
    "        return func(*args, **kwargs)\n",
    "    return wrapper\n",
    "\n",
    "@my_decorator\n",
    "def greet():\n",
    "    \"\"\"Original docstring\"\"\"\n",
    "    print(\"Hello!\")\n",
    "\n",
    "print(greet.__name__)  # 输出 'wrapper'（被覆盖）\n",
    "print(greet.__doc__)   # 输出 'Wrapper docstring'（被覆盖）\n",
    "# 这里 greet 的元信息变成了 wrapper 的信息，丢失了原始函数的名称和文档。\n",
    "```\n",
    "使用 wraps 修复元信息​​\n",
    "\n",
    "通过 wraps 装饰器，可以将原始函数的元信息复制到装饰器的内部函数中：\n",
    "```python\n",
    "from functools import wraps\n",
    "\n",
    "def my_decorator(func):\n",
    "    @wraps(func)  # 保留 func 的元信息\n",
    "    def wrapper(*args, **kwargs):\n",
    "        \"\"\"Wrapper docstring\"\"\"\n",
    "        return func(*args, **kwargs)\n",
    "    return wrapper\n",
    "\n",
    "@my_decorator\n",
    "def greet():\n",
    "    \"\"\"Original docstring\"\"\"\n",
    "    print(\"Hello!\")\n",
    "\n",
    "print(greet.__name__)  # 输出 'greet'（保留原名）\n",
    "print(greet.__doc__)   # 输出 'Original docstring'（保留原文档）\n",
    "```\n",
    "\n",
    "wraps 的实际作用​​\n",
    "\n",
    "​- ​保留函数名​​：func.__name__ 不会被装饰器覆盖。\n",
    "​- ​保留文档字符串​​：func.__doc__ 保持原始内容。\n",
    "​- ​保留参数签名​​：对工具（如 inspect.signature）更友好。\n",
    "​​- 调试友好​​：日志或异常堆栈中会显示原始函数名，而非装饰器内部函数名。\n",
    "\n",
    "**2.关于第三个装饰器的分析**  🔎详见:decorator_analysis.py\n",
    "- 中间那个for循环我看不懂\n",
    "- 还有为什么最外层还有一个type_check?总共有3层了，装饰器不是只有两层的吗？\n",
    "\n",
    "这确实是3层，因为这是一个参数化装饰器：\n",
    "```python\n",
    "# 第1层：接收装饰器参数\n",
    "def type_check(*expected_types):\n",
    "    # 第2层：接收被装饰的函数\n",
    "    def decorator(func):\n",
    "        @wraps(func)\n",
    "        # 第3层：实际执行时的包装\n",
    "        def wrapper(*args, **kwargs):\n",
    "            # 具体逻辑\n",
    "            return func(*args, **kwargs)\n",
    "        return wrapper\n",
    "    return decorator\n",
    "```\n",
    "执行流程：\n",
    "```python\n",
    "# 使用时：\n",
    "@type_check(int, str)  # ← 第1层被调用\n",
    "def greet(age, name):  # ← 第2层接收这个函数\n",
    "    return f\"{name} is {age} years old\"\n",
    "\n",
    "# 等价于：\n",
    "greet = type_check(int, str)(greet)\n",
    "#        ↑第1层返回decorator  ↑第2层返回wrapper\n",
    "```\n",
    "\n",
    "- wrapper的参数为什么是**args和**kwargs，能不能为空？\n",
    "\n",
    "    - 通用性：装饰器要能处理任意参数的函数\n",
    "    - 灵活性：支持位置参数、关键字参数、默认值等\n",
    "    - wrapper参数不能为空：除非你确定只装饰无参数函数\n",
    "\n",
    "- 写装饰器的时候，最佳实践是不是都有用@wraps？\n",
    "是的。@wraps 是绝对的最佳实践\n",
    "\n"
   ]
  },
  {
   "cell_type": "markdown",
   "metadata": {},
   "source": []
  },
  {
   "cell_type": "markdown",
   "metadata": {},
   "source": [
    "### 题目30：模块与包 ✅❌\n",
    "创建并使用模块：\n",
    "- 创建一个数学工具模块（包含基本运算函数）✅\n",
    "- 创建一个字符串工具模块（包含常用字符串处理函数）✅\n",
    "- 在主程序中导入并使用这些模块 ✅\n",
    "- 使用Python标准库中的random、datetime、os模块 这些模块使用都不熟练❌\n",
    "\n",
    "---\n",
    "注意⚠️，如果这里的modules不加__init__.py使之成为一个包的话，就会报错：\n",
    "```\n",
    "---------------------------------------------------------------------------\n",
    "ModuleNotFoundError                       Traceback (most recent call last)\n",
    "Cell In[1], line 1\n",
    "----> 1 from modules.math_tools import add,minus,multiply,devide\n",
    "      2 from modules.string_tools import get_length_of_string,get_slice_of_string,to_lower,to_upper\n",
    "      3 import random,datetime,os\n",
    "\n",
    "ModuleNotFoundError: No module named 'modules'\n",
    "```\n",
    "\n",
    "纠正：即使加了也会报错，要加入下面的路径修复功能才行\n"
   ]
  },
  {
   "cell_type": "code",
   "execution_count": 3,
   "metadata": {},
   "outputs": [
    {
     "name": "stdout",
     "output_type": "stream",
     "text": [
      "/Users/huangwenxin/Downloads/python练习题/practices/python巩固语法练习题\n",
      "/Users/huangwenxin/Downloads/python练习题/practices\n",
      "12\n",
      "8\n",
      "20\n",
      "5.0\n",
      "13\n",
      "type \n",
      "type for fun.\n",
      "TYPE FOR FUN.\n"
     ]
    }
   ],
   "source": [
    "# 第一步：修复Python路径\n",
    "import sys\n",
    "import os\n",
    "from pathlib import Path\n",
    "\n",
    "# 获取当前目录的父目录（practices目录）\n",
    "current_dir = Path.cwd()\n",
    "parent_dir = current_dir.parent\n",
    "\n",
    "print(current_dir)\n",
    "print(parent_dir)\n",
    "# 添加到Python搜索路径\n",
    "sys.path.insert(0, str(parent_dir))\n",
    "# 加上上面的才会执行成功。\n",
    "from modules.math_tools import add,minus,multiply,devide\n",
    "from modules.string_tools import get_length_of_string,get_slice_of_string,to_lower,to_upper\n",
    "import random,datetime,os\n",
    "if __name__ == '__main__':\n",
    "    text = 'type for fun.'\n",
    "    a = 10\n",
    "    b = 2\n",
    "    add(a,b)\n",
    "    minus(a,b)\n",
    "    multiply(a,b)\n",
    "    devide(a,b)\n",
    "    get_length_of_string(text)\n",
    "    get_slice_of_string(text,0,5)\n",
    "    to_lower(text)\n",
    "    to_upper(text)"
   ]
  },
  {
   "cell_type": "markdown",
   "metadata": {},
   "source": [
    "---\n",
    "\n",
    "## 完成说明\n",
    "\n",
    "每道题目都包含了具体的要求，建议按顺序完成。重点关注：\n",
    "\n",
    "1. **语法准确性**：确保代码语法正确\n",
    "2. **逻辑清晰**：理解题目要求，逻辑正确\n",
    "3. **代码风格**：遵循Python编码规范\n",
    "4. **异常处理**：适当处理可能的异常情况\n",
    "5. **测试验证**：运行代码验证结果\n",
    "\n",
    "完成这30道题目将帮助你全面巩固Python基础语法！"
   ]
  }
 ],
 "metadata": {
  "kernelspec": {
   "display_name": "python练习",
   "language": "python",
   "name": "python3"
  },
  "language_info": {
   "codemirror_mode": {
    "name": "ipython",
    "version": 3
   },
   "file_extension": ".py",
   "mimetype": "text/x-python",
   "name": "python",
   "nbconvert_exporter": "python",
   "pygments_lexer": "ipython3",
   "version": "3.12.9"
  }
 },
 "nbformat": 4,
 "nbformat_minor": 2
}

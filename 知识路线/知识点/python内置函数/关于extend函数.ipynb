{
 "cells": [
  {
   "cell_type": "markdown",
   "metadata": {
    "vscode": {
     "languageId": "raw"
    }
   },
   "source": [
    "# Python extend() 函数用法\n",
    "\n",
    "## 基本概念\n",
    "`extend()` 是列表的内置方法，用于将一个可迭代对象的所有元素添加到列表末尾。\n",
    "\n",
    "`一句话总结：扁平化列表，向原有的列表中一次性添加多个其他可迭代对象（可以是列表，元组，字典，集合等等）的所有元素`\n",
    "\n",
    "## 语法\n",
    "```python\n",
    "list.extend(iterable)\n",
    "```\n",
    "\n",
    "## 核心特点\n",
    "- **就地修改**：直接修改原列表，不创建新列表\n",
    "- **接受可迭代对象**：字符串、列表、元组、集合等\n",
    "- **逐个添加元素**：将可迭代对象中的每个元素分别添加到列表中\n"
   ]
  },
  {
   "cell_type": "code",
   "execution_count": null,
   "metadata": {},
   "outputs": [],
   "source": [
    "# 基本用法演示\n",
    "\n",
    "# 1. 扩展列表\n",
    "list1 = [1, 2, 3]\n",
    "list2 = [4, 5, 6]\n",
    "list1.extend(list2)\n",
    "print(\"扩展列表:\", list1)  # [1, 2, 3, 4, 5, 6]\n",
    "\n",
    "# 2. 扩展字符串（字符逐个添加）\n",
    "list3 = ['a', 'b']\n",
    "list3.extend('cd')\n",
    "print(\"扩展字符串:\", list3)  # ['a', 'b', 'c', 'd']\n",
    "\n",
    "# 3. 扩展元组\n",
    "list4 = [1, 2]\n",
    "list4.extend((3, 4, 5))\n",
    "print(\"扩展元组:\", list4)  # [1, 2, 3, 4, 5]\n"
   ]
  },
  {
   "cell_type": "markdown",
   "metadata": {
    "vscode": {
     "languageId": "raw"
    }
   },
   "source": [
    "## extend() vs append() 的区别\n",
    "\n",
    "| 方法 | 作用 | 结果 |\n",
    "|------|------|------|\n",
    "| `extend()` | 将可迭代对象的**每个元素**添加到列表 | 扁平化添加 |\n",
    "| `append()` | 将**整个对象**作为一个元素添加到列表 | 嵌套添加 |\n"
   ]
  },
  {
   "cell_type": "code",
   "execution_count": null,
   "metadata": {},
   "outputs": [],
   "source": [
    "# 对比 extend() 和 append()\n",
    "\n",
    "# extend() - 扁平化添加\n",
    "list_a = [1, 2]\n",
    "list_a.extend([3, 4])\n",
    "print(\"extend():\", list_a)  # [1, 2, 3, 4]\n",
    "\n",
    "# append() - 嵌套添加  \n",
    "list_b = [1, 2]\n",
    "list_b.append([3, 4])\n",
    "print(\"append():\", list_b)  # [1, 2, [3, 4]]\n"
   ]
  },
  {
   "cell_type": "markdown",
   "metadata": {
    "vscode": {
     "languageId": "raw"
    }
   },
   "source": [
    "## 注意事项\n",
    "\n",
    "1. **返回值**：`extend()` 返回 `None`，直接修改原列表\n",
    "2. **性能**：比循环使用 `append()` 更高效\n",
    "3. **空可迭代对象**：传入空列表/字符串不会报错，原列表不变\n",
    "\n",
    "`第3点很重要，当扩展的列表为空时，被扩展的列表是不会发生变化的，因为扩展的列表为空，说明它当中都没有元素，被扩展的列表当然没变化了，扩展的列表都为空了还扩展什么，对吧？`\n",
    "\n",
    "举例:\n",
    "```python\n",
    "user.extend(re.findall(pattern,line[3])) \n",
    "```\n",
    "👆其中，re.findall(pattern,line[3])，findall返回的是一个列表，这个正则匹配完全可能返回一个空列表，当返回[]时，被扩展的列表也就是user是不会发生变化的。\n",
    "\n",
    "```python\n",
    "# 错误用法示例\n",
    "# result = my_list.extend([1, 2])  # result 为 None，不是新列表\n",
    "\n",
    "# 正确用法\n",
    "my_list.extend([1, 2])  # 直接修改 my_list\n",
    "```\n"
   ]
  },
  {
   "cell_type": "markdown",
   "metadata": {},
   "source": []
  }
 ],
 "metadata": {
  "kernelspec": {
   "display_name": "python练习",
   "language": "python",
   "name": "python3"
  },
  "language_info": {
   "name": "python",
   "version": "3.12.9"
  }
 },
 "nbformat": 4,
 "nbformat_minor": 2
}

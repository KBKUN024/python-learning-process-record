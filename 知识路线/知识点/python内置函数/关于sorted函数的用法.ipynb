{
 "cells": [
  {
   "cell_type": "markdown",
   "metadata": {
    "vscode": {
     "languageId": "raw"
    }
   },
   "source": [
    "# Python sorted() 函数用法\n",
    "\n",
    "## 基本概念\n",
    "`sorted()` 是Python内置函数，用于对可迭代对象进行排序，返回一个新的已排序列表。\n",
    "\n",
    "## 语法\n",
    "```python\n",
    "sorted(iterable, key=None, reverse=False)\n",
    "```\n",
    "\n",
    "## 核心特点\n",
    "- **创建新列表**：不修改原对象，返回新的排序列表\n",
    "- **接受任何可迭代对象**：列表、元组、字符串、集合等\n",
    "- **稳定排序**：相等元素保持原有相对顺序\n"
   ]
  },
  {
   "cell_type": "code",
   "execution_count": null,
   "metadata": {},
   "outputs": [],
   "source": [
    "# 基本用法演示\n",
    "\n",
    "# 1. 对列表排序\n",
    "numbers = [3, 1, 4, 1, 5]\n",
    "sorted_numbers = sorted(numbers)\n",
    "print(\"原列表:\", numbers)          # [3, 1, 4, 1, 5]\n",
    "print(\"排序后:\", sorted_numbers)    # [1, 1, 3, 4, 5]\n",
    "\n",
    "# 2. 对字符串排序（按字符）\n",
    "text = \"hello\"\n",
    "sorted_chars = sorted(text)\n",
    "print(\"字符串排序:\", sorted_chars)  # ['e', 'h', 'l', 'l', 'o']\n",
    "\n",
    "# 3. 对元组排序\n",
    "tuple_data = (5, 2, 8, 1)\n",
    "sorted_tuple = sorted(tuple_data)\n",
    "print(\"元组排序:\", sorted_tuple)    # [1, 2, 5, 8]\n"
   ]
  },
  {
   "cell_type": "markdown",
   "metadata": {
    "vscode": {
     "languageId": "raw"
    }
   },
   "source": [
    "## 参数说明\n",
    "\n",
    "### reverse 参数\n",
    "- `reverse=False`：升序排列（默认）\n",
    "- `reverse=True`：降序排列\n",
    "\n",
    "### key 参数\n",
    "- 指定排序的依据函数\n",
    "- 对每个元素调用key函数，根据返回值排序\n"
   ]
  },
  {
   "cell_type": "code",
   "execution_count": null,
   "metadata": {},
   "outputs": [],
   "source": [
    "# reverse 和 key 参数演示\n",
    "\n",
    "# 1. reverse 参数\n",
    "numbers = [3, 1, 4, 1, 5]\n",
    "asc_sorted = sorted(numbers)                 # 升序\n",
    "desc_sorted = sorted(numbers, reverse=True)  # 降序\n",
    "print(\"升序:\", asc_sorted)   # [1, 1, 3, 4, 5]\n",
    "print(\"降序:\", desc_sorted)  # [5, 4, 3, 1, 1]\n",
    "\n",
    "# 2. key 参数\n",
    "words = ['apple', 'pie', 'a', 'longer']\n",
    "by_length = sorted(words, key=len)           # 按长度排序\n",
    "by_alpha = sorted(words, key=str.lower)      # 按字母排序（忽略大小写）\n",
    "print(\"按长度:\", by_length)  # ['a', 'pie', 'apple', 'longer']\n",
    "print(\"按字母:\", by_alpha)   # ['a', 'apple', 'longer', 'pie']\n",
    "\n",
    "# 3. 组合使用\n",
    "by_length_desc = sorted(words, key=len, reverse=True)\n",
    "print(\"按长度降序:\", by_length_desc)  # ['longer', 'apple', 'pie', 'a']\n"
   ]
  },
  {
   "cell_type": "markdown",
   "metadata": {
    "vscode": {
     "languageId": "raw"
    }
   },
   "source": [
    "## sorted() vs list.sort() 的区别\n",
    "\n",
    "| 方法 | 返回值 | 是否修改原对象 | 适用对象 |\n",
    "|------|--------|----------------|----------|\n",
    "| `sorted()` | 新的排序列表 | 否 | 任何可迭代对象 |\n",
    "| `list.sort()` | None | 是（就地排序） | 仅限列表 |\n"
   ]
  },
  {
   "cell_type": "code",
   "execution_count": null,
   "metadata": {},
   "outputs": [],
   "source": [
    "# 对比 sorted() 和 list.sort()\n",
    "\n",
    "# sorted() - 创建新列表\n",
    "original_list = [3, 1, 4]\n",
    "new_list = sorted(original_list)\n",
    "print(\"原列表:\", original_list)  # [3, 1, 4] (未改变)\n",
    "print(\"新列表:\", new_list)       # [1, 3, 4]\n",
    "\n",
    "# list.sort() - 就地排序\n",
    "another_list = [3, 1, 4]\n",
    "result = another_list.sort()  # 返回 None\n",
    "print(\"排序后:\", another_list)   # [1, 3, 4] (已改变)\n",
    "print(\"返回值:\", result)        # None\n"
   ]
  },
  {
   "cell_type": "markdown",
   "metadata": {
    "vscode": {
     "languageId": "raw"
    }
   },
   "source": [
    "## 常用场景\n",
    "\n",
    "```python\n",
    "# 1. 按数字大小排序\n",
    "sorted([3, 1, 4, 1, 5])  # [1, 1, 3, 4, 5]\n",
    "\n",
    "# 2. 按字符串长度排序\n",
    "sorted(['python', 'java', 'c'], key=len)  # ['c', 'java', 'python']\n",
    "\n",
    "# 3. 按绝对值排序\n",
    "sorted([-3, 1, -2, 4], key=abs)  # [1, -2, -3, 4]\n",
    "\n",
    "# 4. 多级排序（元组）\n",
    "students = [('Alice', 85), ('Bob', 90), ('Charlie', 85)]\n",
    "sorted(students, key=lambda x: (x[1], x[0]))  # 先按成绩，再按姓名\n",
    "```\n"
   ]
  },
  {
   "cell_type": "markdown",
   "metadata": {},
   "source": [
    "## 实际运用中的一点拓展"
   ]
  },
  {
   "cell_type": "markdown",
   "metadata": {},
   "source": [
    "见[练习题2的第二题的generate_report的159行](../../../python巩固语法练习题/python巩固语法练习题2.ipynb)"
   ]
  },
  {
   "cell_type": "code",
   "execution_count": null,
   "metadata": {},
   "outputs": [],
   "source": [
    "for level, count in sorted(levels.items()):\n",
    "    print(f\"   {level}: {count} 条\")"
   ]
  },
  {
   "cell_type": "markdown",
   "metadata": {},
   "source": [
    "### sorted(levels.items())返回的是一个这样的列表：[('INFO', 3), ('ERROR', 2), ('WARNING', 1)]，那这里用 for 循环得到的 level 和 count 是什么呢？它这里循环得到的不应该一个个元组吗？\n",
    "\n",
    "这里使用了 Python 的`元组解包（tuple unpacking）`。当循环遍历一个包含元组的列表时，可以直接在 for 循环中将元组的元素赋值给多个变量。\n",
    "\n",
    "所以 level 会得到元组的第一个元素（如'INFO'），count 会得到第二个元素（如 3）。\n",
    "\n",
    "这等同于写成`for item in sorted(levels.items()): level, count = item。`\n",
    "\n",
    "这里你可能会好奇为什么循环右边有个冒号？其实就是单行写法而已，循环体只有一行语句，只是没有缩进而已，等同于:\n",
    "\n",
    "```python\n",
    "for item in sorted(levels.items()):\n",
    "    level, count = item\n",
    "```\n"
   ]
  }
 ],
 "metadata": {
  "kernelspec": {
   "display_name": "python练习",
   "language": "python",
   "name": "python3"
  },
  "language_info": {
   "name": "python",
   "version": "3.12.9"
  }
 },
 "nbformat": 4,
 "nbformat_minor": 2
}

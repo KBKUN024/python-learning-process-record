{
 "cells": [
  {
   "cell_type": "markdown",
   "metadata": {
    "vscode": {
     "languageId": "raw"
    }
   },
   "source": [
    "# Python csv 模块用法\n",
    "\n",
    "## 基本概念\n",
    "`csv` 模块是Python标准库，用于读取和写入CSV（Comma-Separated Values）文件。\n",
    "\n",
    "## 核心类和函数\n",
    "- `csv.reader()` - 读取CSV文件\n",
    "- `csv.writer()` - 写入CSV文件  \n",
    "- `csv.DictReader()` - 将行读取为字典\n",
    "- `csv.DictWriter()` - 将字典写入为行\n"
   ]
  },
  {
   "cell_type": "code",
   "execution_count": 8,
   "metadata": {},
   "outputs": [
    {
     "name": "stdout",
     "output_type": "stream",
     "text": [
      "['姓名', '部门', '工资', '入职日期']\n",
      "['张三', '技术部', '8000', '2023-01-15']\n",
      "['李四', '销售部', '6000', '2023-02-20']\n",
      "['王五', '技术部', '9000', '2022-12-10']\n",
      "['赵六', '人事部', '7000', '2023-03-05']\n",
      "['钱七', '技术部', '8500', '2023-01-25']\n"
     ]
    }
   ],
   "source": [
    "import csv\n",
    "from pathlib import Path\n",
    "employee_parent_path = Path.cwd().parent.parent.parent\n",
    "employee_path = Path(employee_parent_path / 'python巩固语法练习题' / 'employees.csv')\n",
    "# 1. 基本读取 - csv.reader()\n",
    "with open(employee_path, 'r', encoding='utf-8') as file:\n",
    "    reader = csv.reader(file)\n",
    "    for row in reader:\n",
    "        print(row)  # 每行是一个列表 ['col1', 'col2', 'col3']\n",
    "\n",
    "# 2. 基本写入 - csv.writer()  \n",
    "with open('output.csv', 'w', newline='', encoding='utf-8') as file:\n",
    "    writer = csv.writer(file)\n",
    "    writer.writerow(['姓名', '年龄', '城市'])      # 写入标题行\n",
    "    writer.writerow(['张三', '25', '北京'])       # 写入数据行\n",
    "    writer.writerows([                          # 批量写入\n",
    "        ['李四', '30', '上海'],\n",
    "        ['王五', '28', '广州']\n",
    "    ])\n"
   ]
  },
  {
   "cell_type": "markdown",
   "metadata": {
    "vscode": {
     "languageId": "raw"
    }
   },
   "source": [
    "## 字典方式操作 - 更便于处理带标题的CSV\n",
    "\n",
    "### DictReader - 读取为字典\n",
    "将第一行作为字段名，后续行作为对应值的字典\n",
    "\n",
    "### DictWriter - 写入字典\n",
    "需要指定字段名，将字典按字段顺序写入\n"
   ]
  },
  {
   "cell_type": "code",
   "execution_count": 9,
   "metadata": {},
   "outputs": [
    {
     "name": "stdout",
     "output_type": "stream",
     "text": [
      "{'姓名': '张三', '年龄': '25', '城市': '北京'}\n",
      "姓名: 张三, 年龄: 25\n",
      "{'姓名': '李四', '年龄': '30', '城市': '上海'}\n",
      "姓名: 李四, 年龄: 30\n",
      "{'姓名': '王五', '年龄': '28', '城市': '广州'}\n",
      "姓名: 王五, 年龄: 28\n"
     ]
    }
   ],
   "source": [
    "# 字典方式操作示例\n",
    "\n",
    "# 1. DictReader - 读取为字典\n",
    "with open('output.csv', 'r', encoding='utf-8') as file:\n",
    "    reader = csv.DictReader(file)\n",
    "    for row in reader:\n",
    "        print(row)  # 字典：{'姓名': '张三', '年龄': '25', '城市': '北京'}\n",
    "        print(f\"姓名: {row['姓名']}, 年龄: {row['年龄']}\")\n",
    "\n",
    "# 2. DictWriter - 写入字典\n",
    "fieldnames = ['姓名', '年龄', '城市']\n",
    "with open('output.csv', 'w', newline='', encoding='utf-8') as file:\n",
    "    writer = csv.DictWriter(file, fieldnames=fieldnames)\n",
    "    writer.writeheader()  # 写入标题行\n",
    "    writer.writerow({'姓名': '张三', '年龄': '25', '城市': '北京'})\n",
    "    writer.writerows([    # 批量写入\n",
    "        {'姓名': '李四', '年龄': '30', '城市': '上海'},\n",
    "        {'姓名': '王五', '年龄': '28', '城市': '广州'}\n",
    "    ])\n"
   ]
  },
  {
   "cell_type": "markdown",
   "metadata": {
    "vscode": {
     "languageId": "raw"
    }
   },
   "source": [
    "## CSV Writer 方法详解\n",
    "\n",
    "### csv.writer 核心方法\n",
    "\n",
    "| 方法 | 功能 | 参数 | 示例 |\n",
    "|------|------|------|------|\n",
    "| `writerow(row)` | 写入单行数据 | 列表/元组 | `writer.writerow(['张三', 25])` |\n",
    "| `writerows(rows)` | 批量写入多行 | 列表的列表 | `writer.writerows([['张三', 25], ['李四', 30]])` |\n",
    "\n",
    "### csv.DictWriter 核心方法\n",
    "\n",
    "| 方法 | 功能 | 参数 | 示例 |\n",
    "|------|------|------|------|\n",
    "| `writeheader()` | 写入表头 | 无 | `writer.writeheader()` |\n",
    "| `writerow(rowdict)` | 写入单行字典 | 字典 | `writer.writerow({'name': '张三', 'age': 25})` |\n",
    "| `writerows(rowdicts)` | 批量写入字典列表 | 字典列表 | `writer.writerows([{}, {}])` |\n"
   ]
  },
  {
   "cell_type": "code",
   "execution_count": 13,
   "metadata": {},
   "outputs": [
    {
     "name": "stdout",
     "output_type": "stream",
     "text": [
      "=== csv.writer 方法演示 ===\n",
      "writerows() 批量写入完成\n",
      "写入结果:\n",
      "第1行: ['赵六', '17', '高一3班', '88']\n",
      "第2行: ['钱七', '18', '高一2班', '95']\n",
      "第3行: ['孙八', '17', '高一3班', '82']\n",
      "第4行: ['赵六', '17', '高一3班', '88']\n",
      "第5行: ['钱七', '18', '高一2班', '95']\n",
      "第6行: ['孙八', '17', '高一3班', '82']\n"
     ]
    }
   ],
   "source": [
    "# Writer 方法详细演示\n",
    "\n",
    "print(\"=== csv.writer 方法演示 ===\")\n",
    "\n",
    "# 1. writerow() - 逐行写入\n",
    "with open('students.csv', 'w', newline='', encoding='utf-8') as file:\n",
    "    writer = csv.writer(file)\n",
    "    \n",
    "    # 写入表头\n",
    "    writer.writerow(['姓名', '年龄', '班级', '成绩'])\n",
    "    \n",
    "    # 逐行写入数据\n",
    "    writer.writerow(['张三', 18, '高一1班', 85])\n",
    "    writer.writerow(['李四', 17, '高一2班', 92])\n",
    "    writer.writerow(['王五', 18, '高一1班', 78])\n",
    "\n",
    "print(\"writerow() 写入完成\")\n",
    "\n",
    "# 2. writerows() - 批量写入\n",
    "students_data = [\n",
    "    ['赵六', 17, '高一3班', 88],\n",
    "    ['钱七', 18, '高一2班', 95],\n",
    "    ['孙八', 17, '高一3班', 82]\n",
    "]\n",
    "\n",
    "with open('students.csv', 'a', newline='', encoding='utf-8') as file:  # 追加模式\n",
    "    writer = csv.writer(file)\n",
    "    writer.writerows(students_data)\n",
    "\n",
    "print(\"writerows() 批量写入完成\")\n",
    "\n",
    "# 读取验证\n",
    "with open('students.csv', 'r', encoding='utf-8') as file:\n",
    "    reader = csv.reader(file)\n",
    "    print(\"写入结果:\")\n",
    "    for i, row in enumerate(reader):\n",
    "        print(f\"第{i+1}行: {row}\")\n"
   ]
  },
  {
   "cell_type": "code",
   "execution_count": null,
   "metadata": {},
   "outputs": [],
   "source": [
    "# DictWriter 方法详细演示\n",
    "\n",
    "print(\"\\n=== csv.DictWriter 方法演示 ===\")\n",
    "\n",
    "# 准备字典数据\n",
    "employees = [\n",
    "    {'姓名': '张三', '部门': '技术部', '工资': 8000, '入职日期': '2023-01-15'},\n",
    "    {'姓名': '李四', '部门': '销售部', '工资': 6000, '入职日期': '2023-02-20'},\n",
    "    {'姓名': '王五', '部门': '技术部', '工资': 9000, '入职日期': '2022-12-10'}\n",
    "]\n",
    "\n",
    "# 1. 完整的DictWriter写入流程\n",
    "fieldnames = ['姓名', '部门', '工资', '入职日期']\n",
    "\n",
    "with open('employees_dict.csv', 'w', newline='', encoding='utf-8') as file:\n",
    "    writer = csv.DictWriter(file, fieldnames=fieldnames)\n",
    "    \n",
    "    # 1. 写入表头\n",
    "    writer.writeheader()\n",
    "    print(\"writeheader() 写入表头完成\")\n",
    "    \n",
    "    # 2. 逐行写入字典\n",
    "    writer.writerow(employees[0])\n",
    "    print(\"writerow() 写入第一行完成\")\n",
    "    \n",
    "    # 3. 批量写入剩余数据\n",
    "    writer.writerows(employees[1:])\n",
    "    print(\"writerows() 批量写入完成\")\n",
    "\n",
    "# 读取验证\n",
    "print(\"\\nDictWriter 写入结果:\")\n",
    "with open('employees_dict.csv', 'r', encoding='utf-8') as file:\n",
    "    reader = csv.DictReader(file)\n",
    "    for i, row in enumerate(reader, 1):\n",
    "        print(f\"第{i}行: {row}\")\n"
   ]
  },
  {
   "cell_type": "raw",
   "metadata": {
    "vscode": {
     "languageId": "raw"
    }
   },
   "source": [
    "## CSV Reader 方法详解\n",
    "\n",
    "### csv.reader 核心特性\n",
    "\n",
    "| 特性 | 说明 | 示例 |\n",
    "|------|------|------|\n",
    "| **迭代器** | 逐行读取，节省内存 | `for row in reader:` |\n",
    "| **返回列表** | 每行返回字符串列表 | `['张三', '25', '北京']` |\n",
    "| **索引访问** | 通过索引访问字段 | `row[0], row[1], row[2]` |\n",
    "\n",
    "### csv.DictReader 核心特性\n",
    "\n",
    "| 特性 | 说明 | 示例 |\n",
    "|------|------|------|\n",
    "| **迭代器** | 逐行读取为字典 | `for row in dict_reader:` |\n",
    "| **返回字典** | 每行返回有序字典 | `{'name': '张三', 'age': '25'}` |\n",
    "| **字段访问** | 通过字段名访问 | `row['name'], row['age']` |\n",
    "| **fieldnames** | 获取字段名列表 | `reader.fieldnames` |\n"
   ]
  },
  {
   "cell_type": "code",
   "execution_count": null,
   "metadata": {},
   "outputs": [],
   "source": [
    "# Reader 方法详细演示\n",
    "\n",
    "print(\"=== csv.reader vs csv.DictReader 对比 ===\")\n",
    "\n",
    "# 使用之前创建的 students.csv 文件\n",
    "\n",
    "# 1. csv.reader - 返回列表\n",
    "print(\"\\n1. csv.reader 读取:\")\n",
    "with open('students.csv', 'r', encoding='utf-8') as file:\n",
    "    reader = csv.reader(file)\n",
    "    header = next(reader)  # 手动获取表头\n",
    "    print(f\"表头: {header}\")\n",
    "    \n",
    "    for i, row in enumerate(reader, 1):\n",
    "        print(f\"第{i}行 (列表): {row}\")\n",
    "        print(f\"  姓名: {row[0]}, 年龄: {row[1]}, 班级: {row[2]}, 成绩: {row[3]}\")\n",
    "        if i >= 3:  # 只显示前3行\n",
    "            break\n",
    "\n",
    "# 2. csv.DictReader - 返回字典\n",
    "print(\"\\n2. csv.DictReader 读取:\")\n",
    "with open('students.csv', 'r', encoding='utf-8') as file:\n",
    "    dict_reader = csv.DictReader(file)\n",
    "    print(f\"字段名: {dict_reader.fieldnames}\")\n",
    "    \n",
    "    for i, row in enumerate(dict_reader, 1):\n",
    "        print(f\"第{i}行 (字典): {row}\")\n",
    "        print(f\"  姓名: {row['姓名']}, 年龄: {row['年龄']}, 班级: {row['班级']}, 成绩: {row['成绩']}\")\n",
    "        if i >= 3:  # 只显示前3行\n",
    "            break\n"
   ]
  },
  {
   "cell_type": "raw",
   "metadata": {
    "vscode": {
     "languageId": "raw"
    }
   },
   "source": [
    "## 方法选择指南\n",
    "\n",
    "### 何时使用 writerow() vs writerows()\n",
    "\n",
    "| 场景 | 推荐方法 | 原因 |\n",
    "|------|----------|------|\n",
    "| **逐条处理数据** | `writerow()` | 实时写入，节省内存 |\n",
    "| **已有完整数据集** | `writerows()` | 批量写入，效率更高 |\n",
    "| **动态生成数据** | `writerow()` | 边生成边写入 |\n",
    "| **大量数据** | `writerows()` | 减少IO操作次数 |\n",
    "\n",
    "### 何时使用 csv.writer vs csv.DictWriter\n",
    "\n",
    "| 场景 | 推荐方法 | 原因 |\n",
    "|------|----------|------|\n",
    "| **简单数据结构** | `csv.writer` | 直接，性能更好 |\n",
    "| **复杂数据结构** | `csv.DictWriter` | 字段明确，易维护 |\n",
    "| **动态字段** | `csv.DictWriter` | 灵活的字段映射 |\n",
    "| **数据验证需求** | `csv.DictWriter` | 字段名约束 |\n"
   ]
  },
  {
   "cell_type": "code",
   "execution_count": null,
   "metadata": {},
   "outputs": [],
   "source": [
    "# 实际应用场景演示\n",
    "\n",
    "print(\"=== 实际应用场景 ===\")\n",
    "\n",
    "# 场景1: 动态生成数据 - 使用 writerow()\n",
    "print(\"\\n场景1: 实时处理订单数据\")\n",
    "import random\n",
    "from datetime import datetime, timedelta\n",
    "\n",
    "with open('orders.csv', 'w', newline='', encoding='utf-8') as file:\n",
    "    writer = csv.writer(file)\n",
    "    writer.writerow(['订单ID', '客户名', '金额', '日期'])\n",
    "    \n",
    "    # 模拟实时生成订单\n",
    "    for i in range(1, 6):\n",
    "        order_id = f'ORD{i:03d}'\n",
    "        customer = f'客户{i}'\n",
    "        amount = random.randint(100, 1000)\n",
    "        date = (datetime.now() - timedelta(days=i)).strftime('%Y-%m-%d')\n",
    "        \n",
    "        writer.writerow([order_id, customer, amount, date])\n",
    "        print(f\"处理订单: {order_id}\")\n",
    "\n",
    "# 场景2: 批量导入数据 - 使用 writerows()\n",
    "print(\"\\n场景2: 批量导入产品数据\")\n",
    "products = [\n",
    "    ['P001', '笔记本电脑', 5999, '电子产品'],\n",
    "    ['P002', '无线鼠标', 99, '电子产品'],\n",
    "    ['P003', '机械键盘', 299, '电子产品'],\n",
    "    ['P004', '显示器', 1299, '电子产品']\n",
    "]\n",
    "\n",
    "with open('products.csv', 'w', newline='', encoding='utf-8') as file:\n",
    "    writer = csv.writer(file)\n",
    "    writer.writerow(['产品ID', '产品名', '价格', '分类'])\n",
    "    writer.writerows(products)  # 一次性写入所有数据\n",
    "\n",
    "print(\"批量导入完成\")\n",
    "\n",
    "# 场景3: 字典数据处理 - 使用 DictWriter\n",
    "print(\"\\n场景3: 用户配置文件导出\")\n",
    "user_configs = [\n",
    "    {'用户ID': 1, '用户名': 'admin', '权限': '管理员', '状态': '激活'},\n",
    "    {'用户ID': 2, '用户名': 'user1', '权限': '普通用户', '状态': '激活'},\n",
    "    {'用户ID': 3, '用户名': 'user2', '权限': '普通用户', '状态': '禁用'}\n",
    "]\n",
    "\n",
    "fieldnames = ['用户ID', '用户名', '权限', '状态']\n",
    "with open('user_config.csv', 'w', newline='', encoding='utf-8') as file:\n",
    "    writer = csv.DictWriter(file, fieldnames=fieldnames)\n",
    "    writer.writeheader()\n",
    "    writer.writerows(user_configs)\n",
    "\n",
    "print(\"用户配置导出完成\")\n"
   ]
  },
  {
   "cell_type": "markdown",
   "metadata": {},
   "source": [
    "### reader = csv.DictReader(file)读取的文件的结构到底是什么？输出的只是一个DictReader的类型。其中csv文件的结构如output.csv所示，为什么只有一个表头，用for输出之后每一行的key都是表头？\n",
    "`csv.DictReader 的工作原理是：`\n",
    "- 自动读取第一行作为字典的键（表头）\n",
    "- 之后的每一行数据作为对应键的值\n",
    "- 每读取一行，就创建一个新字典，用表头作为键，当前行的数据作为值\n",
    "\n",
    "所以对于 output.csv，第一行 姓名,年龄,城市 会被用作所有后续行的键，这就是为什么每行输出的字典都用相同的表头作为键。这种设计让处理带标题的 CSV 文件更直观。"
   ]
  },
  {
   "cell_type": "markdown",
   "metadata": {
    "vscode": {
     "languageId": "raw"
    }
   },
   "source": [
    "## 常用参数\n",
    "\n",
    "### 分隔符设置\n",
    "- `delimiter=','` - 字段分隔符（默认逗号）\n",
    "- `quotechar='\"'` - 引用字符（默认双引号）\n",
    "- `quoting=csv.QUOTE_MINIMAL` - 引用策略\n",
    "\n",
    "### 编码和换行\n",
    "- `encoding='utf-8'` - 文件编码\n",
    "- `newline=''` - 写入时防止空行（Windows需要）\n"
   ]
  },
  {
   "cell_type": "code",
   "execution_count": null,
   "metadata": {},
   "outputs": [],
   "source": [
    "# 自定义参数示例\n",
    "\n",
    "# 1. 自定义分隔符（分号分隔）\n",
    "with open('data.csv', 'r', encoding='utf-8') as file:\n",
    "    reader = csv.reader(file, delimiter=';')\n",
    "    for row in reader:\n",
    "        print(row)\n",
    "\n",
    "# 2. 处理包含逗号的字段\n",
    "with open('data.csv', 'w', newline='', encoding='utf-8') as file:\n",
    "    writer = csv.writer(file, quoting=csv.QUOTE_ALL)  # 所有字段加引号\n",
    "    writer.writerow(['姓名', '地址', '备注'])\n",
    "    writer.writerow(['张三', '北京市,朝阳区', '家住三环,近地铁'])\n",
    "\n",
    "# 3. TSV文件（Tab分隔）\n",
    "with open('data.tsv', 'w', newline='', encoding='utf-8') as file:\n",
    "    writer = csv.writer(file, delimiter='\\t')  # Tab分隔符\n",
    "    writer.writerow(['姓名', '年龄', '城市'])\n"
   ]
  },
  {
   "cell_type": "markdown",
   "metadata": {
    "vscode": {
     "languageId": "raw"
    }
   },
   "source": [
    "## 注意事项\n",
    "\n",
    "1. **文件编码**：使用 `encoding='utf-8'` 处理中文\n",
    "2. **换行符**：写入时使用 `newline=''` 避免空行（Windows）\n",
    "3. **关闭文件**：使用 `with` 语句自动关闭文件\n",
    "4. **数据类型**：读取的所有数据都是字符串，需要手动转换类型\n",
    "\n",
    "```python\n",
    "# 类型转换示例\n",
    "for row in reader:\n",
    "    name = row[0]           # 字符串\n",
    "    age = int(row[1])       # 转为整数\n",
    "    salary = float(row[2])  # 转为浮点数\n",
    "```\n"
   ]
  },
  {
   "cell_type": "markdown",
   "metadata": {},
   "source": [
    "## 🤔 疑问：\n",
    "\n",
    "```python\n",
    "def save_results(self, filename, data):\n",
    "        \"\"\"将结果保存到新的CSV文件\"\"\"\n",
    "        # TODO: 将处理后的数据保存为CSV\n",
    "        if not data:\n",
    "            print(\"当前没有数据需要保存\")\n",
    "        try:\n",
    "            with open(filename, \"w\", newline=\"\", encoding=\"utf-8\") as file:\n",
    "                if isinstance(data, list) and data:\n",
    "                    fieldnames = data[0].keys()\n",
    "                    print(fieldnames)\n",
    "                    writer = csv.DictWriter(file, fieldnames=fieldnames)\n",
    "                    writer.writeheader()\n",
    "                    writer.writerows(data)\n",
    "                elif isinstance(data, dict):\n",
    "                    writer = csv.writer(file)\n",
    "                    writer.writerows(data)\n",
    "                print(f\"数据已经保存到: {filename}\")\n",
    "        except Exception as e:\n",
    "            print(\"写入文件出错\", e)\n",
    "```\n",
    "#### 疑问1:\n",
    "\n",
    "在这个函数中:\n",
    "1. 为什么 if 中 csv.DictWriter 的第一个参数是 file 而不是 data？\n",
    "2. 为什么 elif 中的 csv.writer 的第一个参数是 file 而不是 data？\n",
    "3. 为什么 writerows 的参数是 data 而不是 file？\n",
    "\n",
    "因为:\n",
    "`csv.DictWriter/csv.writer` 需要一个文件对象来写入数据，所以第一个参数是已打开的文件 `file`\n",
    "`writerows() `方法是用来写入实际数据的，所以参数是要写入的数据 `data`\n",
    "这反映了职责分离:\n",
    "\n",
    "`writer` 对象负责如何写入(处理文件 IO)\n",
    "\n",
    "`writerows()`负责写入什么内容(处理数据)\n",
    "\n",
    "#### 疑问2:\n",
    "elif中的代码是否有问题？\n",
    "\n",
    "有问题。`writer.writerows(data)`直接写入字典会导致键被分割成单独的字符写入CSV。应该将字典数据转换成合适的列表格式，比如：`writer.writerows([[k, v] for k, v in data.items()])`。这就是为什么在平均工资.csv中看到部门名被分割成单个字符。\n",
    "\n",
    "平均工资.csv:\n",
    "\n",
    "技,术,部\n",
    "销,售,部\n",
    "人,事,部\n",
    "\n",
    "改进后的elif:\n",
    "```python\n",
    "\n",
    "```\n",
    "\n",
    "`writer.writerows(data)`直接写入字典会导致键被分割成单独的字符写入CSV？\n",
    "\n",
    "当使用csv.writer写入字典时，它会将字典的键当作字符串处理，并把这个字符串的每个字符作为CSV的单独一列。例如，键\"技术部\"会被拆分成\"技\"、\"术\"、\"部\"三列。这是因为csv.writer期望接收的是列表或元组，而不是字典。\n",
    "```python\n",
    "\n",
    "```\n"
   ]
  },
  {
   "cell_type": "raw",
   "metadata": {
    "vscode": {
     "languageId": "raw"
    }
   },
   "source": [
    "## 关于你代码中的问题解答\n",
    "\n",
    "### 问题分析\n",
    "\n",
    "你提到的 `save_results` 函数中的问题：\n",
    "\n",
    "```python\n",
    "elif isinstance(data, dict):\n",
    "    writer = csv.writer(file)\n",
    "    writer.writerows(data)  # ❌ 这里有问题\n",
    "```\n",
    "\n",
    "**问题原因**：\n",
    "- `csv.writer.writerows()` 期望接收**列表的列表**\n",
    "- 直接传入字典会把字典的**键**当作可迭代对象处理\n",
    "- 字符串键（如\"技术部\"）会被拆分成单个字符：`\"技\", \"术\", \"部\"`\n",
    "\n",
    "### 正确的修复方案\n",
    "\n",
    "```python\n",
    "elif isinstance(data, dict):\n",
    "    writer = csv.writer(file)\n",
    "    # 写入表头\n",
    "    writer.writerow(['部门', '平均工资'])  # 或其他合适的表头\n",
    "    # 将字典转换为列表的列表\n",
    "    writer.writerows([[k, v] for k, v in data.items()])\n",
    "```\n"
   ]
  },
  {
   "cell_type": "code",
   "execution_count": null,
   "metadata": {},
   "outputs": [],
   "source": [
    "# 演示问题和解决方案\n",
    "\n",
    "print(\"=== 演示字典写入问题 ===\")\n",
    "\n",
    "# 模拟部门平均工资数据\n",
    "dept_salaries = {\n",
    "    '技术部': 8500.0,\n",
    "    '销售部': 6000.0,\n",
    "    '人事部': 7000.0\n",
    "}\n",
    "\n",
    "# ❌ 错误方式：直接写入字典\n",
    "print(\"\\n错误方式的结果:\")\n",
    "with open('wrong_way.csv', 'w', newline='', encoding='utf-8') as file:\n",
    "    writer = csv.writer(file)\n",
    "    writer.writerows(dept_salaries)  # 字典键被拆分\n",
    "\n",
    "# 查看错误结果\n",
    "with open('wrong_way.csv', 'r', encoding='utf-8') as file:\n",
    "    print(\"错误结果内容:\")\n",
    "    for line in file:\n",
    "        print(repr(line.strip()))\n",
    "\n",
    "# ✅ 正确方式1：转换为列表的列表\n",
    "print(\"\\n正确方式1的结果:\")\n",
    "with open('correct_way1.csv', 'w', newline='', encoding='utf-8') as file:\n",
    "    writer = csv.writer(file)\n",
    "    writer.writerow(['部门', '平均工资'])  # 表头\n",
    "    writer.writerows([[k, v] for k, v in dept_salaries.items()])\n",
    "\n",
    "# ✅ 正确方式2：使用DictWriter\n",
    "print(\"\\n正确方式2的结果:\")\n",
    "# 先转换字典格式\n",
    "data_for_dict_writer = [{'部门': k, '平均工资': v} for k, v in dept_salaries.items()]\n",
    "\n",
    "with open('correct_way2.csv', 'w', newline='', encoding='utf-8') as file:\n",
    "    writer = csv.DictWriter(file, fieldnames=['部门', '平均工资'])\n",
    "    writer.writeheader()\n",
    "    writer.writerows(data_for_dict_writer)\n",
    "\n",
    "# 验证正确结果\n",
    "print(\"\\n正确方式1的内容:\")\n",
    "with open('correct_way1.csv', 'r', encoding='utf-8') as file:\n",
    "    reader = csv.reader(file)\n",
    "    for row in reader:\n",
    "        print(row)\n",
    "\n",
    "print(\"\\n正确方式2的内容:\")\n",
    "with open('correct_way2.csv', 'r', encoding='utf-8') as file:\n",
    "    reader = csv.DictReader(file)\n",
    "    for row in reader:\n",
    "        print(row)\n"
   ]
  }
 ],
 "metadata": {
  "kernelspec": {
   "display_name": "python练习",
   "language": "python",
   "name": "python3"
  },
  "language_info": {
   "codemirror_mode": {
    "name": "ipython",
    "version": 3
   },
   "file_extension": ".py",
   "mimetype": "text/x-python",
   "name": "python",
   "nbconvert_exporter": "python",
   "pygments_lexer": "ipython3",
   "version": "3.12.9"
  }
 },
 "nbformat": 4,
 "nbformat_minor": 2
}

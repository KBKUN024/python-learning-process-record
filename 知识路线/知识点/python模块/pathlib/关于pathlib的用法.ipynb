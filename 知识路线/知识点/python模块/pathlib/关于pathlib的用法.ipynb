{
 "cells": [
  {
   "cell_type": "markdown",
   "metadata": {
    "vscode": {
     "languageId": "raw"
    }
   },
   "source": [
    "# 关于 pathlib 模块的用法\n",
    "\n",
    "`pathlib` 是 Python 3.4+ 引入的现代路径操作模块，提供了面向对象的路径处理方式，是 `os.path` 的现代化替代方案。\n"
   ]
  },
  {
   "cell_type": "code",
   "execution_count": null,
   "metadata": {},
   "outputs": [],
   "source": [
    "from pathlib import Path, PurePath, WindowsPath, PosixPath"
   ]
  },
  {
   "cell_type": "markdown",
   "metadata": {
    "vscode": {
     "languageId": "raw"
    }
   },
   "source": [
    "## 1. Path 类基础\n",
    "\n",
    "### 创建 Path 对象\n",
    "- `Path(path)` - 创建路径对象\n",
    "- `Path.cwd()` - 当前工作目录\n",
    "- `Path.home()` - 用户主目录\n",
    "- `Path(*args)` - 连接多个路径部分\n",
    "\n",
    "### 路径信息属性\n",
    "- `.name` - 文件名（包含扩展名）\n",
    "- `.stem` - 文件名（不含扩展名）\n",
    "- `.suffix` - 文件扩展名\n",
    "- `.suffixes` - 所有扩展名（列表）\n",
    "- `.parent` - 父目录\n",
    "- `.parents` - 所有祖先目录\n",
    "- `.anchor` - 锚点（根目录）\n",
    "- `.parts` - 路径组成部分（元组）\n"
   ]
  },
  {
   "cell_type": "code",
   "execution_count": null,
   "metadata": {},
   "outputs": [],
   "source": [
    "# Path 类基础示例\n",
    "p = Path(\"practices/知识点/python模块/pathlib/关于pathlib的用法.ipynb\")\n",
    "\n",
    "print(\"完整路径:\", p)\n",
    "print(\"文件名:\", p.name)\n",
    "print(\"文件名（无扩展名）:\", p.stem)\n",
    "print(\"扩展名:\", p.suffix)\n",
    "print(\"所有扩展名:\", p.suffixes)\n",
    "print(\"父目录:\", p.parent)\n",
    "print(\"路径组成:\", p.parts)\n",
    "\n",
    "# 创建路径对象的不同方式\n",
    "print(\"\\n当前目录:\", Path.cwd())\n",
    "print(\"用户主目录:\", Path.home())\n",
    "print(\"连接路径:\", Path(\"practices\", \"知识点\", \"test.py\"))\n"
   ]
  },
  {
   "cell_type": "markdown",
   "metadata": {
    "vscode": {
     "languageId": "raw"
    }
   },
   "source": [
    "## 2. 路径操作方法\n",
    "\n",
    "### 路径连接和解析\n",
    "- `/` 运算符 - 路径连接（推荐）\n",
    "- `.joinpath(*args)` - 连接路径\n",
    "- `.resolve()` - 解析为绝对路径\n",
    "- `.absolute()` - 转换为绝对路径\n",
    "- `.relative_to(other)` - 相对于其他路径\n",
    "\n",
    "### 路径变换\n",
    "- `.with_name(name)` - 改变文件名\n",
    "- `.with_stem(stem)` - 改变文件名主体\n",
    "- `.with_suffix(suffix)` - 改变扩展名\n",
    "- `.as_posix()` - 转换为 POSIX 格式\n",
    "- `.as_uri()` - 转换为 URI\n"
   ]
  },
  {
   "cell_type": "code",
   "execution_count": null,
   "metadata": {},
   "outputs": [],
   "source": [
    "# 路径操作方法示例\n",
    "base_path = Path(\"practices\")\n",
    "file_path = Path(\"test.txt\")\n",
    "\n",
    "# 路径连接（推荐使用 / 运算符）\n",
    "full_path = base_path / \"知识点\" / \"python模块\"\n",
    "print(\"使用 / 连接:\", full_path)\n",
    "\n",
    "# 传统方法连接\n",
    "full_path2 = base_path.joinpath(\"知识点\", \"python模块\")\n",
    "print(\"使用 joinpath:\", full_path2)\n",
    "\n",
    "# 路径变换\n",
    "p = Path(\"example.txt\")\n",
    "print(\"原路径:\", p)\n",
    "print(\"改名:\", p.with_name(\"new_example.txt\"))\n",
    "print(\"改扩展名:\", p.with_suffix(\".py\"))\n",
    "print(\"POSIX格式:\", p.as_posix())\n",
    "\n",
    "# 绝对路径\n",
    "print(\"绝对路径:\", Path(\"README.md\").resolve())\n"
   ]
  },
  {
   "cell_type": "markdown",
   "metadata": {
    "vscode": {
     "languageId": "raw"
    }
   },
   "source": [
    "## 3. 文件系统操作\n",
    "\n",
    "### 存在性检查\n",
    "- `.exists()` - 路径是否存在\n",
    "- `.is_file()` - 是否为文件\n",
    "- `.is_dir()` - 是否为目录\n",
    "- `.is_symlink()` - 是否为符号链接\n",
    "- `.is_socket()` - 是否为套接字\n",
    "- `.is_fifo()` - 是否为 FIFO\n",
    "\n",
    "### 文件信息\n",
    "- `.stat()` - 文件统计信息\n",
    "- `.lstat()` - 符号链接统计信息\n",
    "- `.owner()` - 文件所有者\n",
    "- `.group()` - 文件组\n",
    "- `.is_mount()` - 是否为挂载点\n"
   ]
  },
  {
   "cell_type": "code",
   "execution_count": null,
   "metadata": {},
   "outputs": [],
   "source": [
    "# 文件系统操作示例\n",
    "readme_path = Path(\"README.md\")\n",
    "\n",
    "print(\"文件存在:\", readme_path.exists())\n",
    "print(\"是文件:\", readme_path.is_file())\n",
    "print(\"是目录:\", readme_path.is_dir())\n",
    "\n",
    "practices_path = Path(\"practices\")\n",
    "print(\"practices 存在:\", practices_path.exists())\n",
    "print(\"practices 是目录:\", practices_path.is_dir())\n",
    "\n",
    "# 获取文件信息\n",
    "if readme_path.exists():\n",
    "    stat_info = readme_path.stat()\n",
    "    print(\"文件大小:\", stat_info.st_size, \"字节\")\n",
    "    print(\"修改时间:\", stat_info.st_mtime)\n"
   ]
  },
  {
   "cell_type": "markdown",
   "metadata": {
    "vscode": {
     "languageId": "raw"
    }
   },
   "source": [
    "## 4. 目录操作\n",
    "\n",
    "### 目录创建和删除\n",
    "- `.mkdir(mode=0o777, parents=False, exist_ok=False)` - 创建目录\n",
    "- `.rmdir()` - 删除空目录\n",
    "- `.unlink(missing_ok=False)` - 删除文件\n",
    "\n",
    "### 目录遍历\n",
    "- `.iterdir()` - 迭代目录内容\n",
    "- `.glob(pattern)` - 通配符匹配\n",
    "- `.rglob(pattern)` - 递归通配符匹配\n"
   ]
  },
  {
   "cell_type": "code",
   "execution_count": null,
   "metadata": {},
   "outputs": [],
   "source": [
    "# 目录操作示例\n",
    "practices_dir = Path(\"practices\")\n",
    "\n",
    "# 遍历目录内容\n",
    "print(\"practices 目录内容:\")\n",
    "for item in practices_dir.iterdir():\n",
    "    print(f\"  {'[DIR]' if item.is_dir() else '[FILE]'} {item.name}\")\n",
    "\n",
    "# 使用 glob 查找文件\n",
    "print(\"\\n查找所有 .ipynb 文件:\")\n",
    "for notebook in Path(\".\").rglob(\"*.ipynb\"):\n",
    "    print(f\"  {notebook}\")\n",
    "\n",
    "# 查找 Python 文件\n",
    "print(\"\\n查找所有 .py 文件:\")\n",
    "python_files = list(Path(\".\").rglob(\"*.py\"))\n",
    "print(f\"  找到 {len(python_files)} 个 Python 文件\")\n",
    "for py_file in python_files[:3]:  # 只显示前3个\n",
    "    print(f\"  {py_file}\")\n"
   ]
  },
  {
   "cell_type": "markdown",
   "metadata": {
    "vscode": {
     "languageId": "raw"
    }
   },
   "source": [
    "## 5. 文件读写操作\n",
    "\n",
    "### 文本文件操作\n",
    "- `.read_text(encoding=None, errors=None)` - 读取文本文件\n",
    "- `.write_text(data, encoding=None, errors=None)` - 写入文本文件\n",
    "- `.open(mode='r', buffering=-1, encoding=None)` - 打开文件\n",
    "\n",
    "### 二进制文件操作\n",
    "- `.read_bytes()` - 读取二进制文件\n",
    "- `.write_bytes(data)` - 写入二进制文件\n"
   ]
  },
  {
   "cell_type": "code",
   "execution_count": null,
   "metadata": {},
   "outputs": [],
   "source": [
    "# 文件读写操作示例\n",
    "# 读取文本文件\n",
    "readme_path = Path(\"README.md\")\n",
    "if readme_path.exists():\n",
    "    content = readme_path.read_text(encoding='utf-8')\n",
    "    print(\"README.md 内容长度:\", len(content))\n",
    "    print(\"前100个字符:\", content[:100])\n",
    "\n",
    "# 写入文本文件示例（注释掉以免创建文件）\n",
    "# temp_file = Path(\"temp.txt\")\n",
    "# temp_file.write_text(\"这是测试内容\", encoding='utf-8')\n",
    "# print(\"文件已写入\")\n",
    "\n",
    "# 使用 open 方法\n",
    "# with readme_path.open('r', encoding='utf-8') as f:\n",
    "#     first_line = f.readline()\n",
    "#     print(\"第一行:\", first_line.strip())\n",
    "\n",
    "print(\"文件读写示例完成\")\n"
   ]
  },
  {
   "cell_type": "markdown",
   "metadata": {
    "vscode": {
     "languageId": "raw"
    }
   },
   "source": [
    "## 6. pathlib vs os.path 对比\n",
    "\n",
    "| 功能 | os.path | pathlib |\n",
    "|------|---------|---------|\n",
    "| 路径连接 | `os.path.join(a, b)` | `Path(a) / b` |\n",
    "| 获取文件名 | `os.path.basename(path)` | `Path(path).name` |\n",
    "| 获取目录 | `os.path.dirname(path)` | `Path(path).parent` |\n",
    "| 检查存在 | `os.path.exists(path)` | `Path(path).exists()` |\n",
    "| 是否为文件 | `os.path.isfile(path)` | `Path(path).is_file()` |\n",
    "| 绝对路径 | `os.path.abspath(path)` | `Path(path).resolve()` |\n",
    "| 读取文件 | `open(path).read()` | `Path(path).read_text()` |\n",
    "\n",
    "## 7. 实际开发中的最佳实践\n",
    "\n",
    "### 推荐使用场景\n",
    "- **现代项目**：优先使用 pathlib\n",
    "- **跨平台**：pathlib 自动处理路径分隔符\n",
    "- **链式操作**：pathlib 支持方法链\n",
    "- **类型提示**：pathlib 与类型检查工具配合更好\n",
    "\n",
    "### 注意事项\n",
    "- pathlib 是 Python 3.4+ 的功能\n",
    "- 某些第三方库可能需要字符串路径，使用 `str(path)` 转换\n",
    "- 性能敏感场景下，os.path 可能更快\n"
   ]
  },
  {
   "cell_type": "code",
   "execution_count": null,
   "metadata": {},
   "outputs": [],
   "source": [
    "# pathlib 最佳实践示例\n",
    "def organize_files_by_extension(source_dir):\n",
    "    \"\"\"按文件扩展名整理文件\"\"\"\n",
    "    source_path = Path(source_dir)\n",
    "    \n",
    "    if not source_path.exists() or not source_path.is_dir():\n",
    "        print(f\"目录不存在或不是目录: {source_dir}\")\n",
    "        return\n",
    "    \n",
    "    # 统计文件类型\n",
    "    file_types = {}\n",
    "    for file_path in source_path.rglob(\"*\"):\n",
    "        if file_path.is_file():\n",
    "            extension = file_path.suffix.lower()\n",
    "            if extension:\n",
    "                file_types[extension] = file_types.get(extension, 0) + 1\n",
    "    \n",
    "    print(\"文件类型统计:\")\n",
    "    for ext, count in sorted(file_types.items()):\n",
    "        print(f\"  {ext}: {count} 个文件\")\n",
    "\n",
    "# 演示使用\n",
    "organize_files_by_extension(\"practices\")\n",
    "\n",
    "# pathlib 的链式操作示例\n",
    "config_path = Path.home() / \".config\" / \"myapp\" / \"config.json\"\n",
    "print(f\"配置文件路径: {config_path}\")\n",
    "print(f\"配置目录: {config_path.parent}\")\n",
    "\n",
    "# 转换为字符串（兼容老API）\n",
    "print(f\"字符串格式: {str(config_path)}\")\n"
   ]
  }
 ],
 "metadata": {
  "language_info": {
   "name": "python"
  }
 },
 "nbformat": 4,
 "nbformat_minor": 2
}

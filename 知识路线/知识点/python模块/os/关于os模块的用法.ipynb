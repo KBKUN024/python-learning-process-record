{
 "cells": [
  {
   "cell_type": "markdown",
   "metadata": {
    "vscode": {
     "languageId": "raw"
    }
   },
   "source": [
    "# 关于 os 模块的用法\n",
    "\n",
    "`os` 模块是 Python 标准库中用于与操作系统交互的重要模块，提供了许多与操作系统相关的功能。\n"
   ]
  },
  {
   "cell_type": "code",
   "execution_count": 2,
   "metadata": {},
   "outputs": [],
   "source": [
    "import os"
   ]
  },
  {
   "cell_type": "markdown",
   "metadata": {
    "vscode": {
     "languageId": "raw"
    }
   },
   "source": [
    "## 1. 目录和文件操作\n",
    "\n",
    "### 目录操作\n",
    "- `os.getcwd()` - 获取当前工作目录\n",
    "- `os.chdir(path)` - 改变当前工作目录\n",
    "- `os.listdir(path='.')` - 列出目录中的文件和子目录\n",
    "- `os.mkdir(path)` - 创建单个目录\n",
    "- `os.makedirs(path, mode=511, exist_ok=False)` - 递归创建目录（包括父目录）\n",
    "    - path -- 需要递归创建的目录，可以是相对或者绝对路径。\n",
    "    - mode -- 权限模式，默认的模式为 511 (八进制)。\n",
    "    - exist_ok：是否在目录存在时触发异常。如果 exist_ok 为 False（默认值），则在目标目录已存在的情况下触发 FileExistsError 异常；如果 exist_ok 为 True，则在目标目录已存在的情况下不会触发 FileExistsError 异常。\n",
    "\n",
    "- `os.rmdir(path)` - 删除空目录\n",
    "- `os.removedirs(path)` - 递归删除空目录\n",
    "\n",
    "### 文件操作\n",
    "- `os.remove(path)` - 删除文件\n",
    "- `os.rename(src, dst)` - 重命名文件或目录\n",
    "- `os.stat(path)` - 获取文件/目录信息\n",
    "- `os.path.exists(path)` - 检查路径是否存在\n",
    "- `os.path.isfile(path)` - 检查是否为文件\n",
    "- `os.path.isdir(path)` - 检查是否为目录\n"
   ]
  },
  {
   "cell_type": "code",
   "execution_count": 10,
   "metadata": {},
   "outputs": [
    {
     "name": "stdout",
     "output_type": "stream",
     "text": [
      "当前工作目录: /Users/huangwenxin/scripts/Code/python-learning-process-record/practices/知识点/python模块/os\n",
      "目录内容: ['关于os模块的用法.ipynb']\n",
      "README.md 存在: False\n",
      "practices 是目录: False\n"
     ]
    }
   ],
   "source": [
    "# 目录和文件操作示例\n",
    "print(\"当前工作目录:\", os.getcwd())\n",
    "print(\"目录内容:\", os.listdir('.'))\n",
    "\n",
    "# 检查文件/目录是否存在\n",
    "print(\"README.md 存在:\", os.path.exists('README.md'))\n",
    "print(\"practices 是目录:\", os.path.isdir('practices'))\n"
   ]
  },
  {
   "cell_type": "markdown",
   "metadata": {
    "vscode": {
     "languageId": "raw"
    }
   },
   "source": [
    "## 2. 路径操作 (os.path)\n",
    "\n",
    "### 路径信息获取\n",
    "- `os.path.abspath(path)` - 获取绝对路径\n",
    "- `os.path.basename(path)` - 获取路径的最后一部分（文件名）获取路径中 ​​最后一个斜杠（/ 或 \\）之后的部分​​。\n",
    "\n",
    "    比如：\n",
    "\n",
    "    ```python\n",
    "    path = \"/home/user/docs/file.txt\"\n",
    "    path2 = \"/home/user/docs/\"\n",
    "    path3 = \"/home/user/docs\"\n",
    "    print(os.path.basename(path))\n",
    "    print(os.path.basename(path2))\n",
    "    print(os.path.basename(path3))\n",
    "    # 输出\n",
    "    file.txt\n",
    "        👈 这里输出空字符串\n",
    "    docs\n",
    "    ```\n",
    "\n",
    "- `os.path.dirname(path)` - 获取路径的目录部分（也就是得到整个路径中的文件夹的部分，不包含具体文件的部分）\n",
    "- `os.path.split(path)` - 分割路径为目录和文件名\n",
    "- `os.path.splitext(path)` - 分割文件名和扩展名\n",
    "\n",
    "### 路径构建\n",
    "- `os.path.join(path1, path2, ...)` - 连接路径\n",
    "- `os.path.normpath(path)` - 规范化路径\n",
    "- `os.path.realpath(path)` - 获取真实路径（解析符号链接）\n",
    "\n",
    "### 路径判断\n",
    "- `os.path.isabs(path)` - 是否为绝对路径\n",
    "- `os.path.samefile(path1, path2)` - 两个路径是否指向同一文件\n"
   ]
  },
  {
   "cell_type": "code",
   "execution_count": 11,
   "metadata": {},
   "outputs": [
    {
     "name": "stdout",
     "output_type": "stream",
     "text": [
      "绝对路径: /Users/huangwenxin/scripts/Code/python-learning-process-record/practices/知识点/python模块/os/practices/知识点/python模块/os/关于os模块的用法.ipynb\n",
      "文件名: 关于os模块的用法.ipynb\n",
      "目录: practices/知识点/python模块/os\n",
      "分割路径: ('practices/知识点/python模块/os', '关于os模块的用法.ipynb')\n",
      "分割扩展名: ('practices/知识点/python模块/os/关于os模块的用法', '.ipynb')\n",
      "连接路径: practices/知识点/test.py\n"
     ]
    }
   ],
   "source": [
    "# 路径操作示例\n",
    "file_path = \"practices/知识点/python模块/os/关于os模块的用法.ipynb\"\n",
    "\n",
    "print(\"绝对路径:\", os.path.abspath(file_path))\n",
    "print(\"文件名:\", os.path.basename(file_path))\n",
    "print(\"目录:\", os.path.dirname(file_path))\n",
    "print(\"分割路径:\", os.path.split(file_path))\n",
    "print(\"分割扩展名:\", os.path.splitext(file_path))\n",
    "\n",
    "\n",
    "# 路径连接\n",
    "new_path = os.path.join(\"practices\", \"知识点\", \"test.py\")\n",
    "print(\"连接路径:\", new_path)\n"
   ]
  },
  {
   "cell_type": "markdown",
   "metadata": {
    "vscode": {
     "languageId": "raw"
    }
   },
   "source": [
    "## 3. 环境变量操作\n",
    "\n",
    "- `os.environ` - 环境变量字典\n",
    "- `os.getenv(key, default=None)` - 获取环境变量\n",
    "- `os.putenv(key, value)` - 设置环境变量\n",
    "- `os.unsetenv(key)` - 删除环境变量\n"
   ]
  },
  {
   "cell_type": "code",
   "execution_count": 12,
   "metadata": {},
   "outputs": [
    {
     "name": "stdout",
     "output_type": "stream",
     "text": [
      "PATH 环境变量: /Users/huangwenxin/miniconda3/envs/python练习/bin:/Users/huangwenxin/miniconda3/condabin:/opt/homebrew/bin/pip3:/opt/homebrew/bin:/opt/homebrew/sbin:/usr/local/bin:/System/Cryptexes/App/usr/bin:/usr/bin:/bin:/usr/sbin:/sbin:/var/run/com.apple.security.cryptexd/codex.system/bootstrap/usr/local/bin:/var/run/com.apple.security.cryptexd/codex.system/bootstrap/usr/bin:/var/run/com.apple.security.cryptexd/codex.system/bootstrap/usr/appleinternal/bin\n",
      "HOME 目录: /Users/huangwenxin\n",
      "自定义变量: test_value\n"
     ]
    }
   ],
   "source": [
    "# 环境变量操作示例\n",
    "print(\"PATH 环境变量:\", os.getenv('PATH', '未找到'))\n",
    "print(\"HOME 目录:\", os.getenv('HOME', '未找到'))\n",
    "\n",
    "# 设置自定义环境变量\n",
    "os.environ['MY_VAR'] = 'test_value'\n",
    "print(\"自定义变量:\", os.getenv('MY_VAR'))\n"
   ]
  },
  {
   "cell_type": "markdown",
   "metadata": {
    "vscode": {
     "languageId": "raw"
    }
   },
   "source": [
    "## 4. 进程相关操作\n",
    "\n",
    "- `os.getpid()` - 获取当前进程ID\n",
    "- `os.getppid()` - 获取父进程ID\n",
    "- `os.system(command)` - 执行系统命令\n",
    "- `os.popen(command)` - 执行命令并返回文件对象\n",
    "- `os.execv(program, args)` - 执行程序\n",
    "- `os.fork()` - 创建子进程（Unix/Linux）\n",
    "- `os.kill(pid, signal)` - 发送信号给进程\n"
   ]
  },
  {
   "cell_type": "code",
   "execution_count": 13,
   "metadata": {},
   "outputs": [
    {
     "name": "stdout",
     "output_type": "stream",
     "text": [
      "当前进程ID: 2811\n",
      "父进程ID: 1966\n",
      "Hello from system command\n",
      "命令执行结果: 0\n",
      "ls 命令输出: 关于os模块的用法.ipynb\n"
     ]
    }
   ],
   "source": [
    "# 进程相关操作示例\n",
    "print(\"当前进程ID:\", os.getpid())\n",
    "print(\"父进程ID:\", os.getppid())\n",
    "\n",
    "# 执行系统命令\n",
    "result = os.system('echo \"Hello from system command\"')\n",
    "print(\"命令执行结果:\", result)\n",
    "\n",
    "# 使用 popen 执行命令并获取输出\n",
    "with os.popen('ls') as f:\n",
    "    output = f.read()\n",
    "    print(\"ls 命令输出:\", output.strip())\n"
   ]
  },
  {
   "cell_type": "markdown",
   "metadata": {
    "vscode": {
     "languageId": "raw"
    }
   },
   "source": [
    "## 5. 系统信息和其他功能\n",
    "\n",
    "### 系统信息\n",
    "- `os.name` - 操作系统名称\n",
    "- `os.uname()` - 系统信息（Unix/Linux）\n",
    "- `os.cpu_count()` - CPU核心数\n",
    "- `os.sep` - 路径分隔符\n",
    "- `os.pathsep` - 环境变量分隔符\n",
    "- `os.linesep` - 行分隔符\n",
    "\n",
    "### 文件权限和属性\n",
    "- `os.chmod(path, mode)` - 修改文件权限\n",
    "- `os.chown(path, uid, gid)` - 修改文件所有者\n",
    "- `os.access(path, mode)` - 检查文件访问权限\n",
    "\n",
    "### 其他常用功能\n",
    "- `os.walk(top)` - 遍历目录树\n",
    "- `os.tmpfile()` - 创建临时文件\n",
    "- `os.urandom(n)` - 生成随机字节\n"
   ]
  },
  {
   "cell_type": "code",
   "execution_count": 14,
   "metadata": {},
   "outputs": [
    {
     "name": "stdout",
     "output_type": "stream",
     "text": [
      "操作系统: posix\n",
      "CPU核心数: 12\n",
      "路径分隔符: '/'\n",
      "环境变量分隔符: ':'\n",
      "\n",
      "目录树遍历:\n"
     ]
    }
   ],
   "source": [
    "# 系统信息示例\n",
    "print(\"操作系统:\", os.name)\n",
    "print(\"CPU核心数:\", os.cpu_count())\n",
    "print(\"路径分隔符:\", repr(os.sep))\n",
    "print(\"环境变量分隔符:\", repr(os.pathsep))\n",
    "\n",
    "# 遍历目录树示例（只显示前几个）\n",
    "print(\"\\n目录树遍历:\")\n",
    "count = 0\n",
    "for root, dirs, files in os.walk('practices'):\n",
    "    if count < 3:  # 只显示前3个\n",
    "        print(f\"目录: {root}\")\n",
    "        print(f\"  子目录: {dirs[:3]}\")  # 只显示前3个子目录\n",
    "        print(f\"  文件: {files[:3]}\")    # 只显示前3个文件\n",
    "        count += 1\n"
   ]
  },
  {
   "cell_type": "markdown",
   "metadata": {
    "vscode": {
     "languageId": "raw"
    }
   },
   "source": [
    "## 6. 常用常量\n",
    "\n",
    "- `os.F_OK` - 检查文件是否存在\n",
    "- `os.R_OK` - 检查读权限\n",
    "- `os.W_OK` - 检查写权限  \n",
    "- `os.X_OK` - 检查执行权限\n",
    "- `os.O_RDONLY` - 只读模式\n",
    "- `os.O_WRONLY` - 只写模式\n",
    "- `os.O_RDWR` - 读写模式\n",
    "- `os.O_CREAT` - 创建文件\n",
    "- `os.O_APPEND` - 追加模式\n"
   ]
  },
  {
   "cell_type": "code",
   "execution_count": 15,
   "metadata": {},
   "outputs": [
    {
     "name": "stdout",
     "output_type": "stream",
     "text": [
      "文件 README.md 不存在\n"
     ]
    }
   ],
   "source": [
    "# 权限检查示例\n",
    "file_to_check = \"README.md\"\n",
    "if os.path.exists(file_to_check):\n",
    "    print(f\"文件 {file_to_check} 的权限:\")\n",
    "    print(\"  存在:\", os.access(file_to_check, os.F_OK))\n",
    "    print(\"  可读:\", os.access(file_to_check, os.R_OK))\n",
    "    print(\"  可写:\", os.access(file_to_check, os.W_OK))\n",
    "    print(\"  可执行:\", os.access(file_to_check, os.X_OK))\n",
    "else:\n",
    "    print(f\"文件 {file_to_check} 不存在\")\n"
   ]
  },
  {
   "cell_type": "markdown",
   "metadata": {
    "vscode": {
     "languageId": "raw"
    }
   },
   "source": [
    "## 7. 实际开发中的注意事项\n",
    "\n",
    "### 推荐使用的替代方案\n",
    "- **路径操作**: 推荐使用 `pathlib` 模块替代 `os.path`\n",
    "- **执行命令**: 推荐使用 `subprocess` 模块替代 `os.system()`\n",
    "- **文件操作**: 某些场景下可考虑使用 `shutil` 模块\n",
    "\n",
    "### 跨平台兼容性\n",
    "- 使用 `os.path.join()` 而不是手动拼接路径\n",
    "- 注意不同操作系统的路径分隔符差异\n",
    "- 某些功能在不同系统上可能不可用（如 `os.fork()` 在 Windows 上不可用）\n",
    "\n",
    "### 安全考虑\n",
    "- 使用 `os.path.exists()` 检查文件是否存在再进行操作\n",
    "- 谨慎使用 `os.system()` 执行外部命令，防止命令注入\n",
    "- 操作文件权限时要谨慎，避免意外修改系统文件\n"
   ]
  }
 ],
 "metadata": {
  "kernelspec": {
   "display_name": "python练习",
   "language": "python",
   "name": "python3"
  },
  "language_info": {
   "codemirror_mode": {
    "name": "ipython",
    "version": 3
   },
   "file_extension": ".py",
   "mimetype": "text/x-python",
   "name": "python",
   "nbconvert_exporter": "python",
   "pygments_lexer": "ipython3",
   "version": "3.12.9"
  }
 },
 "nbformat": 4,
 "nbformat_minor": 2
}

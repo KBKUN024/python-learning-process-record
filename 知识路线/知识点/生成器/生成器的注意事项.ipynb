{
 "cells": [
  {
   "cell_type": "markdown",
   "metadata": {},
   "source": [
    "需要注意的是，`生成器并不是说提高了运行速度，它的唯一目的只是为了节省内存`，因为每次只会yield回（可以理解为return）当前的数，返回后就会丢弃，所以每次只会使用到yield的那个变量，很节约内存\n",
    "\n",
    "### 你可以会想，不对啊，之前的斐波那契用生成器不是秒出结果吗？这不是说明生成器提高了运行的速度吗？\n",
    "不对的，因为普通的斐波那契数列的生成也可以很快，也可以秒出，造成刻板印象的慢是因为斐波那契这个例子是在递归算法处出现的，下意识就会让人觉得它只能用递归算法来实现，其实普通的循环也完全可以实现:"
   ]
  },
  {
   "cell_type": "code",
   "execution_count": 4,
   "metadata": {},
   "outputs": [
    {
     "name": "stdout",
     "output_type": "stream",
     "text": [
      "计算第35个斐波那契数：\n",
      "循环版本结果: 9227465, 耗时: 0.000024秒\n",
      "递归版本结果: 9227465, 耗时: 0.647148秒\n",
      "递归版本比循环版本慢了约 26875 倍\n"
     ]
    }
   ],
   "source": [
    "def fib(n):\n",
    "    a, b = 0, 1\n",
    "    # 普通循环版本的斐波那契数列\n",
    "    for i in range(n):\n",
    "        a, b = b, a + b\n",
    "    return a\n",
    "\n",
    "\n",
    "def fib_recursive_version_slow(n):\n",
    "    \"\"\"递归版本的斐波那契数列 - 效率很低\"\"\"\n",
    "    if n <= 1:\n",
    "        return n\n",
    "    return fib_recursive_version_slow(n - 1) + fib_recursive_version_slow(n - 2)\n",
    "\n",
    "\n",
    "# 测试对比\n",
    "import time\n",
    "\n",
    "n = 35\n",
    "print(f\"计算第{n}个斐波那契数：\")\n",
    "\n",
    "# 测试循环版本\n",
    "start_time = time.time()\n",
    "result_loop = fib(n)\n",
    "loop_time = time.time() - start_time\n",
    "print(f\"循环版本结果: {result_loop}, 耗时: {loop_time:.6f}秒\")\n",
    "\n",
    "# 测试递归版本\n",
    "start_time = time.time()\n",
    "result_recursive = fib_recursive_version_slow(n)\n",
    "recursive_time = time.time() - start_time\n",
    "print(f\"递归版本结果: {result_recursive}, 耗时: {recursive_time:.6f}秒\")\n",
    "\n",
    "print(f\"递归版本比循环版本慢了约 {recursive_time/loop_time:.0f} 倍\")"
   ]
  },
  {
   "cell_type": "markdown",
   "metadata": {},
   "source": [
    "可以看到，普通的循环快得惊人，使用生成器也是一样快，因为它本质上需要外部使用循环去不断next这个生成器对象，速度是很快的，和普通循环一样。所以，不要下意识就以为生成器很快，其实它只是节约内存而已。"
   ]
  }
 ],
 "metadata": {
  "kernelspec": {
   "display_name": "Python (learning)",
   "language": "python",
   "name": "python-learning-process-record"
  },
  "language_info": {
   "codemirror_mode": {
    "name": "ipython",
    "version": 3
   },
   "file_extension": ".py",
   "mimetype": "text/x-python",
   "name": "python",
   "nbconvert_exporter": "python",
   "pygments_lexer": "ipython3",
   "version": "3.12.11"
  }
 },
 "nbformat": 4,
 "nbformat_minor": 2
}

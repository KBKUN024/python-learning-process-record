{
 "cells": [
  {
   "cell_type": "markdown",
   "metadata": {},
   "source": [
    "### 数组的运算\n",
    "\n",
    "使用 NumPy 最为方便的是当需要对数组元素进行运算时，不用编写循环代码遍历每个元素，所有的运算都会自动的**矢量化**。简单的说就是，NumPy 中的数学运算和数学函数会自动作用于数组中的每个成员。\n",
    "#### 数组跟标量的运算\n",
    "\n",
    "NumPy 的数组可以跟一个数值进行加、减、乘、除、求模、求幂等运算，对应的运算会作用到数组的每一个元素上，如下所示。"
   ]
  },
  {
   "cell_type": "code",
   "execution_count": 1,
   "metadata": {},
   "outputs": [
    {
     "name": "stdout",
     "output_type": "stream",
     "text": [
      "[11 12 13 14 15 16 17 18 19]\n",
      "[10 20 30 40 50 60 70 80 90]\n",
      "[False False False False False  True  True  True  True]\n",
      "[False  True False  True False  True False  True False]\n"
     ]
    }
   ],
   "source": [
    "import numpy as np\n",
    "\n",
    "array1 = np.arange(1, 10)\n",
    "print(array1 + 10)\n",
    "print(array1 * 10)\n",
    "\n",
    "# 关系运算\n",
    "print(array1 > 5)\n",
    "print(array1 % 2 == 0)"
   ]
  },
  {
   "cell_type": "markdown",
   "metadata": {},
   "source": [
    "#### 数组跟数组的运算\n",
    "\n",
    "NumPy 的数组跟数组也可以执行算术运算和关系运算，运算会作用于两个数组对应的元素上，这就要求两个数组的形状（`shape`属性）要相同，如下所示。"
   ]
  },
  {
   "cell_type": "code",
   "execution_count": 2,
   "metadata": {},
   "outputs": [
    {
     "name": "stdout",
     "output_type": "stream",
     "text": [
      "[ 2  3  4  6  7  8 10 11 12]\n",
      "[ 1  2  3  8 10 12 21 24 27]\n",
      "[  1   2   3  16  25  36 343 512 729]\n",
      "[False  True  True  True  True  True  True  True  True]\n",
      "[ True  True  True  True False  True False False  True]\n"
     ]
    }
   ],
   "source": [
    "array2 = np.array([1, 1, 1, 2, 2, 2, 3, 3, 3])\n",
    "print(array1 + array2)\n",
    "print(array1 * array2)\n",
    "print(array1**array2)\n",
    "\n",
    "# 关系运算\n",
    "print(array1 > array2)\n",
    "print(array1 % array2 == 0)"
   ]
  },
  {
   "cell_type": "markdown",
   "metadata": {},
   "source": [
    "#### 通用一元函数\n",
    "\n",
    "NumPy 中通用一元函数的参数是一个数组对象，函数会对数组进行元素级的处理，例如：`sqrt`函数会对数组中的每个元素计算平方根，而`log2`函数会对数组中的每个元素计算以2为底的对数，代码如下所示。"
   ]
  },
  {
   "cell_type": "code",
   "execution_count": 3,
   "metadata": {},
   "outputs": [
    {
     "name": "stdout",
     "output_type": "stream",
     "text": [
      "[1.         1.41421356 1.73205081 2.         2.23606798 2.44948974\n",
      " 2.64575131 2.82842712 3.        ]\n",
      "[0.         1.         1.5849625  2.         2.32192809 2.5849625\n",
      " 2.80735492 3.         3.169925  ]\n"
     ]
    }
   ],
   "source": [
    "print(np.sqrt(array1))\n",
    "print(np.log2(array1))"
   ]
  },
  {
   "cell_type": "markdown",
   "metadata": {},
   "source": [
    "**表1: 通用一元函数表**\n",
    "| 函数                             | 说明                                          |\n",
    "| -------------------------------- | --------------------------------------------- |\n",
    "| `abs` / `fabs`                   | 求绝对值的函数                                |\n",
    "| `sqrt`                           | 求平方根的函数，相当于`array ** 0.5 `         |\n",
    "| `square`                         | 求平方的函数，相当于`array ** 2`              |\n",
    "| `exp`                            | 计算 $\\small{e^x}$ 的函数                     |\n",
    "| `log` / `log10` / `log2`         | 对数函数（`e`为底 / `10`为底 / `2`为底）      |\n",
    "| `sign`                           | 符号函数（`1` - 正数；`0` - 零；`-1` - 负数） |\n",
    "| `ceil` / `floor`                 | 上取整 /  下取整                              |\n",
    "| `isnan`                          | 返回布尔数组，NaN对应`True`，非NaN对应`False` |\n",
    "| `isfinite` / `isinf`             | 判断数值是否为无穷大的函数                    |\n",
    "| `cos` / `cosh` / `sin`           | 三角函数                                      |\n",
    "| `sinh` / `tan` / `tanh`          | 三角函数                                      |\n",
    "| `arccos` / `arccosh` / `arcsin`  | 反三角函数                                    |\n",
    "| `arcsinh` / `arctan` / `arctanh` | 反三角函数                                    |\n",
    "| `rint` / `round`                 | 四舍五入函数                                  |"
   ]
  },
  {
   "cell_type": "markdown",
   "metadata": {},
   "source": [
    "#### 通用二元函数\n",
    "\n",
    "NumPy 中通用二元函数的参数是两个数组对象，函数会对两个数组中的对应元素进行运算，例如：`maximum`函数会对两个数组中对应的元素找最大值，而`power`函数会对两个数组中对应的元素进行求幂操作，代码如下所示。"
   ]
  },
  {
   "cell_type": "code",
   "execution_count": 4,
   "metadata": {},
   "outputs": [
    {
     "name": "stdout",
     "output_type": "stream",
     "text": [
      "[[4 5 6]\n",
      " [7 8 9]]\n",
      "==================================================\n",
      "[[  4  25 216]\n",
      " [343  64   9]]\n"
     ]
    }
   ],
   "source": [
    "array3 = np.array([[4, 5, 6], [7, 8, 9]])\n",
    "array4 = np.array([[1, 2, 3], [3, 2, 1]])\n",
    "print(np.maximum(array3, array4))\n",
    "print(\"=\" * 50)\n",
    "print(np.power(array3, array4))"
   ]
  },
  {
   "cell_type": "markdown",
   "metadata": {},
   "source": [
    "**表2：通用二元函数**\n",
    "| 函数                               | 说明                                                         |\n",
    "| ---------------------------------- | ------------------------------------------------------------ |\n",
    "| `add(x, y)` / `substract(x, y)`    | 加法函数 / 减法函数                                          |\n",
    "| `multiply(x, y)` / `divide(x, y)`  | 乘法函数 / 除法函数                                          |\n",
    "| `floor_divide(x, y)` / `mod(x, y)` | 整除函数 / 求模函数                                          |\n",
    "| `allclose(x, y)`                   | 检查数组`x`和`y`元素是否几乎相等                             |\n",
    "| `power(x, y)`                      | 数组`x`的元素 $\\small{x_{i}}$ 和数组`y`的元素 $\\small{y_{i}}$，计算 $\\small{x_{i}^{y_{i}}}$ |\n",
    "| `maximum(x, y)` / `fmax(x, y)`     | 两两比较元素获取最大值 / 获取最大值（忽略NaN）               |\n",
    "| `minimum(x, y)` / `fmin(x, y)`     | 两两比较元素获取最小值 / 获取最小值（忽略NaN）               |\n",
    "| `dot(x, y)`                        | 点积运算（数量积，通常记为 $\\small{\\cdot}$ ，用于欧几里得空间（Euclidean space）） |\n",
    "| `inner(x, y)`                      | 内积运算（内积的含义要高于点积，点积相当于是内积在欧几里得空间 $\\small{\\mathbb{R}^{n}}$ 的特例，而内积可以推广到赋范向量空间，只要它满足平行四边形法则即可） |\n",
    "| `cross(x, y) `                     | 叉积运算（向量积，通常记为 $\\small{\\times}$ ，运算结果是一个向量） |\n",
    "| `outer(x, y)`                      | 外积运算（张量积，通常记为 $\\small{\\bigotimes}$ ，运算结果通常是一个矩阵） |\n",
    "| `intersect1d(x, y)`                | 计算`x`和`y`的交集，返回这些元素构成的有序数组               |\n",
    "| `union1d(x, y)`                    | 计算`x`和`y`的并集，返回这些元素构成的有序数组               |\n",
    "| `in1d(x, y)`                       | 返回由判断`x` 的元素是否在`y`中得到的布尔值构成的数组        |\n",
    "| `setdiff1d(x, y)`                  | 计算`x`和`y`的差集，返回这些元素构成的数组                   |\n",
    "| `setxor1d(x, y)`                   | 计算`x`和`y`的对称差，返回这些元素构成的数组                 |"
   ]
  },
  {
   "cell_type": "markdown",
   "metadata": {},
   "source": [
    "#### 广播机制\n",
    "\n",
    "上面数组运算的例子中，两个数组的形状（`shape`属性）是完全相同的，我们再来研究一下，两个形状不同的数组是否可以直接做二元运算或使用通用二元函数进行运算，请看下面的例子。"
   ]
  },
  {
   "cell_type": "code",
   "execution_count": 5,
   "metadata": {},
   "outputs": [
    {
     "name": "stdout",
     "output_type": "stream",
     "text": [
      "[[1 2 3]\n",
      " [2 3 4]\n",
      " [3 4 5]\n",
      " [4 5 6]]\n"
     ]
    }
   ],
   "source": [
    "array5 = np.array([[0, 0, 0], [1, 1, 1], [2, 2, 2], [3, 3, 3]])\n",
    "array6 = np.array([1, 2, 3])\n",
    "print(array5 + array6)"
   ]
  },
  {
   "cell_type": "code",
   "execution_count": 6,
   "metadata": {},
   "outputs": [
    {
     "name": "stdout",
     "output_type": "stream",
     "text": [
      "[[1 1 1]\n",
      " [3 3 3]\n",
      " [5 5 5]\n",
      " [7 7 7]]\n"
     ]
    }
   ],
   "source": [
    "array7 = np.array([[1], [2], [3], [4]])\n",
    "print(array5 + array7)"
   ]
  },
  {
   "cell_type": "markdown",
   "metadata": {},
   "source": [
    "通过上面的例子，我们发现形状不同的数组仍然有机会进行二元运算，但这不代表任意形状的数组都可以进行二元运算。简单的说，只有两个数组后缘维度相同或者后缘维度不同但其中一个数组后缘维度为1时，广播机制才会被触发。通过广播机制，NumPy 将两个原本形状不相同的数组变成形状相同，才能进行二元运算。所谓后缘维度，指的是数组形状（`shape`属性）从后往前看对应的部分，我们举例说明。见: ***[python-100-days-Numpy的应用-3.md   --->   广播机制]()***"
   ]
  },
  {
   "cell_type": "markdown",
   "metadata": {},
   "source": [
    "**思考**：一个3行1列的二维数组和一个1行3列的二维数组能够执行加法运算吗？"
   ]
  },
  {
   "cell_type": "code",
   "execution_count": 7,
   "metadata": {},
   "outputs": [
    {
     "name": "stdout",
     "output_type": "stream",
     "text": [
      "[[7]\n",
      " [9]\n",
      " [6]]\n",
      "[[5 4 5]]\n",
      "[[12 11 12]\n",
      " [14 13 14]\n",
      " [11 10 11]]\n"
     ]
    }
   ],
   "source": [
    "arr1 = np.random.randint(1, 10, (3, 1))  # 3行1列\n",
    "arr2 = np.random.randint(1, 10, (1, 3))  # 1行3列\n",
    "print(arr1)\n",
    "print(arr2)\n",
    "print(arr1 + arr2)  # 能进行加法计算吗？"
   ]
  },
  {
   "cell_type": "markdown",
   "metadata": {},
   "source": [
    "### 关键点： 广播机制的核心是\"其中一个维度为1时可以广播\"，而不是\"后缘维度必须相同\"。只要对应位置的维度中有一个是1，就能触发广播。\n",
    "**记忆口诀： \"要么相等，要么有1，要么缺失\"**\n",
    "#### NumPy广播机制规则总结\n",
    "广播条件（从右往左逐个维度对比）：\n",
    "- 维度相等 - 可以广播\n",
    "- 其中一个维度为1 - 可以广播\n",
    "- 其中一个数组缺少该维度 - 可以广播\n",
    "\n",
    "检查步骤：\n",
    "- 从shape的最右边开始逐个维度对比\n",
    "- 如果某个维度不满足上述3个条件之一 → 无法广播\n",
    "- 所有维度都满足 → 可以广播\n",
    "\n",
    "示例：\n",
    "- (3,1) + (1,3) ✅  # 右边：1 vs 3(有1)，左边：3 vs 1(有1)  \n",
    "- (3,4) + (3,1) ✅  # 右边：4 vs 1(有1)，左边：3 vs 3(相等)\n",
    "- (3,4) + (2,4) ❌  # 右边：4 vs 4(相等)，左边：3 vs 2(不相等且都不为1)\n",
    "- (5,3,4) + (3,1) ✅  # 缺少维度视为可广播\n"
   ]
  },
  {
   "cell_type": "markdown",
   "metadata": {},
   "source": [
    "**表3：NumPy其他常用函数**\n",
    "\n",
    "| 函数                           | 说明                                             |\n",
    "| ------------------------------ | ------------------------------------------------ |\n",
    "| `unique`                       | 去除数组重复元素，返回唯一元素构成的有序数组     |\n",
    "| `copy`                         | 返回拷贝数组得到的数组                           |\n",
    "| `sort`                         | 返回数组元素排序后的拷贝                         |\n",
    "| `split` / `hsplit` / `vsplit`  | 将数组拆成若干个子数组                           |\n",
    "| `stack` / `hstack` / `vstack`  | 将多个数组堆叠成新数组                           |\n",
    "| `concatenate`                  | 沿着指定的轴连接多个数组构成新数组               |\n",
    "| `append` / `insert`            | 向数组末尾追加元素 / 在数组指定位置插入元素      |\n",
    "| `argwhere`                     | 找出数组中非0元素的位置                          |\n",
    "| `extract` / `select` / `where` | 按照指定的条件从数组中抽取或处理数组元素         |\n",
    "| `flip`                         | 沿指定的轴翻转数组中的元素                       |\n",
    "| `fromregex`                    | 通过读取文件和正则表达式解析获取数据创建数组对象 |\n",
    "| `repeat` / `tile`              | 通过对元素的重复来创建新数组                     |\n",
    "| `roll`                         | 沿指定轴对数组元素进行移位                       |\n",
    "| `resize`                       | 重新调整数组的大小                               |\n",
    "| `place` / `put`                | 将数组中满足条件的元素/指定的元素替换为指定的值,`原地操作，即改变原数组的值`  |\n",
    "| `partition`                    | 用选定的元素对数组进行一次划分并返回划分后的数组 |"
   ]
  },
  {
   "cell_type": "markdown",
   "metadata": {},
   "source": [
    "**堆叠和拼接**"
   ]
  },
  {
   "cell_type": "markdown",
   "metadata": {},
   "source": [
    "**NumPy数组堆叠函数的区别**\n",
    "\n",
    "**`stack` vs `hstack` vs `vstack` 的核心区别：**\n",
    "\n",
    "1. **`np.stack()`** - 创建新维度进行堆叠\n",
    "   - 沿着新的轴（axis）将数组堆叠\n",
    "   - 会增加一个维度\n",
    "   - 所有输入数组必须具有相同的shape\n",
    "\n",
    "2. **`np.hstack()`** - 水平堆叠（Horizontal Stack）\n",
    "   - 沿着水平方向（列方向）拼接数组\n",
    "   - 等价于 `np.concatenate(axis=1)`\n",
    "   - 不增加维度，只是在现有维度上扩展\n",
    "\n",
    "3. **`np.vstack()`** - 垂直堆叠（Vertical Stack）\n",
    "   - 沿着垂直方向（行方向）拼接数组\n",
    "   - 等价于 `np.concatenate(axis=0)`\n",
    "   - 不增加维度，只是在现有维度上扩展\n",
    "\n",
    "**形状变化示例：**\n",
    "\n",
    "假设有两个数组：\n",
    "```python\n",
    "a = np.array([[1, 2, 3], [4, 5, 6]])  # shape: (2, 3)\n",
    "b = np.array([[7, 8, 9], [10, 11, 12]])  # shape: (2, 3)\n",
    "```\n",
    "\n",
    "**各种堆叠方式的形状变化：**\n",
    "\n",
    "- `np.stack([a, b], axis=0)` → shape: (2, 2, 3) - 沿axis=0创建新维度，第一维变成2\n",
    "- `np.stack([a, b], axis=1)` → shape: (2, 2, 3) - 沿axis=1创建新维度，在行间插入新维度\n",
    "- `np.stack([a, b], axis=2)` → shape: (2, 3, 2) - 沿axis=2创建新维度，在列后创建新维度 a[i][j]对应b[i][j]\n",
    "- `np.vstack([a, b])` → shape: (4, 3) - 垂直拼接，行数从2变成4\n",
    "- `np.hstack([a, b])` → shape: (2, 6) - 水平拼接，列数从3变成6\n",
    "\n",
    "**记忆技巧：**\n",
    "- `stack` = 增加维度（像叠盘子一样，增加了高度这个新维度）\n",
    "- `vstack` = 垂直拼接（行数增加，像上下叠放）\n",
    "- `hstack` = 水平拼接（列数增加，像左右并排）\n",
    "\n",
    "### concatenate 拼接，只有axis=0（沿行），和axis=1（沿列），没有axis=2！！！\n",
    "`np.concatenate((array8, array9), axis=0) (默认axis=0):`\n",
    "```\n",
    "[[ 1  2  3]\n",
    " [ 4  5  6]\n",
    " [ 7  8  9]\n",
    " [10 11 12]\n",
    " [13 14 15]\n",
    " [16 17 18]]\n",
    "```\n",
    "沿第0轴（行）拼接，`等价于 vstack`，形状从 (3,3) 变成 (6,3)\n",
    "\n",
    "`np.concatenate((array8, array9), axis=1):`\n",
    "```\n",
    "[[ 1  2  3 10 11 12]\n",
    " [ 4  5  6 13 14 15]\n",
    " [ 7  8  9 16 17 18]]\n",
    "```\n",
    "沿第1轴（列）拼接，`等价于 hstack`，形状从 (3,3) 变成 (3,6)\n",
    "\n",
    "关键区别: concatenate 不创建新维度，而 stack 会创建新维度。\n"
   ]
  },
  {
   "cell_type": "code",
   "execution_count": 15,
   "metadata": {},
   "outputs": [
    {
     "name": "stdout",
     "output_type": "stream",
     "text": [
      "stack axis=0: \n",
      " [[[ 1  2  3]\n",
      "  [ 4  5  6]\n",
      "  [ 7  8  9]]\n",
      "\n",
      " [[10 11 12]\n",
      "  [13 14 15]\n",
      "  [16 17 18]]]\n",
      "stack axis=1: \n",
      " [[[ 1  2  3]\n",
      "  [10 11 12]]\n",
      "\n",
      " [[ 4  5  6]\n",
      "  [13 14 15]]\n",
      "\n",
      " [[ 7  8  9]\n",
      "  [16 17 18]]]\n",
      "stack axis=2: \n",
      " [[[ 1 10]\n",
      "  [ 2 11]\n",
      "  [ 3 12]]\n",
      "\n",
      " [[ 4 13]\n",
      "  [ 5 14]\n",
      "  [ 6 15]]\n",
      "\n",
      " [[ 7 16]\n",
      "  [ 8 17]\n",
      "  [ 9 18]]]\n",
      "hstack\n",
      " [[ 1  2  3 10 11 12]\n",
      " [ 4  5  6 13 14 15]\n",
      " [ 7  8  9 16 17 18]]\n",
      "vstack\n",
      " [[ 1  2  3]\n",
      " [ 4  5  6]\n",
      " [ 7  8  9]\n",
      " [10 11 12]\n",
      " [13 14 15]\n",
      " [16 17 18]]\n",
      "concatenate axis=0\n",
      "[[ 1  2  3]\n",
      " [ 4  5  6]\n",
      " [ 7  8  9]\n",
      " [10 11 12]\n",
      " [13 14 15]\n",
      " [16 17 18]]\n",
      "concatenate axis=1\n",
      "[[ 1  2  3 10 11 12]\n",
      " [ 4  5  6 13 14 15]\n",
      " [ 7  8  9 16 17 18]]\n",
      "[[ 1  2  3]\n",
      " [ 4  5 11]\n",
      " [12 13 11]]\n"
     ]
    }
   ],
   "source": [
    "array8 = np.array([[1, 2, 3], [4, 5, 6], [7, 8, 9]])\n",
    "array9 = np.array([[10, 11, 12], [13, 14, 15], [16, 17, 18]])\n",
    "print(\"stack axis=0: \\n\", np.stack((array8, array9), axis=0))\n",
    "print(\"stack axis=1: \\n\", np.stack((array8, array9), axis=1))\n",
    "print(\"stack axis=2: \\n\", np.stack((array8, array9), axis=2))\n",
    "print(\"hstack\\n\", np.hstack((array8, array9)))\n",
    "print(\"vstack\\n\", np.vstack((array8, array9)))\n",
    "print(\"concatenate axis=0\")\n",
    "print(np.concatenate((array8, array9)))\n",
    "print(\"concatenate axis=1\")\n",
    "print(np.concatenate((array8, array9), axis=1))"
   ]
  }
 ],
 "metadata": {
  "kernelspec": {
   "display_name": "python练习",
   "language": "python",
   "name": "python3"
  },
  "language_info": {
   "codemirror_mode": {
    "name": "ipython",
    "version": 3
   },
   "file_extension": ".py",
   "mimetype": "text/x-python",
   "name": "python",
   "nbconvert_exporter": "python",
   "pygments_lexer": "ipython3",
   "version": "3.12.9"
  }
 },
 "nbformat": 4,
 "nbformat_minor": 2
}

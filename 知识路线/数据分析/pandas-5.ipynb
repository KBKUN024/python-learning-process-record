{
 "cells": [
  {
   "cell_type": "code",
   "execution_count": 1,
   "metadata": {},
   "outputs": [],
   "source": [
    "import numpy as np\n",
    "import matplotlib.pyplot as plt\n",
    "import pandas as pd"
   ]
  },
  {
   "cell_type": "markdown",
   "metadata": {},
   "source": [
    "### 计算同比环比\n",
    "\n",
    "我们之前讲过一个统计月度销售额的例子，我们可以通过`groupby`方法做分组聚合，也可以通过`pivot_table`生成透视表，如下所示。"
   ]
  },
  {
   "cell_type": "code",
   "execution_count": 2,
   "metadata": {},
   "outputs": [
    {
     "name": "stdout",
     "output_type": "stream",
     "text": [
      "      本月销售额\n",
      "月份         \n",
      "1   5409855\n",
      "2   4608455\n",
      "3   4164972\n",
      "4   3996770\n",
      "5   3239005\n",
      "6   2817936\n",
      "7   3501304\n",
      "8   2948189\n",
      "9   2632960\n",
      "10  2375385\n",
      "11  2385283\n",
      "12  1691973\n"
     ]
    }
   ],
   "source": [
    "sales_df = pd.read_excel(\"./2020年销售数据.xlsx\")\n",
    "sales_df[\"月份\"] = sales_df[\"销售日期\"].dt.month\n",
    "sales_df[\"销售额\"] = sales_df[\"售价\"] * sales_df[\"销售数量\"]\n",
    "result_df = sales_df.pivot_table(index=\"月份\", values=\"销售额\", aggfunc=\"sum\")\n",
    "result_df.rename(columns={\"销售额\": \"本月销售额\"}, inplace=True)\n",
    "print(result_df)"
   ]
  },
  {
   "cell_type": "markdown",
   "metadata": {},
   "source": [
    "在得到月度销售额之后，如果我们需要计算月环比，这里有两种方案。第一种方案是我们可以使用`shift`方法对数据进行移动，将上一个月的数据与本月数据对齐，然后通过`(本月销售额 - 上月销售额) / 上月销售额`来计算月环比，代码如下所示。"
   ]
  },
  {
   "cell_type": "code",
   "execution_count": 3,
   "metadata": {},
   "outputs": [
    {
     "name": "stdout",
     "output_type": "stream",
     "text": [
      "      本月销售额      上月销售额\n",
      "月份                    \n",
      "1   5409855        NaN\n",
      "2   4608455  5409855.0\n",
      "3   4164972  4608455.0\n",
      "4   3996770  4164972.0\n",
      "5   3239005  3996770.0\n",
      "6   2817936  3239005.0\n",
      "7   3501304  2817936.0\n",
      "8   2948189  3501304.0\n",
      "9   2632960  2948189.0\n",
      "10  2375385  2632960.0\n",
      "11  2385283  2375385.0\n",
      "12  1691973  2385283.0\n"
     ]
    }
   ],
   "source": [
    "result_df[\"上月销售额\"] = result_df[\"本月销售额\"].shift(\n",
    "    1\n",
    ")  # 你可能会发现下面的销售额，变成了浮点数，这是为什么呢？\n",
    "print(result_df)"
   ]
  },
  {
   "cell_type": "markdown",
   "metadata": {},
   "source": [
    "如果想将结果转为整型"
   ]
  },
  {
   "cell_type": "code",
   "execution_count": 4,
   "metadata": {},
   "outputs": [
    {
     "name": "stdout",
     "output_type": "stream",
     "text": [
      "      本月销售额      上月销售额\n",
      "月份                    \n",
      "1   5409855        NaN\n",
      "2   4608455  5409855.0\n",
      "3   4164972  4608455.0\n",
      "4   3996770  4164972.0\n",
      "5   3239005  3996770.0\n",
      "6   2817936  3239005.0\n",
      "7   3501304  2817936.0\n",
      "8   2948189  3501304.0\n",
      "9   2632960  2948189.0\n",
      "10  2375385  2632960.0\n",
      "11  2385283  2375385.0\n",
      "12  1691973  2385283.0\n"
     ]
    }
   ],
   "source": [
    "result_df[\"上月销售额\"] = (\n",
    "    result_df[\"本月销售额\"].astype(\"i8\").shift(1)\n",
    ")  # 你可能会发现下面的销售额，变成了浮点数，这是为什么呢？\n",
    "print(result_df)"
   ]
  },
  {
   "cell_type": "markdown",
   "metadata": {},
   "source": [
    "### 销售额变成浮点数的原因\n",
    "`shift()` 方法会在移位时引入 `NaN` 值（第一行没有前一个值），而` NumPy/pandas` 中整数类型无法表示 `NaN`，所以 `pandas` 自动将数据类型转换为 `float64` 来容纳 `NaN` 值。       \n",
    "即使你先用 `astype('i8')` 转换为整数，`shift(1)` 操作后仍会因为需要表示缺失值而转回浮点数。\n",
    "### 解决方案\n",
    "先用shift然后再fillna(0)最后astype('i8')就可以了。"
   ]
  },
  {
   "cell_type": "code",
   "execution_count": 5,
   "metadata": {},
   "outputs": [
    {
     "name": "stdout",
     "output_type": "stream",
     "text": [
      "      本月销售额    上月销售额\n",
      "月份                  \n",
      "1   5409855        0\n",
      "2   4608455  5409855\n",
      "3   4164972  4608455\n",
      "4   3996770  4164972\n",
      "5   3239005  3996770\n",
      "6   2817936  3239005\n",
      "7   3501304  2817936\n",
      "8   2948189  3501304\n",
      "9   2632960  2948189\n",
      "10  2375385  2632960\n",
      "11  2385283  2375385\n",
      "12  1691973  2385283\n"
     ]
    }
   ],
   "source": [
    "result_df[\"上月销售额\"] = result_df[\"本月销售额\"].shift(1).fillna(0).astype(\"i8\")\n",
    "print(result_df)"
   ]
  },
  {
   "cell_type": "markdown",
   "metadata": {},
   "source": [
    "### 🤔你可能会想，既然是转整型，能不能用int()来包裹？\n",
    "其实是不行的，因为int只能处理标量，不能处理整列的DataFrame数据；而astype是pandas的方法，能进行向量化操作，一次性处理一整列数据，即使这个列很长。\n",
    "\n",
    "如果硬要用int，可以像下面这样：\n",
    "`result_df[\"上月销售额\"] = result_df[\"本月销售额\"].shift(1).fillna(0).apply(int)`\n",
    "\n",
    "`但是astype性能是底层的向量化操作，性能大大优于int`"
   ]
  },
  {
   "cell_type": "markdown",
   "metadata": {},
   "source": [
    "### 关于shift\n",
    "在上面的例子中，`shift`方法的参数为`1`表示将数据向下移动一个单元，当然我们可以使用参数`-1`将数据向上移动一个单元。相信大家能够想到，如果我们有更多年份的数据，我们可以将参数设置为`12`，这样就可以计算今年的每个月与去年的每个月之间的同比。"
   ]
  },
  {
   "cell_type": "code",
   "execution_count": 6,
   "metadata": {},
   "outputs": [
    {
     "data": {
      "text/html": [
       "<style type=\"text/css\">\n",
       "</style>\n",
       "<table id=\"T_c5fa7\">\n",
       "  <thead>\n",
       "    <tr>\n",
       "      <th class=\"blank level0\" >&nbsp;</th>\n",
       "      <th id=\"T_c5fa7_level0_col0\" class=\"col_heading level0 col0\" >本月销售额</th>\n",
       "      <th id=\"T_c5fa7_level0_col1\" class=\"col_heading level0 col1\" >上月销售额</th>\n",
       "      <th id=\"T_c5fa7_level0_col2\" class=\"col_heading level0 col2\" >环比</th>\n",
       "    </tr>\n",
       "    <tr>\n",
       "      <th class=\"index_name level0\" >月份</th>\n",
       "      <th class=\"blank col0\" >&nbsp;</th>\n",
       "      <th class=\"blank col1\" >&nbsp;</th>\n",
       "      <th class=\"blank col2\" >&nbsp;</th>\n",
       "    </tr>\n",
       "  </thead>\n",
       "  <tbody>\n",
       "    <tr>\n",
       "      <th id=\"T_c5fa7_level0_row0\" class=\"row_heading level0 row0\" >1</th>\n",
       "      <td id=\"T_c5fa7_row0_col0\" class=\"data row0 col0\" >5409855</td>\n",
       "      <td id=\"T_c5fa7_row0_col1\" class=\"data row0 col1\" >0</td>\n",
       "      <td id=\"T_c5fa7_row0_col2\" class=\"data row0 col2\" >inf%</td>\n",
       "    </tr>\n",
       "    <tr>\n",
       "      <th id=\"T_c5fa7_level0_row1\" class=\"row_heading level0 row1\" >2</th>\n",
       "      <td id=\"T_c5fa7_row1_col0\" class=\"data row1 col0\" >4608455</td>\n",
       "      <td id=\"T_c5fa7_row1_col1\" class=\"data row1 col1\" >5409855</td>\n",
       "      <td id=\"T_c5fa7_row1_col2\" class=\"data row1 col2\" >-14.81%</td>\n",
       "    </tr>\n",
       "    <tr>\n",
       "      <th id=\"T_c5fa7_level0_row2\" class=\"row_heading level0 row2\" >3</th>\n",
       "      <td id=\"T_c5fa7_row2_col0\" class=\"data row2 col0\" >4164972</td>\n",
       "      <td id=\"T_c5fa7_row2_col1\" class=\"data row2 col1\" >4608455</td>\n",
       "      <td id=\"T_c5fa7_row2_col2\" class=\"data row2 col2\" >-9.62%</td>\n",
       "    </tr>\n",
       "    <tr>\n",
       "      <th id=\"T_c5fa7_level0_row3\" class=\"row_heading level0 row3\" >4</th>\n",
       "      <td id=\"T_c5fa7_row3_col0\" class=\"data row3 col0\" >3996770</td>\n",
       "      <td id=\"T_c5fa7_row3_col1\" class=\"data row3 col1\" >4164972</td>\n",
       "      <td id=\"T_c5fa7_row3_col2\" class=\"data row3 col2\" >-4.04%</td>\n",
       "    </tr>\n",
       "    <tr>\n",
       "      <th id=\"T_c5fa7_level0_row4\" class=\"row_heading level0 row4\" >5</th>\n",
       "      <td id=\"T_c5fa7_row4_col0\" class=\"data row4 col0\" >3239005</td>\n",
       "      <td id=\"T_c5fa7_row4_col1\" class=\"data row4 col1\" >3996770</td>\n",
       "      <td id=\"T_c5fa7_row4_col2\" class=\"data row4 col2\" >-18.96%</td>\n",
       "    </tr>\n",
       "    <tr>\n",
       "      <th id=\"T_c5fa7_level0_row5\" class=\"row_heading level0 row5\" >6</th>\n",
       "      <td id=\"T_c5fa7_row5_col0\" class=\"data row5 col0\" >2817936</td>\n",
       "      <td id=\"T_c5fa7_row5_col1\" class=\"data row5 col1\" >3239005</td>\n",
       "      <td id=\"T_c5fa7_row5_col2\" class=\"data row5 col2\" >-13.00%</td>\n",
       "    </tr>\n",
       "    <tr>\n",
       "      <th id=\"T_c5fa7_level0_row6\" class=\"row_heading level0 row6\" >7</th>\n",
       "      <td id=\"T_c5fa7_row6_col0\" class=\"data row6 col0\" >3501304</td>\n",
       "      <td id=\"T_c5fa7_row6_col1\" class=\"data row6 col1\" >2817936</td>\n",
       "      <td id=\"T_c5fa7_row6_col2\" class=\"data row6 col2\" >24.25%</td>\n",
       "    </tr>\n",
       "    <tr>\n",
       "      <th id=\"T_c5fa7_level0_row7\" class=\"row_heading level0 row7\" >8</th>\n",
       "      <td id=\"T_c5fa7_row7_col0\" class=\"data row7 col0\" >2948189</td>\n",
       "      <td id=\"T_c5fa7_row7_col1\" class=\"data row7 col1\" >3501304</td>\n",
       "      <td id=\"T_c5fa7_row7_col2\" class=\"data row7 col2\" >-15.80%</td>\n",
       "    </tr>\n",
       "    <tr>\n",
       "      <th id=\"T_c5fa7_level0_row8\" class=\"row_heading level0 row8\" >9</th>\n",
       "      <td id=\"T_c5fa7_row8_col0\" class=\"data row8 col0\" >2632960</td>\n",
       "      <td id=\"T_c5fa7_row8_col1\" class=\"data row8 col1\" >2948189</td>\n",
       "      <td id=\"T_c5fa7_row8_col2\" class=\"data row8 col2\" >-10.69%</td>\n",
       "    </tr>\n",
       "    <tr>\n",
       "      <th id=\"T_c5fa7_level0_row9\" class=\"row_heading level0 row9\" >10</th>\n",
       "      <td id=\"T_c5fa7_row9_col0\" class=\"data row9 col0\" >2375385</td>\n",
       "      <td id=\"T_c5fa7_row9_col1\" class=\"data row9 col1\" >2632960</td>\n",
       "      <td id=\"T_c5fa7_row9_col2\" class=\"data row9 col2\" >-9.78%</td>\n",
       "    </tr>\n",
       "    <tr>\n",
       "      <th id=\"T_c5fa7_level0_row10\" class=\"row_heading level0 row10\" >11</th>\n",
       "      <td id=\"T_c5fa7_row10_col0\" class=\"data row10 col0\" >2385283</td>\n",
       "      <td id=\"T_c5fa7_row10_col1\" class=\"data row10 col1\" >2375385</td>\n",
       "      <td id=\"T_c5fa7_row10_col2\" class=\"data row10 col2\" >0.42%</td>\n",
       "    </tr>\n",
       "    <tr>\n",
       "      <th id=\"T_c5fa7_level0_row11\" class=\"row_heading level0 row11\" >12</th>\n",
       "      <td id=\"T_c5fa7_row11_col0\" class=\"data row11 col0\" >1691973</td>\n",
       "      <td id=\"T_c5fa7_row11_col1\" class=\"data row11 col1\" >2385283</td>\n",
       "      <td id=\"T_c5fa7_row11_col2\" class=\"data row11 col2\" >-29.07%</td>\n",
       "    </tr>\n",
       "  </tbody>\n",
       "</table>\n"
      ],
      "text/plain": [
       "<pandas.io.formats.style.Styler at 0x16aee0ef0>"
      ]
     },
     "execution_count": 6,
     "metadata": {},
     "output_type": "execute_result"
    }
   ],
   "source": [
    "result_df[\"环比\"] = (result_df[\"本月销售额\"] - result_df[\"上月销售额\"]) / result_df[\n",
    "    \"上月销售额\"\n",
    "]\n",
    "result_df.style.format(\n",
    "    formatter={\"上月销售额\": \"{:.0f}\", \"环比\": \"{:.2%}\"}, na_rep=\"------\"\n",
    ")"
   ]
  },
  {
   "cell_type": "markdown",
   "metadata": {},
   "source": [
    "### 什么叫环比？\n",
    "\n",
    "环比是指与相邻时期相比较的增长率，通常指当期与上一期的比较。\n",
    "\n",
    "**在你的代码中：**\n",
    "- 计算的是本月销售额相对于上月销售额的增长率\n",
    "- 公式：(本月销售额 - 上月销售额) / 上月销售额\n",
    "- 结果用百分比表示（如 10% 表示比上月增长了 10%）\n",
    "\n",
    "**常见时间对比概念：**\n",
    "- 环比：与上一期比较（月环比、季环比等）\n",
    "- 同比：与去年同期比较（如今年 1 月 vs 去年 1 月）\n"
   ]
  },
  {
   "cell_type": "markdown",
   "metadata": {},
   "source": [
    "更为简单的第二种方案是直接使用`pct_change`方法计算变化的百分比，我们先将之前的上月销售额和环比列删除掉。"
   ]
  },
  {
   "cell_type": "code",
   "execution_count": 7,
   "metadata": {},
   "outputs": [],
   "source": [
    "result_df.drop(columns=[\"上月销售额\", \"环比\"], inplace=True)"
   ]
  },
  {
   "cell_type": "markdown",
   "metadata": {},
   "source": [
    "接下来，我们使用`DataFrame`对象的`pct_change`方法完成环比的计算。值得一提的是，`pct_change`方法有一个名为`periods`的参数，它的默认值是`1`，计算相邻两项数据变化的百分比，这不就是我们想要的环比吗？如果我们有很多年的数据，在计算时把这个参数的值修改为`12`，就可以得到相邻两年的月同比。"
   ]
  },
  {
   "cell_type": "code",
   "execution_count": 8,
   "metadata": {},
   "outputs": [
    {
     "data": {
      "text/html": [
       "<style type=\"text/css\">\n",
       "</style>\n",
       "<table id=\"T_04095\">\n",
       "  <thead>\n",
       "    <tr>\n",
       "      <th class=\"blank level0\" >&nbsp;</th>\n",
       "      <th id=\"T_04095_level0_col0\" class=\"col_heading level0 col0\" >本月销售额</th>\n",
       "      <th id=\"T_04095_level0_col1\" class=\"col_heading level0 col1\" >环比</th>\n",
       "    </tr>\n",
       "    <tr>\n",
       "      <th class=\"index_name level0\" >月份</th>\n",
       "      <th class=\"blank col0\" >&nbsp;</th>\n",
       "      <th class=\"blank col1\" >&nbsp;</th>\n",
       "    </tr>\n",
       "  </thead>\n",
       "  <tbody>\n",
       "    <tr>\n",
       "      <th id=\"T_04095_level0_row0\" class=\"row_heading level0 row0\" >1</th>\n",
       "      <td id=\"T_04095_row0_col0\" class=\"data row0 col0\" >5409855</td>\n",
       "      <td id=\"T_04095_row0_col1\" class=\"data row0 col1\" >------</td>\n",
       "    </tr>\n",
       "    <tr>\n",
       "      <th id=\"T_04095_level0_row1\" class=\"row_heading level0 row1\" >2</th>\n",
       "      <td id=\"T_04095_row1_col0\" class=\"data row1 col0\" >4608455</td>\n",
       "      <td id=\"T_04095_row1_col1\" class=\"data row1 col1\" >-14.81%</td>\n",
       "    </tr>\n",
       "    <tr>\n",
       "      <th id=\"T_04095_level0_row2\" class=\"row_heading level0 row2\" >3</th>\n",
       "      <td id=\"T_04095_row2_col0\" class=\"data row2 col0\" >4164972</td>\n",
       "      <td id=\"T_04095_row2_col1\" class=\"data row2 col1\" >-9.62%</td>\n",
       "    </tr>\n",
       "    <tr>\n",
       "      <th id=\"T_04095_level0_row3\" class=\"row_heading level0 row3\" >4</th>\n",
       "      <td id=\"T_04095_row3_col0\" class=\"data row3 col0\" >3996770</td>\n",
       "      <td id=\"T_04095_row3_col1\" class=\"data row3 col1\" >-4.04%</td>\n",
       "    </tr>\n",
       "    <tr>\n",
       "      <th id=\"T_04095_level0_row4\" class=\"row_heading level0 row4\" >5</th>\n",
       "      <td id=\"T_04095_row4_col0\" class=\"data row4 col0\" >3239005</td>\n",
       "      <td id=\"T_04095_row4_col1\" class=\"data row4 col1\" >-18.96%</td>\n",
       "    </tr>\n",
       "    <tr>\n",
       "      <th id=\"T_04095_level0_row5\" class=\"row_heading level0 row5\" >6</th>\n",
       "      <td id=\"T_04095_row5_col0\" class=\"data row5 col0\" >2817936</td>\n",
       "      <td id=\"T_04095_row5_col1\" class=\"data row5 col1\" >-13.00%</td>\n",
       "    </tr>\n",
       "    <tr>\n",
       "      <th id=\"T_04095_level0_row6\" class=\"row_heading level0 row6\" >7</th>\n",
       "      <td id=\"T_04095_row6_col0\" class=\"data row6 col0\" >3501304</td>\n",
       "      <td id=\"T_04095_row6_col1\" class=\"data row6 col1\" >24.25%</td>\n",
       "    </tr>\n",
       "    <tr>\n",
       "      <th id=\"T_04095_level0_row7\" class=\"row_heading level0 row7\" >8</th>\n",
       "      <td id=\"T_04095_row7_col0\" class=\"data row7 col0\" >2948189</td>\n",
       "      <td id=\"T_04095_row7_col1\" class=\"data row7 col1\" >-15.80%</td>\n",
       "    </tr>\n",
       "    <tr>\n",
       "      <th id=\"T_04095_level0_row8\" class=\"row_heading level0 row8\" >9</th>\n",
       "      <td id=\"T_04095_row8_col0\" class=\"data row8 col0\" >2632960</td>\n",
       "      <td id=\"T_04095_row8_col1\" class=\"data row8 col1\" >-10.69%</td>\n",
       "    </tr>\n",
       "    <tr>\n",
       "      <th id=\"T_04095_level0_row9\" class=\"row_heading level0 row9\" >10</th>\n",
       "      <td id=\"T_04095_row9_col0\" class=\"data row9 col0\" >2375385</td>\n",
       "      <td id=\"T_04095_row9_col1\" class=\"data row9 col1\" >-9.78%</td>\n",
       "    </tr>\n",
       "    <tr>\n",
       "      <th id=\"T_04095_level0_row10\" class=\"row_heading level0 row10\" >11</th>\n",
       "      <td id=\"T_04095_row10_col0\" class=\"data row10 col0\" >2385283</td>\n",
       "      <td id=\"T_04095_row10_col1\" class=\"data row10 col1\" >0.42%</td>\n",
       "    </tr>\n",
       "    <tr>\n",
       "      <th id=\"T_04095_level0_row11\" class=\"row_heading level0 row11\" >12</th>\n",
       "      <td id=\"T_04095_row11_col0\" class=\"data row11 col0\" >1691973</td>\n",
       "      <td id=\"T_04095_row11_col1\" class=\"data row11 col1\" >-29.07%</td>\n",
       "    </tr>\n",
       "  </tbody>\n",
       "</table>\n"
      ],
      "text/plain": [
       "<pandas.io.formats.style.Styler at 0x1280f9130>"
      ]
     },
     "execution_count": 8,
     "metadata": {},
     "output_type": "execute_result"
    }
   ],
   "source": [
    "result_df[\"环比\"] = result_df[\"本月销售额\"].pct_change()\n",
    "result_df.style.format(\n",
    "    {\"环比\": \"{:.2%}\"}, na_rep=\"------\"\n",
    ")  # 会自动输出，不需要print这一行\n",
    "# print(result_df) # 显示的是原始的result_df,会覆盖掉上面的格式化输出。"
   ]
  },
  {
   "cell_type": "markdown",
   "metadata": {},
   "source": [
    "### 你会发现上面的 pct_change 函数得到的是小数形式的数据，你是不是想直接把它转化为百分数形式？\n",
    "\n",
    "不建议将数据转换为字符串格式（带百分号），这会破坏数据的数值特性，影响后续计算。\n",
    "**推荐方案：保持数据为数值类型，仅在显示时格式化为百分比：**\n",
    "\n",
    "```python\n",
    "# 显示时格式化为百分比\n",
    "result_df.style.format({\"环比\": \"{:.2%}\"})\n",
    "```\n"
   ]
  },
  {
   "cell_type": "markdown",
   "metadata": {},
   "source": [
    "### 窗口计算\n",
    "\n",
    "`DataFrame`对象的`rolling`方法允许我们将数据置于窗口中，然后用函数对窗口中的数据进行运算和处理。例如，我们获取了某只股票近期的数据，想制作5日均线和10日均线，那么就需要先设置窗口再进行运算。我们先用如下所示的代码读取2022年百度的股票数据，数据文件可以通过下面的链接来获取。"
   ]
  },
  {
   "cell_type": "code",
   "execution_count": 9,
   "metadata": {},
   "outputs": [
    {
     "data": {
      "text/html": [
       "<div>\n",
       "<style scoped>\n",
       "    .dataframe tbody tr th:only-of-type {\n",
       "        vertical-align: middle;\n",
       "    }\n",
       "\n",
       "    .dataframe tbody tr th {\n",
       "        vertical-align: top;\n",
       "    }\n",
       "\n",
       "    .dataframe thead th {\n",
       "        text-align: right;\n",
       "    }\n",
       "</style>\n",
       "<table border=\"1\" class=\"dataframe\">\n",
       "  <thead>\n",
       "    <tr style=\"text-align: right;\">\n",
       "      <th></th>\n",
       "      <th>Date</th>\n",
       "      <th>Open</th>\n",
       "      <th>High</th>\n",
       "      <th>Low</th>\n",
       "      <th>Close</th>\n",
       "      <th>Volume</th>\n",
       "    </tr>\n",
       "  </thead>\n",
       "  <tbody>\n",
       "    <tr>\n",
       "      <th>0</th>\n",
       "      <td>2022-12-30</td>\n",
       "      <td>113.490</td>\n",
       "      <td>116.5000</td>\n",
       "      <td>113.15</td>\n",
       "      <td>114.38</td>\n",
       "      <td>1727642</td>\n",
       "    </tr>\n",
       "    <tr>\n",
       "      <th>1</th>\n",
       "      <td>2022-12-29</td>\n",
       "      <td>112.810</td>\n",
       "      <td>116.0600</td>\n",
       "      <td>111.30</td>\n",
       "      <td>115.10</td>\n",
       "      <td>1454617</td>\n",
       "    </tr>\n",
       "    <tr>\n",
       "      <th>2</th>\n",
       "      <td>2022-12-28</td>\n",
       "      <td>114.090</td>\n",
       "      <td>115.5300</td>\n",
       "      <td>109.88</td>\n",
       "      <td>111.60</td>\n",
       "      <td>1983757</td>\n",
       "    </tr>\n",
       "    <tr>\n",
       "      <th>3</th>\n",
       "      <td>2022-12-27</td>\n",
       "      <td>113.100</td>\n",
       "      <td>117.5000</td>\n",
       "      <td>112.48</td>\n",
       "      <td>116.48</td>\n",
       "      <td>2668445</td>\n",
       "    </tr>\n",
       "    <tr>\n",
       "      <th>4</th>\n",
       "      <td>2022-12-23</td>\n",
       "      <td>113.880</td>\n",
       "      <td>114.2500</td>\n",
       "      <td>111.52</td>\n",
       "      <td>111.61</td>\n",
       "      <td>1221825</td>\n",
       "    </tr>\n",
       "    <tr>\n",
       "      <th>...</th>\n",
       "      <td>...</td>\n",
       "      <td>...</td>\n",
       "      <td>...</td>\n",
       "      <td>...</td>\n",
       "      <td>...</td>\n",
       "      <td>...</td>\n",
       "    </tr>\n",
       "    <tr>\n",
       "      <th>246</th>\n",
       "      <td>2022-01-07</td>\n",
       "      <td>152.980</td>\n",
       "      <td>157.0000</td>\n",
       "      <td>152.28</td>\n",
       "      <td>153.33</td>\n",
       "      <td>2751971</td>\n",
       "    </tr>\n",
       "    <tr>\n",
       "      <th>247</th>\n",
       "      <td>2022-01-06</td>\n",
       "      <td>146.195</td>\n",
       "      <td>153.0000</td>\n",
       "      <td>144.41</td>\n",
       "      <td>150.75</td>\n",
       "      <td>3839019</td>\n",
       "    </tr>\n",
       "    <tr>\n",
       "      <th>248</th>\n",
       "      <td>2022-01-05</td>\n",
       "      <td>143.820</td>\n",
       "      <td>150.2600</td>\n",
       "      <td>142.95</td>\n",
       "      <td>143.88</td>\n",
       "      <td>3505931</td>\n",
       "    </tr>\n",
       "    <tr>\n",
       "      <th>249</th>\n",
       "      <td>2022-01-04</td>\n",
       "      <td>148.140</td>\n",
       "      <td>148.4289</td>\n",
       "      <td>143.56</td>\n",
       "      <td>146.53</td>\n",
       "      <td>2876800</td>\n",
       "    </tr>\n",
       "    <tr>\n",
       "      <th>250</th>\n",
       "      <td>2022-01-03</td>\n",
       "      <td>148.910</td>\n",
       "      <td>149.9606</td>\n",
       "      <td>144.95</td>\n",
       "      <td>149.10</td>\n",
       "      <td>2330166</td>\n",
       "    </tr>\n",
       "  </tbody>\n",
       "</table>\n",
       "<p>251 rows × 6 columns</p>\n",
       "</div>"
      ],
      "text/plain": [
       "          Date     Open      High     Low   Close   Volume\n",
       "0   2022-12-30  113.490  116.5000  113.15  114.38  1727642\n",
       "1   2022-12-29  112.810  116.0600  111.30  115.10  1454617\n",
       "2   2022-12-28  114.090  115.5300  109.88  111.60  1983757\n",
       "3   2022-12-27  113.100  117.5000  112.48  116.48  2668445\n",
       "4   2022-12-23  113.880  114.2500  111.52  111.61  1221825\n",
       "..         ...      ...       ...     ...     ...      ...\n",
       "246 2022-01-07  152.980  157.0000  152.28  153.33  2751971\n",
       "247 2022-01-06  146.195  153.0000  144.41  150.75  3839019\n",
       "248 2022-01-05  143.820  150.2600  142.95  143.88  3505931\n",
       "249 2022-01-04  148.140  148.4289  143.56  146.53  2876800\n",
       "250 2022-01-03  148.910  149.9606  144.95  149.10  2330166\n",
       "\n",
       "[251 rows x 6 columns]"
      ]
     },
     "execution_count": 9,
     "metadata": {},
     "output_type": "execute_result"
    }
   ],
   "source": [
    "baidu_df = pd.read_excel(\"./2022年股票数据.xlsx\", sheet_name=\"BIDU\")\n",
    "baidu_df.sort_index(inplace=True)\n",
    "baidu_df"
   ]
  },
  {
   "cell_type": "code",
   "execution_count": 10,
   "metadata": {},
   "outputs": [
    {
     "data": {
      "text/html": [
       "<div>\n",
       "<style scoped>\n",
       "    .dataframe tbody tr th:only-of-type {\n",
       "        vertical-align: middle;\n",
       "    }\n",
       "\n",
       "    .dataframe tbody tr th {\n",
       "        vertical-align: top;\n",
       "    }\n",
       "\n",
       "    .dataframe thead th {\n",
       "        text-align: right;\n",
       "    }\n",
       "</style>\n",
       "<table border=\"1\" class=\"dataframe\">\n",
       "  <thead>\n",
       "    <tr style=\"text-align: right;\">\n",
       "      <th></th>\n",
       "      <th>Open</th>\n",
       "      <th>High</th>\n",
       "      <th>Low</th>\n",
       "      <th>Close</th>\n",
       "      <th>Volume</th>\n",
       "    </tr>\n",
       "  </thead>\n",
       "  <tbody>\n",
       "    <tr>\n",
       "      <th>0</th>\n",
       "      <td>NaN</td>\n",
       "      <td>NaN</td>\n",
       "      <td>NaN</td>\n",
       "      <td>NaN</td>\n",
       "      <td>NaN</td>\n",
       "    </tr>\n",
       "    <tr>\n",
       "      <th>1</th>\n",
       "      <td>NaN</td>\n",
       "      <td>NaN</td>\n",
       "      <td>NaN</td>\n",
       "      <td>NaN</td>\n",
       "      <td>NaN</td>\n",
       "    </tr>\n",
       "    <tr>\n",
       "      <th>2</th>\n",
       "      <td>NaN</td>\n",
       "      <td>NaN</td>\n",
       "      <td>NaN</td>\n",
       "      <td>NaN</td>\n",
       "      <td>NaN</td>\n",
       "    </tr>\n",
       "    <tr>\n",
       "      <th>3</th>\n",
       "      <td>NaN</td>\n",
       "      <td>NaN</td>\n",
       "      <td>NaN</td>\n",
       "      <td>NaN</td>\n",
       "      <td>NaN</td>\n",
       "    </tr>\n",
       "    <tr>\n",
       "      <th>4</th>\n",
       "      <td>113.474</td>\n",
       "      <td>115.96800</td>\n",
       "      <td>111.666</td>\n",
       "      <td>113.834</td>\n",
       "      <td>1811257.2</td>\n",
       "    </tr>\n",
       "    <tr>\n",
       "      <th>...</th>\n",
       "      <td>...</td>\n",
       "      <td>...</td>\n",
       "      <td>...</td>\n",
       "      <td>...</td>\n",
       "      <td>...</td>\n",
       "    </tr>\n",
       "    <tr>\n",
       "      <th>246</th>\n",
       "      <td>154.666</td>\n",
       "      <td>157.94798</td>\n",
       "      <td>152.474</td>\n",
       "      <td>154.852</td>\n",
       "      <td>2828534.8</td>\n",
       "    </tr>\n",
       "    <tr>\n",
       "      <th>247</th>\n",
       "      <td>152.781</td>\n",
       "      <td>157.01998</td>\n",
       "      <td>150.894</td>\n",
       "      <td>154.500</td>\n",
       "      <td>2942023.2</td>\n",
       "    </tr>\n",
       "    <tr>\n",
       "      <th>248</th>\n",
       "      <td>149.591</td>\n",
       "      <td>154.67398</td>\n",
       "      <td>148.004</td>\n",
       "      <td>151.404</td>\n",
       "      <td>3073393.4</td>\n",
       "    </tr>\n",
       "    <tr>\n",
       "      <th>249</th>\n",
       "      <td>149.217</td>\n",
       "      <td>152.89376</td>\n",
       "      <td>146.714</td>\n",
       "      <td>149.370</td>\n",
       "      <td>3074891.0</td>\n",
       "    </tr>\n",
       "    <tr>\n",
       "      <th>250</th>\n",
       "      <td>148.009</td>\n",
       "      <td>151.72990</td>\n",
       "      <td>145.630</td>\n",
       "      <td>148.718</td>\n",
       "      <td>3060777.4</td>\n",
       "    </tr>\n",
       "  </tbody>\n",
       "</table>\n",
       "<p>251 rows × 5 columns</p>\n",
       "</div>"
      ],
      "text/plain": [
       "        Open       High      Low    Close     Volume\n",
       "0        NaN        NaN      NaN      NaN        NaN\n",
       "1        NaN        NaN      NaN      NaN        NaN\n",
       "2        NaN        NaN      NaN      NaN        NaN\n",
       "3        NaN        NaN      NaN      NaN        NaN\n",
       "4    113.474  115.96800  111.666  113.834  1811257.2\n",
       "..       ...        ...      ...      ...        ...\n",
       "246  154.666  157.94798  152.474  154.852  2828534.8\n",
       "247  152.781  157.01998  150.894  154.500  2942023.2\n",
       "248  149.591  154.67398  148.004  151.404  3073393.4\n",
       "249  149.217  152.89376  146.714  149.370  3074891.0\n",
       "250  148.009  151.72990  145.630  148.718  3060777.4\n",
       "\n",
       "[251 rows x 5 columns]"
      ]
     },
     "execution_count": 10,
     "metadata": {},
     "output_type": "execute_result"
    }
   ],
   "source": [
    "baidu_df.rolling(5).mean(numeric_only=True)"
   ]
  },
  {
   "cell_type": "markdown",
   "metadata": {},
   "source": [
    "### rolling(5)中的5是什么意思？\n",
    "**rolling(5) 中的 5 的含义**\n",
    "- 5 表示窗口大小，即每次计算时使用的数据点数量。\n",
    "- rolling(5).mean() = 计算每5个连续数据点的平均值\n",
    "- 对于股票数据，就是5日移动平均线\n",
    "\n",
    "窗口会\"滚动\"：第1-5行算一个平均值，第2-6行算下一个平均值，以此类推\n",
    "\n",
    "例如：\n",
    "- 第5行的结果 = 第1-5行的平均值\n",
    "- 第6行的结果 = 第2-6行的平均值\n",
    "- 第7行的结果 = 第3-7行的平均值\n",
    "- 前4行会是 NaN，因为数据不足5个点。"
   ]
  },
  {
   "cell_type": "markdown",
   "metadata": {},
   "source": [
    "我们也可以在`Series`上使用`rolling`设置窗口并在窗口内完成运算，例如我们可以对上面的百度股票收盘价（`Close`列）计算5日均线和10日均线，并使用`merge`函数将其组装到一个`DataFrame`对象中并绘制出双均线图，代码如下所示。"
   ]
  },
  {
   "cell_type": "code",
   "execution_count": 11,
   "metadata": {},
   "outputs": [
    {
     "data": {
      "image/png": "[encoded data removed]",
      "text/plain": [
       "<Figure size 1000x600 with 1 Axes>"
      ]
     },
     "metadata": {},
     "output_type": "display_data"
    }
   ],
   "source": [
    "close_ma5 = baidu_df.Close.rolling(5).mean()\n",
    "close_ma10 = baidu_df.Close.rolling(10).mean()\n",
    "result_df = pd.merge(close_ma5, close_ma10, left_index=True, right_index=True)\n",
    "result_df.rename(columns={\"Close_x\": \"MA5\", \"Close_y\": \"MA10\"}, inplace=True)\n",
    "result_df.plot(kind=\"line\", figsize=(10, 6))\n",
    "plt.show()"
   ]
  }
 ],
 "metadata": {
  "kernelspec": {
   "display_name": "python-learning-process-record",
   "language": "python",
   "name": "python3"
  },
  "language_info": {
   "codemirror_mode": {
    "name": "ipython",
    "version": 3
   },
   "file_extension": ".py",
   "mimetype": "text/x-python",
   "name": "python",
   "nbconvert_exporter": "python",
   "pygments_lexer": "ipython3",
   "version": "3.12.11"
  }
 },
 "nbformat": 4,
 "nbformat_minor": 2
}

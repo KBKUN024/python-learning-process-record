{
 "cells": [
  {
   "cell_type": "code",
   "execution_count": 1,
   "metadata": {},
   "outputs": [
    {
     "name": "stdout",
     "output_type": "stream",
     "text": [
      "一季度    120\n",
      "二季度    380\n",
      "三季度    250\n",
      "四季度    360\n",
      "dtype: int64\n"
     ]
    }
   ],
   "source": [
    "import numpy as np\n",
    "import pandas as pd\n",
    "\n",
    "ser1 = pd.Series(\n",
    "    data=[120, 380, 250, 360], index=[\"一季度\", \"二季度\", \"三季度\", \"四季度\"]\n",
    ")\n",
    "print(ser1)"
   ]
  },
  {
   "cell_type": "code",
   "execution_count": 4,
   "metadata": {},
   "outputs": [
    {
     "name": "stdout",
     "output_type": "stream",
     "text": [
      "一季度    320\n",
      "二季度    180\n",
      "三季度    300\n",
      "四季度    405\n",
      "dtype: int64\n"
     ]
    }
   ],
   "source": [
    "ser2 = pd.Series({\"一季度\": 320, \"二季度\": 180, \"三季度\": 300, \"四季度\": 405})\n",
    "print(ser2)"
   ]
  },
  {
   "cell_type": "code",
   "execution_count": 3,
   "metadata": {},
   "outputs": [
    {
     "name": "stdout",
     "output_type": "stream",
     "text": [
      "一季度    130\n",
      "二季度    390\n",
      "三季度    260\n",
      "四季度    370\n",
      "dtype: int64\n"
     ]
    }
   ],
   "source": [
    "ser1 += 10\n",
    "print(ser1)"
   ]
  },
  {
   "cell_type": "code",
   "execution_count": 5,
   "metadata": {},
   "outputs": [
    {
     "name": "stdout",
     "output_type": "stream",
     "text": [
      "一季度    440\n",
      "二季度    560\n",
      "三季度    550\n",
      "四季度    765\n",
      "dtype: int64\n"
     ]
    }
   ],
   "source": [
    "print(ser1 + ser2)"
   ]
  },
  {
   "cell_type": "code",
   "execution_count": 7,
   "metadata": {},
   "outputs": [
    {
     "name": "stdout",
     "output_type": "stream",
     "text": [
      "250\n",
      "250\n",
      "========================================\n",
      "位置索引方式:\n",
      "ser1.iloc[0] = 120 (一季度)\n",
      "ser1.iloc[2] = 250 (三季度)\n",
      "\n",
      "标签索引方式:\n",
      "ser1[\"一季度\"] = 120\n",
      "ser1[\"三季度\"] = 250\n",
      "\n",
      "ser1.loc[\"三季度\"] = 250 (明确使用标签索引)\n"
     ]
    }
   ],
   "source": [
    "# 推荐的方式：使用 .iloc 进行位置索引\n",
    "print(ser1.iloc[2])  # 按位置访问第3个元素（三季度）\n",
    "print(ser1[\"三季度\"])  # 按标签访问\n",
    "\n",
    "# 对比不同的访问方式\n",
    "print(\"=\" * 40)\n",
    "print(\"位置索引方式:\")\n",
    "print(f\"ser1.iloc[0] = {ser1.iloc[0]} (一季度)\")\n",
    "print(f\"ser1.iloc[2] = {ser1.iloc[2]} (三季度)\")\n",
    "\n",
    "print(\"\\n标签索引方式:\")\n",
    "print(f'ser1[\"一季度\"] = {ser1[\"一季度\"]}')\n",
    "print(f'ser1[\"三季度\"] = {ser1[\"三季度\"]}')\n",
    "\n",
    "print(f'\\nser1.loc[\"三季度\"] = {ser1.loc[\"三季度\"]} (明确使用标签索引)')"
   ]
  },
  {
   "cell_type": "code",
   "execution_count": 9,
   "metadata": {},
   "outputs": [
    {
     "name": "stdout",
     "output_type": "stream",
     "text": [
      "二季度    180\n",
      "三季度    300\n",
      "dtype: int64\n",
      "二季度    180\n",
      "三季度    300\n",
      "四季度    405\n",
      "dtype: int64\n"
     ]
    }
   ],
   "source": [
    "print(ser2[1:3])\n",
    "print(ser2[\"二季度\":\"四季度\"])"
   ]
  },
  {
   "cell_type": "markdown",
   "metadata": {},
   "source": [
    "**提示**：在使用自定义索引进行切片时，结束索引对应的元素也是可以取到的。"
   ]
  },
  {
   "cell_type": "code",
   "execution_count": 10,
   "metadata": {},
   "outputs": [
    {
     "name": "stdout",
     "output_type": "stream",
     "text": [
      "一季度    320\n",
      "二季度    400\n",
      "三季度    500\n",
      "四季度    405\n",
      "dtype: int64\n"
     ]
    }
   ],
   "source": [
    "ser2[1:3] = 400, 500\n",
    "print(ser2)"
   ]
  },
  {
   "cell_type": "code",
   "execution_count": 13,
   "metadata": {},
   "outputs": [
    {
     "name": "stdout",
     "output_type": "stream",
     "text": [
      "二季度    400\n",
      "四季度    405\n",
      "dtype: int64\n"
     ]
    }
   ],
   "source": [
    "print(ser2[[\"二季度\", \"四季度\"]])"
   ]
  },
  {
   "cell_type": "markdown",
   "metadata": {},
   "source": [
    "这段代码是使用多个标签来选取 pandas Series 中的元素。\n",
    "\n",
    "ser2[[\"二季度\", \"四季度\"]] 会返回一个新的 Series，包含索引为 \"二季度\" 和 \"四季度\" 的两个元素及其对应的值。\n",
    "\n",
    "关键点：\n",
    "- 使用双重方括号 [[]] 表示传入一个标签列表\n",
    "- 与单个标签访问 ser2[\"二季度\"] 不同，这会返回一个 Series 而不是单个值\n",
    "- 结果保持原有的索引-值对应关系"
   ]
  },
  {
   "cell_type": "code",
   "execution_count": 15,
   "metadata": {},
   "outputs": [
    {
     "name": "stdout",
     "output_type": "stream",
     "text": [
      "一季度    False\n",
      "二季度    False\n",
      "三季度     True\n",
      "四季度    False\n",
      "dtype: bool\n",
      "三季度    500\n",
      "dtype: int64\n"
     ]
    }
   ],
   "source": [
    "print(ser2 >= 500)\n",
    "print(ser2[ser2 >= 500])"
   ]
  },
  {
   "cell_type": "code",
   "execution_count": 21,
   "metadata": {},
   "outputs": [
    {
     "name": "stdout",
     "output_type": "stream",
     "text": [
      "int64\n",
      "False\n",
      "Index(['一季度', '二季度', '三季度', '四季度'], dtype='object')\n",
      "[320 400 500 405]\n",
      "False\n",
      "False\n",
      "True\n"
     ]
    }
   ],
   "source": [
    "print(ser2.dtype)\n",
    "print(ser2.hasnans)\n",
    "print(ser2.index)\n",
    "print(ser2.values)\n",
    "print(ser2.is_monotonic_increasing)\n",
    "print(ser2.is_monotonic_decreasing)\n",
    "print(ser2.is_unique)"
   ]
  },
  {
   "cell_type": "code",
   "execution_count": 22,
   "metadata": {},
   "outputs": [
    {
     "name": "stdout",
     "output_type": "stream",
     "text": [
      "4\n",
      "1625\n",
      "406.25\n",
      "402.5\n",
      "500\n",
      "320\n",
      "73.64045536705125\n",
      "5422.916666666667\n"
     ]
    }
   ],
   "source": [
    "print(ser2.count())  # 计数\n",
    "print(ser2.sum())  # 求和\n",
    "print(ser2.mean())  # 求平均\n",
    "print(ser2.median())  # 找中位数\n",
    "print(ser2.max())  # 找最大\n",
    "print(ser2.min())  # 找最小\n",
    "print(ser2.std())  # 求标准差\n",
    "print(ser2.var())  # 求方差"
   ]
  },
  {
   "cell_type": "code",
   "execution_count": 23,
   "metadata": {},
   "outputs": [
    {
     "name": "stdout",
     "output_type": "stream",
     "text": [
      "count      4.000000\n",
      "mean     406.250000\n",
      "std       73.640455\n",
      "min      320.000000\n",
      "25%      380.000000\n",
      "50%      402.500000\n",
      "75%      428.750000\n",
      "max      500.000000\n",
      "dtype: float64\n"
     ]
    }
   ],
   "source": [
    "print(ser2.describe())"
   ]
  },
  {
   "cell_type": "code",
   "execution_count": 25,
   "metadata": {},
   "outputs": [
    {
     "name": "stdout",
     "output_type": "stream",
     "text": [
      "apple     3\n",
      "pitaya    2\n",
      "banana    1\n",
      "durian    1\n",
      "Name: count, dtype: int64\n"
     ]
    }
   ],
   "source": [
    "ser3 = pd.Series(\n",
    "    data=[\"apple\", \"banana\", \"apple\", \"pitaya\", \"apple\", \"pitaya\", \"durian\"]\n",
    ")\n",
    "print(ser3.value_counts())"
   ]
  },
  {
   "cell_type": "code",
   "execution_count": 26,
   "metadata": {},
   "outputs": [
    {
     "name": "stdout",
     "output_type": "stream",
     "text": [
      "4\n"
     ]
    }
   ],
   "source": [
    "print(ser3.nunique())"
   ]
  },
  {
   "cell_type": "code",
   "execution_count": 27,
   "metadata": {},
   "outputs": [
    {
     "name": "stdout",
     "output_type": "stream",
     "text": [
      "0    apple\n",
      "dtype: object\n"
     ]
    }
   ],
   "source": [
    "print(ser3.mode())"
   ]
  },
  {
   "cell_type": "code",
   "execution_count": 30,
   "metadata": {},
   "outputs": [
    {
     "name": "stdout",
     "output_type": "stream",
     "text": [
      "单个众数的情况:\n",
      "原数据: ['apple', 'banana', 'apple', 'orange', 'apple']\n",
      "众数: 0    apple\n",
      "dtype: object\n",
      "众数类型: <class 'pandas.core.series.Series'>\n",
      "\n",
      "多个众数的情况:\n",
      "原数据: ['apple', 'banana', 'apple', 'banana', 'orange']\n",
      "众数: 0     apple\n",
      "1    banana\n",
      "dtype: object\n",
      "\n",
      "没有明显众数的情况:\n",
      "原数据: ['apple', 'banana', 'orange', 'grape']\n",
      "众数: \n",
      "0     apple\n",
      "1    banana\n",
      "2     grape\n",
      "3    orange\n",
      "dtype: object\n"
     ]
    }
   ],
   "source": [
    "# 演示 mode() 方法的不同情况\n",
    "\n",
    "# 情况1：单个众数\n",
    "ser3_single_mode = pd.Series([\"apple\", \"banana\", \"apple\", \"orange\", \"apple\"])\n",
    "print(\"单个众数的情况:\")\n",
    "print(f\"原数据: {ser3_single_mode.tolist()}\")\n",
    "print(f\"众数: {ser3_single_mode.mode()}\")\n",
    "print(f\"众数类型: {type(ser3_single_mode.mode())}\")\n",
    "print()\n",
    "\n",
    "# 情况2：多个众数\n",
    "ser3_multi_mode = pd.Series([\"apple\", \"banana\", \"apple\", \"banana\", \"orange\"])\n",
    "print(\"多个众数的情况:\")\n",
    "print(f\"原数据: {ser3_multi_mode.tolist()}\")\n",
    "print(f\"众数: {ser3_multi_mode.mode()}\")\n",
    "print()\n",
    "\n",
    "# 情况3：所有值都不重复（没有明显众数）\n",
    "ser3_no_mode = pd.Series([\"apple\", \"banana\", \"orange\", \"grape\"])\n",
    "print(\"没有明显众数的情况:\")\n",
    "print(f\"原数据: {ser3_no_mode.tolist()}\")\n",
    "print(f\"众数: \\n{ser3_no_mode.mode()}\")"
   ]
  },
  {
   "cell_type": "code",
   "execution_count": 31,
   "metadata": {},
   "outputs": [
    {
     "name": "stdout",
     "output_type": "stream",
     "text": [
      "获取众数值的不同方法:\n",
      "========================================\n",
      "第一个众数值: apple\n",
      "所有众数值列表: ['apple']\n",
      "众数值（直接索引）: apple\n",
      "\n",
      "原始 mode() 输出详解:\n",
      "========================================\n",
      "完整输出: \n",
      "0    apple\n",
      "dtype: object\n",
      "输出类型: <class 'pandas.core.series.Series'>\n",
      "输出长度: 1\n",
      "索引: [0]\n",
      "值: ['apple']\n"
     ]
    }
   ],
   "source": [
    "# 如何获取众数的实际值\n",
    "\n",
    "print(\"获取众数值的不同方法:\")\n",
    "print(\"=\" * 40)\n",
    "\n",
    "# 方法1：获取第一个众数值\n",
    "mode_series = ser3.mode()\n",
    "first_mode = mode_series.iloc[0] if len(mode_series) > 0 else None\n",
    "print(f\"第一个众数值: {first_mode}\")\n",
    "\n",
    "# 方法2：转换为列表\n",
    "mode_list = ser3.mode().tolist()\n",
    "print(f\"所有众数值列表: {mode_list}\")\n",
    "\n",
    "# 方法3：直接索引访问\n",
    "if len(ser3.mode()) > 0:\n",
    "    mode_value = ser3.mode()[0]\n",
    "    print(f\"众数值（直接索引）: {mode_value}\")\n",
    "\n",
    "print()\n",
    "print(\"原始 mode() 输出详解:\")\n",
    "print(\"=\" * 40)\n",
    "mode_result = ser3.mode()\n",
    "print(f\"完整输出: \\n{mode_result}\")\n",
    "print(f\"输出类型: {type(mode_result)}\")\n",
    "print(f\"输出长度: {len(mode_result)}\")\n",
    "print(f\"索引: {mode_result.index.tolist()}\")\n",
    "print(f\"值: {mode_result.values.tolist()}\")"
   ]
  },
  {
   "cell_type": "code",
   "execution_count": 2,
   "metadata": {},
   "outputs": [
    {
     "name": "stdout",
     "output_type": "stream",
     "text": [
      "0    10.0\n",
      "1    20.0\n",
      "2     NaN\n",
      "3    30.0\n",
      "4     NaN\n",
      "dtype: float64\n",
      "==================================================\n",
      "0    False\n",
      "1    False\n",
      "2     True\n",
      "3    False\n",
      "4     True\n",
      "dtype: bool\n"
     ]
    }
   ],
   "source": [
    "ser4 = pd.Series(data=[10, 20, np.nan, 30, np.nan])\n",
    "print(ser4)\n",
    "print(\"=\" * 50)\n",
    "print(ser4.isna())"
   ]
  },
  {
   "cell_type": "code",
   "execution_count": 6,
   "metadata": {},
   "outputs": [
    {
     "name": "stdout",
     "output_type": "stream",
     "text": [
      "0    10.0\n",
      "1    20.0\n",
      "3    30.0\n",
      "dtype: float64\n",
      "0    10.0\n",
      "1    20.0\n",
      "2     NaN\n",
      "3    30.0\n",
      "4     NaN\n",
      "dtype: float64\n"
     ]
    }
   ],
   "source": [
    "print(ser4.dropna())"
   ]
  },
  {
   "cell_type": "code",
   "execution_count": 8,
   "metadata": {},
   "outputs": [
    {
     "name": "stdout",
     "output_type": "stream",
     "text": [
      "0    10.0\n",
      "1    20.0\n",
      "2     NaN\n",
      "3    30.0\n",
      "4     NaN\n",
      "dtype: float64\n",
      "0    10.0\n",
      "1    20.0\n",
      "2    55.0\n",
      "3    30.0\n",
      "4    55.0\n",
      "dtype: float64\n",
      "0    10.0\n",
      "1    20.0\n",
      "2    55.0\n",
      "3    30.0\n",
      "4    55.0\n",
      "dtype: float64\n"
     ]
    }
   ],
   "source": [
    "ser4.fillna(value=55)  # 不会修改原始数据\n",
    "print(ser4)\n",
    "print(ser4.fillna(55))  # 也可以\n",
    "print(ser4.fillna(value=55))  # 也可以"
   ]
  },
  {
   "cell_type": "code",
   "execution_count": 9,
   "metadata": {},
   "outputs": [
    {
     "name": "stdout",
     "output_type": "stream",
     "text": [
      "0    10.0\n",
      "1    20.0\n",
      "2    20.0\n",
      "3    30.0\n",
      "4    30.0\n",
      "dtype: float64\n"
     ]
    },
    {
     "name": "stderr",
     "output_type": "stream",
     "text": [
      "/var/folders/hd/pwqcx5pn30g7jq6160hcf9fr0000gp/T/ipykernel_89914/3178426297.py:1: FutureWarning: Series.fillna with 'method' is deprecated and will raise in a future version. Use obj.ffill() or obj.bfill() instead.\n",
      "  print(ser4.fillna(method=\"ffill\"))  # 用空值前面的非空值填充\n"
     ]
    }
   ],
   "source": [
    "print(ser4.fillna(method=\"ffill\"))  # 用空值前面的非空值填充"
   ]
  },
  {
   "cell_type": "markdown",
   "metadata": {},
   "source": [
    "#### 这行代码出现了警告：/var/folders/hd/pwqcx5pn30g7jq6160hcf9fr0000gp/T/ipykernel_89914/3178426297.py:1: FutureWarning: Series.fillna with 'method' is deprecated and will raise in a future version. Use obj.ffill() or obj.bfill() instead.\n",
    "这个警告是因为 fillna(method=\"ffill\") 在新版本的 pandas 中被弃用了。\n",
    "\n",
    "解决方案： 将 fillna(method=\"ffill\") 替换为 ffill()\n",
    "\n",
    "原因： pandas 简化了 API，将前向填充和后向填充独立为专门的方法：\n",
    "- fillna(method=\"ffill\") → `ffill()`\n",
    "- fillna(method=\"bfill\") → `bfill()`\n",
    "\n",
    "这样更直观且性能更好。"
   ]
  },
  {
   "cell_type": "code",
   "execution_count": 10,
   "metadata": {},
   "outputs": [
    {
     "name": "stdout",
     "output_type": "stream",
     "text": [
      "0    10.0\n",
      "1    20.0\n",
      "2    20.0\n",
      "3    30.0\n",
      "4    30.0\n",
      "dtype: float64\n",
      "==================================================\n",
      "0    10.0\n",
      "1    20.0\n",
      "2    30.0\n",
      "3    30.0\n",
      "4     NaN\n",
      "dtype: float64\n"
     ]
    }
   ],
   "source": [
    "print(ser4.ffill())\n",
    "print(\"=\" * 50)\n",
    "print(ser4.bfill())"
   ]
  },
  {
   "cell_type": "code",
   "execution_count": 17,
   "metadata": {},
   "outputs": [
    {
     "name": "stdout",
     "output_type": "stream",
     "text": [
      "0    NaN\n",
      "1    1.0\n",
      "2    2.0\n",
      "3    3.0\n",
      "4    4.0\n",
      "dtype: float64\n",
      "==================================================\n",
      "0    24\n",
      "1     1\n",
      "2     2\n",
      "3     3\n",
      "4     4\n",
      "dtype: int64\n"
     ]
    }
   ],
   "source": [
    "ser5 = pd.Series(range(5))\n",
    "print(ser5.where(ser5 > 0))\n",
    "print(\"=\" * 50)\n",
    "ser5.where(\n",
    "    ser5 > 0, 24, inplace=True\n",
    ")  # 很多方法都可以用inplace代表原地操作，inplace这个词的意思就是：原地，True时表示原地操作，即会修改原始数据\n",
    "print(ser5)"
   ]
  },
  {
   "cell_type": "markdown",
   "metadata": {},
   "source": [
    "### 这个where方法究竟是在干什么？\n",
    "where 方法的作用是条件筛选和替换：\n",
    "- 保留条件为True的值：ser5 > 0 为 True 的位置保留原值\n",
    "- 替换条件为False的值：ser5 > 0 为 False 的位置替换为 NaN（默认）或指定值\n",
    "\n",
    "在你的代码中：\n",
    "- ser5 = [0, 1, 2, 3, 4]\n",
    "- ser5 > 0 → [False, True, True, True, True]\n",
    "- 结果：[NaN, 1, 2, 3, 4]（索引0的值0被替换为NaN）\n",
    "\n",
    "语法：Series.where(condition, other=NaN, inplace=False)\n",
    "- condition：布尔条件\n",
    "- other：替换值（默认NaN）\n",
    "- inplace=True：直接修改原数据\n",
    "\n",
    "这相当于：\"如果条件成立就保留，否则就替换\""
   ]
  },
  {
   "cell_type": "code",
   "execution_count": 23,
   "metadata": {},
   "outputs": [
    {
     "name": "stdout",
     "output_type": "stream",
     "text": [
      "0    11\n",
      "1     1\n",
      "2    11\n",
      "3    11\n",
      "4    11\n",
      "dtype: int64\n"
     ]
    }
   ],
   "source": [
    "print(ser5.mask(ser5 > 1, 11))"
   ]
  },
  {
   "cell_type": "markdown",
   "metadata": {},
   "source": [
    "### mask 和 where 的逻辑是相反的：\n",
    "- where：条件为 True 时保留原值，条件为 False 时替换\n",
    "- mask：条件为 True 时替换，条件为 False 时保留原值\n",
    "\n",
    "记忆技巧：\n",
    "- where = \"哪里符合条件就保留哪里\"\n",
    "- mask = \"遮罩掉符合条件的地方\""
   ]
  },
  {
   "cell_type": "code",
   "execution_count": 27,
   "metadata": {},
   "outputs": [
    {
     "name": "stdout",
     "output_type": "stream",
     "text": [
      "0     apple\n",
      "1    banana\n",
      "2     apple\n",
      "3    pitaya\n",
      "4     apple\n",
      "5    pitaya\n",
      "6    durian\n",
      "dtype: object\n",
      "0    False\n",
      "1    False\n",
      "2     True\n",
      "3    False\n",
      "4     True\n",
      "5     True\n",
      "6    False\n",
      "dtype: bool\n"
     ]
    }
   ],
   "source": [
    "print(ser3)\n",
    "print(ser3.duplicated())"
   ]
  },
  {
   "cell_type": "code",
   "execution_count": 28,
   "metadata": {},
   "outputs": [
    {
     "name": "stdout",
     "output_type": "stream",
     "text": [
      "0     apple\n",
      "1    banana\n",
      "3    pitaya\n",
      "6    durian\n",
      "dtype: object\n"
     ]
    }
   ],
   "source": [
    "print(ser3.drop_duplicates())"
   ]
  },
  {
   "cell_type": "code",
   "execution_count": 29,
   "metadata": {},
   "outputs": [
    {
     "name": "stdout",
     "output_type": "stream",
     "text": [
      "0       cat\n",
      "1       dog\n",
      "2       NaN\n",
      "3    rabbit\n",
      "dtype: object\n"
     ]
    }
   ],
   "source": [
    "ser6 = pd.Series([\"cat\", \"dog\", np.nan, \"rabbit\"])\n",
    "print(ser6)"
   ]
  },
  {
   "cell_type": "code",
   "execution_count": 35,
   "metadata": {},
   "outputs": [
    {
     "name": "stdout",
     "output_type": "stream",
     "text": [
      "0    kitten\n",
      "1     puppy\n",
      "2       NaN\n",
      "3       NaN\n",
      "dtype: object\n",
      "\n",
      "0       I am a cat\n",
      "1       I am a dog\n",
      "2       I am a nan\n",
      "3    I am a rabbit\n",
      "dtype: object\n",
      "\n",
      "0       I am a cat\n",
      "1       I am a dog\n",
      "2              NaN\n",
      "3    I am a rabbit\n",
      "dtype: object\n"
     ]
    }
   ],
   "source": [
    "print(ser6.map({\"cat\": \"kitten\", \"dog\": \"puppy\"}))\n",
    "print()\n",
    "print(ser6.map(\"I am a {}\".format))\n",
    "print()\n",
    "print(ser6.map(\"I am a {}\".format, na_action=\"ignore\"))"
   ]
  },
  {
   "cell_type": "markdown",
   "metadata": {},
   "source": [
    "map() 方法的映射逻辑\n",
    "`ser6.map()` 使用字典进行映射时，只会替换字典中存在的键对应的值：\n",
    "- \"cat\" → \"kitten\" ✅ (字典中有此键)\n",
    "- \"dog\" → \"puppy\" ✅ (字典中有此键)\n",
    "- np.nan → NaN ❌ (字典中没有此键，保持为NaN)\n",
    "- \"rabbit\" → NaN ❌ (字典中没有此键，被替换为NaN)\n",
    "\n",
    "关键点：当原值在映射字典中找不到对应的键时，pandas会将其替换为NaN，而不是保留原值。\n",
    "\n",
    "这就是为什么\"rabbit\"变成了NaN而不是保持为\"rabbit\"。 "
   ]
  },
  {
   "cell_type": "code",
   "execution_count": 36,
   "metadata": {},
   "outputs": [
    {
     "name": "stdout",
     "output_type": "stream",
     "text": [
      "London      20\n",
      "New York    21\n",
      "Helsinki    12\n",
      "dtype: int64\n"
     ]
    }
   ],
   "source": [
    "ser7 = pd.Series([20, 21, 12], index=[\"London\", \"New York\", \"Helsinki\"])\n",
    "print(ser7)"
   ]
  },
  {
   "cell_type": "code",
   "execution_count": 41,
   "metadata": {},
   "outputs": [
    {
     "name": "stdout",
     "output_type": "stream",
     "text": [
      "London      400\n",
      "New York    441\n",
      "Helsinki    144\n",
      "dtype: int64\n",
      "\n",
      "London      400\n",
      "New York    441\n",
      "Helsinki    144\n",
      "dtype: int64\n",
      "\n"
     ]
    },
    {
     "data": {
      "text/plain": [
       "London      15\n",
       "New York    16\n",
       "Helsinki     7\n",
       "dtype: int64"
      ]
     },
     "execution_count": 41,
     "metadata": {},
     "output_type": "execute_result"
    }
   ],
   "source": [
    "print(ser7.apply(np.square))\n",
    "print()\n",
    "print(ser7.apply(lambda x: x**2))\n",
    "print()\n",
    "ser7.apply(lambda x, value: x - value, args=(5,))"
   ]
  },
  {
   "cell_type": "markdown",
   "metadata": {},
   "source": [
    "### 这里是在干嘛？为什么 args 被赋值为（5，）？难道是因为这是个元组，只有一个元素所以要用一个逗号？\n",
    "\n",
    "args=(5,) 中的逗号是为了创建一个单元素元组。\n",
    "\n",
    "原因分析：\n",
    "\n",
    "- Python 元组语法：(5) 只是括号包围的整数，不是元组；(5,) 才是包含一个元素的元组\n",
    "- pandas apply() 参数传递：args 参数期望接收一个可迭代对象（如元组、列表），用于传递给 lambda 函数的额外参数\n",
    "\n",
    "错误原因：如果写成 args=(5)，pandas 会尝试解包整数 5，导致 `TypeError: Value after * must be an iterable, not int`\n",
    "\n",
    "```python\n",
    "ser7.apply(lambda x, value: x - value, args=(5,))  # ✅ 正确\n",
    "# 等价于：\n",
    "ser7.apply(lambda x, value: x - value, args=[5])   # ✅ 也正确\n",
    "```\n",
    "\n",
    "这样 value 参数就会接收到 5，实现每个元素减去 5 的操作。\n"
   ]
  },
  {
   "cell_type": "code",
   "execution_count": 43,
   "metadata": {},
   "outputs": [
    {
     "name": "stdout",
     "output_type": "stream",
     "text": [
      "pitaya    12\n",
      "peach     25\n",
      "grape     35\n",
      "apple     57\n",
      "orange    89\n",
      "banana    96\n",
      "dtype: int64\n",
      "\n",
      "apple     57\n",
      "banana    96\n",
      "grape     35\n",
      "orange    89\n",
      "peach     25\n",
      "pitaya    12\n",
      "dtype: int64\n"
     ]
    }
   ],
   "source": [
    "ser8 = pd.Series(\n",
    "    data=[35, 96, 12, 57, 25, 89],\n",
    "    index=[\"grape\", \"banana\", \"pitaya\", \"apple\", \"peach\", \"orange\"],\n",
    ")\n",
    "print(ser8.sort_values())  # 按值从小到大排序\n",
    "print()\n",
    "print(ser8.sort_index())  # 按索引从大到小排序˝"
   ]
  },
  {
   "cell_type": "code",
   "execution_count": 44,
   "metadata": {},
   "outputs": [
    {
     "name": "stdout",
     "output_type": "stream",
     "text": [
      "banana    96\n",
      "orange    89\n",
      "apple     57\n",
      "dtype: int64\n",
      "\n",
      "pitaya    12\n",
      "peach     25\n",
      "grape     35\n",
      "dtype: int64\n"
     ]
    }
   ],
   "source": [
    "print(ser8.nlargest(3))  # 值最大的3个\n",
    "print()\n",
    "print(ser8.nsmallest(3))  # 值最小的2个"
   ]
  },
  {
   "cell_type": "code",
   "execution_count": 53,
   "metadata": {},
   "outputs": [
    {
     "name": "stderr",
     "output_type": "stream",
     "text": [
      "/var/folders/hd/pwqcx5pn30g7jq6160hcf9fr0000gp/T/ipykernel_89914/4041392412.py:8: FutureWarning: Series.__getitem__ treating keys as positions is deprecated. In a future version, integer keys will always be treated as labels (consistent with DataFrame behavior). To access a value by position, use `ser.iloc[pos]`\n",
      "  plt.text(i, ser9[i] + 15, ser9[i], ha=\"center\")  # 在每个柱子顶部添加数值标签\n"
     ]
    },
    {
     "data": {
      "image/png": "[encoded data removed]",
      "text/plain": [
       "<Figure size 640x480 with 1 Axes>"
      ]
     },
     "metadata": {},
     "output_type": "display_data"
    }
   ],
   "source": [
    "import matplotlib.pyplot as plt\n",
    "\n",
    "ser9 = pd.Series({\"Q1\": 400, \"Q2\": 520, \"Q3\": 180, \"Q4\": 380})\n",
    "ser9.plot(kind=\"bar\")  # 绘制条形图\n",
    "plt.ylim(0, 600)  # 设置y轴范围为0-600\n",
    "plt.xticks(rotation=0)  #  设置x轴标签不旋转（水平显示）\n",
    "for i in range(ser9.size):\n",
    "    plt.text(i, ser9[i] + 15, ser9[i], ha=\"center\")  # 在每个柱子顶部添加数值标签\n",
    "plt.show()"
   ]
  },
  {
   "cell_type": "markdown",
   "metadata": {},
   "source": [
    "### 警告解释\n",
    "问题原因：ser9[i] 使用整数索引访问Series，pandas将在未来版本中禁用这种位置访问方式。\n",
    "\n",
    "解决方案：将第7行改为：\n",
    "\n",
    "`plt.text(i, ser9.iloc[i] + 5, ser9.iloc[i], ha=\"center\")`\n",
    "\n",
    "使用 .iloc[i] 明确表示按位置访问，而不是按标签访问，避免了歧义和警告。\n",
    "\n",
    "iloc = integer location，表示\"整数位置\"访问器。"
   ]
  },
  {
   "cell_type": "markdown",
   "metadata": {
    "vscode": {
     "languageId": "raw"
    }
   },
   "source": [
    "## plt.text() 方法详解\n",
    "\n",
    "`plt.text()` 函数用于在图表中添加文本标签。\n",
    "\n",
    "### 基本语法\n",
    "```python\n",
    "plt.text(x, y, s, **kwargs)\n",
    "```\n",
    "\n",
    "### 参数说明\n",
    "- **x, y**: 文本的坐标位置\n",
    "- **s**: 要显示的文本内容\n",
    "- **ha**: 水平对齐方式 (horizontal alignment)\n",
    "  - `\"left\"`: 左对齐\n",
    "  - `\"center\"`: 居中对齐 \n",
    "  - `\"right\"`: 右对齐\n",
    "- **va**: 垂直对齐方式 (vertical alignment)\n",
    "  - `\"top\"`: 顶部对齐\n",
    "  - `\"center\"`: 居中对齐\n",
    "  - `\"bottom\"`: 底部对齐\n",
    "\n",
    "### 在上面的代码中：\n",
    "```python\n",
    "plt.text(i, ser9[i] + 5, ser9[i], ha=\"center\")\n",
    "```\n",
    "- `i`: x坐标，对应柱子的位置 (0,1,2,3)\n",
    "- `ser9[i] + 5`: y坐标，柱子高度+5像素的偏移\n",
    "- `ser9[i]`: 显示的文本内容，即柱子的数值\n",
    "- `ha=\"center\"`: 文本以x坐标为中心对齐\n",
    "\n",
    "这样就在每个柱子顶部显示了对应的数值。\n"
   ]
  },
  {
   "cell_type": "code",
   "execution_count": 54,
   "metadata": {},
   "outputs": [
    {
     "data": {
      "image/png": "[encoded data removed]",
      "text/plain": [
       "<Figure size 640x480 with 1 Axes>"
      ]
     },
     "metadata": {},
     "output_type": "display_data"
    }
   ],
   "source": [
    "ser9.plot(kind=\"pie\", autopct=\"%.1f%%\", pctdistance=0.65)\n",
    "plt.show()"
   ]
  },
  {
   "cell_type": "markdown",
   "metadata": {},
   "source": [
    "这行代码创建饼图并显示百分比标签：\n",
    "- kind=\"pie\": 指定绘制饼图类型\n",
    "- autopct=\"%.1f%%\": 格式化字符串，用于显示百分比\n",
    "    - % 开头：表示这是格式化占位符\n",
    "    - .1f：浮点数保留1位小数\n",
    "    - %%：两个%表示输出一个字面量%符号（因为单个%在格式化中有特殊含义，所以需要转义）\n",
    "    - 最终效果：显示如\"25.3%\"这样的百分比\n",
    "- pctdistance=0.65: 百分比标签距离饼图中心的相对距离，0.65表示在半径的65%处显示，避免标签太靠近中心或边缘影响可读性\n",
    "\n",
    "两个%%是因为格式化语法需要用%%来输出单个%字符。"
   ]
  }
 ],
 "metadata": {
  "kernelspec": {
   "display_name": "python-learning-process-record",
   "language": "python",
   "name": "python3"
  },
  "language_info": {
   "codemirror_mode": {
    "name": "ipython",
    "version": 3
   },
   "file_extension": ".py",
   "mimetype": "text/x-python",
   "name": "python",
   "nbconvert_exporter": "python",
   "pygments_lexer": "ipython3",
   "version": "3.12.11"
  }
 },
 "nbformat": 4,
 "nbformat_minor": 2
}

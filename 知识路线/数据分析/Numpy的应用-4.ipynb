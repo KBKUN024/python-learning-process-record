{
 "cells": [
  {
   "cell_type": "markdown",
   "metadata": {},
   "source": [
    "### 向量\n",
    "\n",
    "**向量**（*vector*）也叫**矢量**，是一个同时具有大小和方向，且满足平行四边形法则的几何对象。与向量相对的概念叫**标量**或**数量**，标量只有大小，绝大多数情况下没有方向。我们通常用带箭头的线段来表示向量，在平面直角坐标系中的向量如下图所示。需要注意的是，向量是表达大小和方向的量，并没有规定起点和终点，所以相同的向量可以画在任意位置，例如下图中 $\\small{\\boldsymbol{w}}$ 和 $\\small{\\boldsymbol{u}}$ 两个向量并没有什么区别。"
   ]
  },
  {
   "cell_type": "markdown",
   "metadata": {},
   "source": [
    "向量的点积可以通过`dot`函数来计算，而向量的模长可以通过 NumPy 的`linalg`模块中的`norm`函数来计算，代码如下所示。"
   ]
  },
  {
   "cell_type": "code",
   "execution_count": 1,
   "metadata": {},
   "outputs": [
    {
     "name": "stdout",
     "output_type": "stream",
     "text": [
      "0.7302967433402215\n",
      "0.9704311900788593\n"
     ]
    }
   ],
   "source": [
    "import numpy as np\n",
    "\n",
    "u = np.array([5, 1, 3])\n",
    "m1 = np.array([4, 5, 1])\n",
    "m2 = np.array([5, 1, 5])\n",
    "print(np.dot(u, m1) / (np.linalg.norm(u) * np.linalg.norm(m1)))\n",
    "print(np.dot(u, m2) / (np.linalg.norm(u) * np.linalg.norm(m2)))"
   ]
  },
  {
   "cell_type": "markdown",
   "metadata": {},
   "source": [
    "#### 向量的叉积\n",
    "\n",
    "在二维空间，两个向量的叉积是这样定义的：\n",
    "\n",
    "$$\n",
    "\\boldsymbol{A} = \\begin{pmatrix} a_{1} \\\\\\\\ a_{2} \\end{pmatrix}, \\quad \\boldsymbol{B} = \\begin{pmatrix} b_{1} \\\\\\\\ b_{2} \\end{pmatrix}\n",
    "$$\n",
    "\n",
    "$$\n",
    "\\boldsymbol{A} \\times \\boldsymbol{B} = \\begin{vmatrix} a_{1} \\quad a_{2} \\\\\\\\ b_{1} \\quad b_{2} \\end{vmatrix} = a_{1}b_{2} - a_{2}b_{1}\n",
    "$$\n",
    "\n",
    "对于三维空间，两个向量的叉积结果是一个向量，如下所示：\n",
    "\n",
    "$$\n",
    "\\boldsymbol{A} = \\begin{pmatrix} a_{1} \\\\\\\\ a_{2} \\\\\\\\ a_{3} \\end{pmatrix}, \\quad \\boldsymbol{B} = \\begin{pmatrix} b_{1} \\\\\\\\ b_{2} \\\\\\\\ b_{3} \\end{pmatrix}\n",
    "$$\n",
    "\n",
    "$$\n",
    "\\boldsymbol{A} \\times \\boldsymbol{B} = \\begin{vmatrix} \\boldsymbol{\\hat{i}} \\quad \\boldsymbol{\\hat{j}} \\quad \\boldsymbol{\\hat{k}} \\\\\\\\ a_{1} \\quad a_{2} \\quad a_{3} \\\\\\\\ b_{1} \\quad b_{2} \\quad b_{3} \\end{vmatrix} = \\langle \\boldsymbol{\\hat{i}}\\begin{vmatrix} a_{2} \\quad a_{3} \\\\\\\\ b_{2} \\quad b_{3} \\end{vmatrix}, -\\boldsymbol{\\hat{j}}\\begin{vmatrix} a_{1} \\quad a_{3} \\\\\\\\ b_{1} \\quad b_{3} \\end{vmatrix}, \\boldsymbol{\\hat{k}}\\begin{vmatrix} a_{1} \\quad a_{2} \\\\\\\\ b_{1} \\quad b_{2} \\end{vmatrix} \\rangle\n",
    "$$\n",
    "\n",
    "因为叉积的结果是向量，所以 $\\small{\\boldsymbol{A} \\times \\boldsymbol{B}}$ 和 $\\small{\\boldsymbol{B} \\times \\boldsymbol{A}}$ 的结果并不相同，事实上：\n",
    "\n",
    "$$\n",
    "\\boldsymbol{A} \\times \\boldsymbol{B} = -(\\boldsymbol{B} \\times \\boldsymbol{A})\n",
    "$$\n",
    "\n",
    "NumPy 中可以通过`cross`函数来计算向量的叉积，代码如下所示。\n",
    "\n",
    "### "
   ]
  },
  {
   "cell_type": "code",
   "execution_count": 2,
   "metadata": {},
   "outputs": [
    {
     "name": "stdout",
     "output_type": "stream",
     "text": [
      "[-14   7  21]\n",
      "[ 14  -7 -21]\n"
     ]
    }
   ],
   "source": [
    "print(np.cross(u, m1))  # [-14   7  21]\n",
    "print(np.cross(m1, u))  # [ 14  -7 -21]"
   ]
  }
 ],
 "metadata": {
  "kernelspec": {
   "display_name": "python练习",
   "language": "python",
   "name": "python3"
  },
  "language_info": {
   "codemirror_mode": {
    "name": "ipython",
    "version": 3
   },
   "file_extension": ".py",
   "mimetype": "text/x-python",
   "name": "python",
   "nbconvert_exporter": "python",
   "pygments_lexer": "ipython3",
   "version": "3.12.9"
  }
 },
 "nbformat": 4,
 "nbformat_minor": 2
}

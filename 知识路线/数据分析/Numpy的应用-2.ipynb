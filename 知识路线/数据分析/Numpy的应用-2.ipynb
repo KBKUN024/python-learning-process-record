{
 "cells": [
  {
   "cell_type": "markdown",
   "metadata": {},
   "source": [
    "## 数组对象的方法\n",
    "### 获取描述统计信息\n",
    "描述统计信息主要包括数据的集中趋势、离散程度和频数分析等，其中集中趋势主要看均值和中位数，离散程度可以看极值、方差、标准差等，详细的内容大家可以阅读[《统计思维系列课程01：解读数据》](https://zhuanlan.zhihu.com/p/595273755)。"
   ]
  },
  {
   "cell_type": "code",
   "execution_count": 9,
   "metadata": {},
   "outputs": [
    {
     "name": "stdout",
     "output_type": "stream",
     "text": [
      "[36  5 18 39 61 78 55 66 27 83]\n"
     ]
    }
   ],
   "source": [
    "import numpy as np\n",
    "\n",
    "array1 = np.random.randint(1, 100, 10)\n",
    "print(array1)"
   ]
  },
  {
   "cell_type": "markdown",
   "metadata": {},
   "source": [
    "**计算总和、均值和中位数。**"
   ]
  },
  {
   "cell_type": "code",
   "execution_count": 10,
   "metadata": {},
   "outputs": [
    {
     "name": "stdout",
     "output_type": "stream",
     "text": [
      "[ 5 18 27 36 39 55 61 66 78 83]\n",
      "总和: 468\n",
      "用numpy的方式求总和:  468\n",
      "平均值 46.8\n",
      "用numpy模块的方式计算平均值:  46.8\n",
      "numpy计算中位数:  47.0\n",
      "numpy计算分位数:  25.2\n"
     ]
    }
   ],
   "source": [
    "print(np.sort(array1))\n",
    "print(\"总和:\", array1.sum())  # 普通的方法计算总和\n",
    "print(\"用numpy的方式求总和: \", np.sum(array1))  # 用numpy的方式计算总和\n",
    "print(\n",
    "    \"平均值\", array1.mean()\n",
    ")  # numpy计算算术平均值，只适用于NumPy数组，是numpy数组对象的实例方法，通常稍快一些，因为直接在数组对象上调用\n",
    "print(\n",
    "    \"用numpy模块的方式计算平均值: \", np.mean(array1)\n",
    ")  # 调用NumPy模块的函数来计算平均值，需要额外的函数调用开销，所以慢于上面的mean\n",
    "print(\"numpy计算中位数: \", np.median(array1))  # numpy计算中位数\n",
    "print(\"numpy计算分位数: \", np.quantile(array1, 0.2))  # numpy计算分位数"
   ]
  },
  {
   "cell_type": "markdown",
   "metadata": {},
   "source": [
    "**说明**：\n",
    "- 上面代码中的`mean`、`median`和`quantile`分别是 NumPy 中计算算术平均值、中位数和分位数的函数，其中`quantitle`函数的第二个参数设置为0.5表示计算50%分位数，也就是中位数。\n",
    "- 分位数的概念\n",
    "    分位数（Quantile） 是将数据从小到大排序后，按比例分割的数值：\n",
    "    - 0.5 分位数 = 中位数（50% 的数据小于等于这个值）\n",
    "    - 0.25 分位数 = 第一四分位数（25% 的数据小于等于这个值）\n",
    "    - 0.75 分位数 = 第三四分位数（75% 的数据小于等于这个值）\n",
    "\n",
    "    **分位数的实际意义**\n",
    "\n",
    "    分位数帮助我们理解数据的分布情况：\n",
    "    1. 描述数据位置\n",
    "        - 告诉你某个值在整个数据集中的相对位置\n",
    "        - 例如：你的考试成绩在0.8分位数，意味着你超过了80%的同学\n",
    "    2. 数据分析\n",
    "        - 快速了解数据的集中程度和偏斜情况\n",
    "        - 比单纯的均值提供更丰富的信息\n",
    "    \n",
    "    **分位数的计算过程**\n",
    "    \n",
    "    计算过程：假设数组是：[13 14 23 39 41 49 54 56 96 97]\n",
    "    1. 确定位置：0.2分位数在排序数组中的位置 = `(10-1) × 0.2 = 1.8`\n",
    "    2. 线性插值：\n",
    "        - 位置1.8在索引1和索引2之间\n",
    "        - 索引1的值：14\n",
    "        - 索引2的值：23\n",
    "    3. 插值计算：\n",
    "        - 小数部分0.8表示在14和23之间80%的位置\n",
    "        - 结果 = `14 + 0.8 × (23 - 14) = 14 + 0.8 × 9 = 14 + 7.2 = 21.2`\n",
    "    \n",
    "    所以21.2是通过在数组第2个值(14)和第3个值(23)之间进行线性插值得到的。"
   ]
  },
  {
   "cell_type": "markdown",
   "metadata": {},
   "source": [
    "**极值、全距和四分位距离。**"
   ]
  },
  {
   "cell_type": "code",
   "execution_count": 11,
   "metadata": {},
   "outputs": [
    {
     "name": "stdout",
     "output_type": "stream",
     "text": [
      "最大值:  83\n",
      "最大值:  83\n",
      "最小值:  5\n",
      "最小值:  5\n",
      "全距:  78\n",
      "四分位距离:  35.5\n"
     ]
    }
   ],
   "source": [
    "print(\"最大值: \", array1.max())\n",
    "print(\"最大值: \", np.amax(array1))  # amax是numpy.max的别名，都是求最大值\n",
    "print(\"最小值: \", array1.min())\n",
    "print(\"最小值: \", np.amin(array1))\n",
    "print(\"全距: \", np.ptp(array1))\n",
    "q1, q3 = np.quantile(array1, [0.25, 0.75])\n",
    "print(\"四分位距离: \", q3 - q1)"
   ]
  },
  {
   "cell_type": "markdown",
   "metadata": {},
   "source": [
    "假设数组是[ 5 18 27 36 39 55 61 66 78 83]\n",
    "1. ptp是什么？有什么用？\n",
    "`np.ptp()` 是 **Peak to Peak** 的缩写，表示**全距**（极差）。\n",
    "- 作用：计算数组中最大值与最小值的差值\n",
    "- 公式：ptp = max - min\n",
    "- 用途：衡量数据的离散程度，值越大说明数据分布越分散\n",
    "\n",
    "对于数组 `[5 18 27 36 39 55 61 66 78 83]`：\n",
    "- 最大值：83\n",
    "- 最小值：5\n",
    "- 全距：`83 - 5 = 78`\n",
    "\n",
    "2. 四分位距离是什么？为什么要求它？\n",
    "\n",
    "四分位距离（IQR, Interquartile Range） = `Q3 - Q1`\n",
    "\n",
    "对于数组 [5 18 27 36 39 55 61 66 78 83]：\n",
    "- Q1（25%分位数）：27 + 0.25×(36-27) = 29.25\n",
    "- Q3（75%分位数）：66 + 0.25×(78-66) = 69\n",
    "- 四分位距离：69 - 29.25 = 39.75\n",
    "\n",
    "为什么要求四分位距离？\n",
    "- 更稳健的离散度指标：不受极端值影响，比全距更可靠\n",
    "- 异常值检测：通常用 Q1 - 1.5×IQR 和 Q3 + 1.5×IQR 作为异常值边界\n",
    "- 数据分布描述：描述中间50%数据的分散程度，更能反映数据的真实分布特征\n",
    "\n",
    "四分位距离比全距更适合描述大多数数据的分布情况。"
   ]
  }
 ],
 "metadata": {
  "kernelspec": {
   "display_name": "python-learning-process-record",
   "language": "python",
   "name": "python3"
  },
  "language_info": {
   "codemirror_mode": {
    "name": "ipython",
    "version": 3
   },
   "file_extension": ".py",
   "mimetype": "text/x-python",
   "name": "python",
   "nbconvert_exporter": "python",
   "pygments_lexer": "ipython3",
   "version": "3.12.11"
  }
 },
 "nbformat": 4,
 "nbformat_minor": 2
}

{
 "cells": [
  {
   "cell_type": "code",
   "execution_count": 44,
   "metadata": {},
   "outputs": [
    {
     "name": "stdout",
     "output_type": "stream",
     "text": [
      "      literature  math  english\n",
      "1001          68    66       95\n",
      "1002          64    74       72\n",
      "1003          99    95       79\n",
      "1004          92    83       75\n",
      "1005          63    88       77\n"
     ]
    }
   ],
   "source": [
    "import numpy as np\n",
    "import pandas as pd\n",
    "\n",
    "scores = np.random.randint(60, 101, (5, 3))\n",
    "courses = [\"literature\", \"math\", \"english\"]\n",
    "stu_ids = np.arange(1001, 1006)\n",
    "df1 = pd.DataFrame(data=scores, columns=courses, index=stu_ids)\n",
    "print(df1)"
   ]
  },
  {
   "cell_type": "code",
   "execution_count": 45,
   "metadata": {},
   "outputs": [
    {
     "name": "stdout",
     "output_type": "stream",
     "text": [
      "      literature  math  english\n",
      "1001          62    95       66\n",
      "1002          72    65       75\n",
      "1003          93    86       82\n",
      "1004          88    66       69\n",
      "1005          93    87       82\n"
     ]
    }
   ],
   "source": [
    "scores = {\n",
    "    \"literature\": [62, 72, 93, 88, 93],\n",
    "    \"math\": [95, 65, 86, 66, 87],\n",
    "    \"english\": [66, 75, 82, 69, 82],\n",
    "}\n",
    "stu_ids = np.arange(1001, 1006)\n",
    "df2 = pd.DataFrame(data=scores, index=stu_ids)\n",
    "print(df2)"
   ]
  },
  {
   "cell_type": "code",
   "execution_count": 46,
   "metadata": {},
   "outputs": [
    {
     "name": "stdout",
     "output_type": "stream",
     "text": [
      "        name birthday                                 company   score\n",
      "id                                                                   \n",
      "1     杨效丰  1972-12            北京利德华福电气技术有限公司  122.59\n",
      "2     纪丰伟  1974-12                北京航天数据股份有限公司  121.25\n",
      "3       王永  1974-05              品牌联盟(北京)咨询股份公司  118.96\n",
      "4       杨静  1975-07            中科专利商标代理有限责任公司  118.21\n",
      "5     张凯江  1974-11          北京阿里巴巴云计算技术有限公司  117.79\n",
      "...      ...      ...                                     ...     ...\n",
      "6015  孙宏波  1978-08      华为海洋网络有限公司北京科技分公司   90.75\n",
      "6016  刘丽香  1976-11  福斯（上海）流体设备有限公司北京分公司   90.75\n",
      "6017    周崧  1977-10          赢创德固赛（中国）投资有限公司   90.75\n",
      "6018    赵妍  1979-07        澳科利耳医疗器械（北京）有限公司   90.75\n",
      "6019    贺锐  1981-06                    北京宝洁技术有限公司   90.75\n",
      "\n",
      "[6019 rows x 4 columns]\n"
     ]
    }
   ],
   "source": [
    "df3 = pd.read_csv(\"./2018年北京积分落户数据.csv\", index_col=\"id\")\n",
    "print(df3)"
   ]
  },
  {
   "cell_type": "code",
   "execution_count": 47,
   "metadata": {},
   "outputs": [
    {
     "name": "stdout",
     "output_type": "stream",
     "text": [
      "               Open     High       Low    Close    Volume\n",
      "Date                                                     \n",
      "2022-12-30   83.120   84.050   82.4700   84.000  62401194\n",
      "2022-12-29   82.870   84.550   82.5500   84.180  54995895\n",
      "2022-12-28   82.800   83.480   81.6900   81.820  58228575\n",
      "2022-12-27   84.970   85.350   83.0000   83.040  57284035\n",
      "2022-12-23   83.250   85.780   82.9344   85.250  57433655\n",
      "...             ...      ...       ...      ...       ...\n",
      "2022-01-07  163.839  165.243  162.0310  162.554  46605900\n",
      "2022-01-06  163.450  164.800  161.9370  163.254  51957780\n",
      "2022-01-05  166.883  167.126  164.3570  164.357  64302720\n",
      "2022-01-04  170.438  171.400  166.3490  167.522  70725160\n",
      "2022-01-03  167.550  170.704  166.1600  170.404  63869140\n",
      "\n",
      "[251 rows x 5 columns]\n"
     ]
    }
   ],
   "source": [
    "df4 = pd.read_excel(\"./2022年股票数据.xlsx\", sheet_name=\"AMZN\", index_col=\"Date\")\n",
    "print(df4)"
   ]
  },
  {
   "cell_type": "code",
   "execution_count": 48,
   "metadata": {},
   "outputs": [
    {
     "name": "stdout",
     "output_type": "stream",
     "text": [
      "<class 'pandas.core.frame.DataFrame'>\n",
      "DatetimeIndex: 251 entries, 2022-12-30 to 2022-01-03\n",
      "Data columns (total 5 columns):\n",
      " #   Column  Non-Null Count  Dtype  \n",
      "---  ------  --------------  -----  \n",
      " 0   Open    251 non-null    float64\n",
      " 1   High    251 non-null    float64\n",
      " 2   Low     251 non-null    float64\n",
      " 3   Close   251 non-null    float64\n",
      " 4   Volume  251 non-null    int64  \n",
      "dtypes: float64(4), int64(1)\n",
      "memory usage: 11.8 KB\n",
      "None\n",
      "\n",
      "             Open   High      Low  Close    Volume\n",
      "Date                                              \n",
      "2022-12-30  83.12  84.05  82.4700  84.00  62401194\n",
      "2022-12-29  82.87  84.55  82.5500  84.18  54995895\n",
      "2022-12-28  82.80  83.48  81.6900  81.82  58228575\n",
      "2022-12-27  84.97  85.35  83.0000  83.04  57284035\n",
      "2022-12-23  83.25  85.78  82.9344  85.25  57433655\n",
      "\n",
      "               Open     High      Low    Close    Volume\n",
      "Date                                                    \n",
      "2022-01-07  163.839  165.243  162.031  162.554  46605900\n",
      "2022-01-06  163.450  164.800  161.937  163.254  51957780\n",
      "2022-01-05  166.883  167.126  164.357  164.357  64302720\n",
      "2022-01-04  170.438  171.400  166.349  167.522  70725160\n",
      "2022-01-03  167.550  170.704  166.160  170.404  63869140\n"
     ]
    }
   ],
   "source": [
    "print(df4.info())\n",
    "print()\n",
    "print(df4.head())\n",
    "print()\n",
    "print(df4.tail())"
   ]
  },
  {
   "cell_type": "code",
   "execution_count": 49,
   "metadata": {},
   "outputs": [
    {
     "name": "stdout",
     "output_type": "stream",
     "text": [
      "Date\n",
      "2022-12-30     84.050\n",
      "2022-12-29     84.550\n",
      "2022-12-28     83.480\n",
      "2022-12-27     85.350\n",
      "2022-12-23     85.780\n",
      "               ...   \n",
      "2022-01-07    165.243\n",
      "2022-01-06    164.800\n",
      "2022-01-05    167.126\n",
      "2022-01-04    171.400\n",
      "2022-01-03    170.704\n",
      "Name: High, Length: 251, dtype: float64\n",
      "\n",
      "Date\n",
      "2022-12-30     84.050\n",
      "2022-12-29     84.550\n",
      "2022-12-28     83.480\n",
      "2022-12-27     85.350\n",
      "2022-12-23     85.780\n",
      "               ...   \n",
      "2022-01-07    165.243\n",
      "2022-01-06    164.800\n",
      "2022-01-05    167.126\n",
      "2022-01-04    171.400\n",
      "2022-01-03    170.704\n",
      "Name: High, Length: 251, dtype: float64\n",
      "\n",
      "Open            83.12\n",
      "High            84.05\n",
      "Low             82.47\n",
      "Close           84.00\n",
      "Volume    62401194.00\n",
      "Name: 2022-12-30 00:00:00, dtype: float64\n",
      "\n",
      "82.47\n"
     ]
    }
   ],
   "source": [
    "print(df4.High)\n",
    "print()\n",
    "print(df4[\"High\"])\n",
    "print()\n",
    "print(df4.iloc[0])\n",
    "print()\n",
    "print(df4.loc[df4.index[0], \"Low\"])\n",
    "df4.loc[df4.index[0], \"Low\"] = 82.17\n",
    "df4.to_excel(\"./2022年股票数据.xlsx\", sheet_name=\"AMZN\")"
   ]
  },
  {
   "cell_type": "code",
   "execution_count": 51,
   "metadata": {},
   "outputs": [
    {
     "name": "stdout",
     "output_type": "stream",
     "text": [
      "               Open      High      Low    Close     Volume\n",
      "Date                                                      \n",
      "2022-11-15  103.210  103.7900   97.340   98.940  111336317\n",
      "2022-11-01  103.990  104.5800   96.060   96.790  153370032\n",
      "2022-10-31  103.560  104.8700  100.740  102.440   99251395\n",
      "2022-10-27  113.920  114.1200  109.770  110.960  129605362\n",
      "2022-10-26  116.000  119.3457  114.760  115.660   69002457\n",
      "...             ...       ...      ...      ...        ...\n",
      "2022-01-11  161.500  166.3500  160.702  165.362   62805580\n",
      "2022-01-10  160.586  161.6620  156.305  161.486   87798300\n",
      "2022-01-05  166.883  167.1260  164.357  164.357   64302720\n",
      "2022-01-04  170.438  171.4000  166.349  167.522   70725160\n",
      "2022-01-03  167.550  170.7040  166.160  170.404   63869140\n",
      "\n",
      "[126 rows x 5 columns]\n"
     ]
    }
   ],
   "source": [
    "print(df4.query(\"Open > 100 and Volume > 60000000\"))"
   ]
  }
 ],
 "metadata": {
  "kernelspec": {
   "display_name": "python-learning-process-record",
   "language": "python",
   "name": "python3"
  },
  "language_info": {
   "codemirror_mode": {
    "name": "ipython",
    "version": 3
   },
   "file_extension": ".py",
   "mimetype": "text/x-python",
   "name": "python",
   "nbconvert_exporter": "python",
   "pygments_lexer": "ipython3",
   "version": "3.12.11"
  }
 },
 "nbformat": 4,
 "nbformat_minor": 2
}

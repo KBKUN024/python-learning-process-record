{
  "cells": [
    {
      "cell_type": "raw",
      "metadata": {
        "vscode": {
          "languageId": "raw"
        }
      },
      "source": [
        "# 🚀 数据库实战练习 - 从零构建完整项目\n",
        "\n",
        "## 🎯 项目目标\n",
        "通过实际项目巩固数据库知识，学会：\n",
        "- 数据库表设计\n",
        "- 复杂查询操作\n",
        "- Python数据库最佳实践\n",
        "- 性能优化技巧\n",
        "\n",
        "## 📋 实战项目清单\n",
        "1. **个人博客系统** - 基础CRUD和表关联\n",
        "2. **电商库存管理** - 事务处理和数据一致性\n",
        "3. **用户权限系统** - 复杂查询和安全设计\n",
        "4. **数据分析报表** - 聚合查询和性能优化\n"
      ]
    },
    {
      "cell_type": "raw",
      "metadata": {
        "vscode": {
          "languageId": "raw"
        }
      },
      "source": [
        "## 🏗️ 项目一：个人博客系统\n",
        "\n",
        "### 需求分析\n",
        "- 用户可以发布文章\n",
        "- 文章可以分类和打标签\n",
        "- 支持评论功能\n",
        "- 文章浏览统计\n",
        "\n",
        "### 数据库设计\n",
        "我们需要设计以下表：\n",
        "- `users` - 用户表\n",
        "- `categories` - 分类表\n",
        "- `articles` - 文章表\n",
        "- `tags` - 标签表\n",
        "- `article_tags` - 文章标签关联表\n",
        "- `comments` - 评论表\n"
      ]
    },
    {
      "cell_type": "code",
      "execution_count": null,
      "metadata": {},
      "outputs": [],
      "source": [
        "import sqlite3\n",
        "import pandas as pd\n",
        "from datetime import datetime, timedelta\n",
        "import hashlib\n",
        "import random\n",
        "from typing import List, Dict, Optional\n",
        "\n",
        "# 创建博客数据库\n",
        "conn = sqlite3.connect('blog_system.db')\n",
        "cursor = conn.cursor()\n",
        "\n",
        "print(\"✅ 博客系统数据库创建成功！\")\n"
      ]
    },
    {
      "cell_type": "raw",
      "metadata": {
        "vscode": {
          "languageId": "raw"
        }
      },
      "source": [
        "### 📝 任务1: 创建数据库表结构\n",
        "**你的挑战**: 设计并创建完整的博客系统表结构\n",
        "\n",
        "**提示**:\n",
        "- 考虑表之间的关联关系\n",
        "- 添加必要的约束和索引\n",
        "- 使用合适的数据类型\n"
      ]
    },
    {
      "cell_type": "code",
      "execution_count": null,
      "metadata": {},
      "outputs": [],
      "source": [
        "# 🎯 请在这里写代码：创建博客系统的所有表\n",
        "# 包括：users, categories, articles, tags, article_tags, comments\n",
        "\n"
      ]
    }
  ],
  "metadata": {
    "language_info": {
      "name": "python"
    }
  },
  "nbformat": 4,
  "nbformat_minor": 2
}

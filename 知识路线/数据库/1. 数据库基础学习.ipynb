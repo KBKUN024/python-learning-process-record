{
  "cells": [
    {
      "cell_type": "raw",
      "metadata": {
        "vscode": {
          "languageId": "raw"
        }
      },
      "source": [
        "# 🗄️ 数据库基础学习 - Python后端开发必备\n",
        "\n",
        "## 📚 学习目标\n",
        "- 理解数据库基本概念\n",
        "- 掌握SQL基础语法\n",
        "- 学会使用SQLite进行实践\n",
        "- 为后端开发打下坚实基础\n",
        "\n",
        "## 🎯 学习路线\n",
        "1. 数据库概念与分类\n",
        "2. SQL基础语法\n",
        "3. SQLite实战练习\n",
        "4. Python数据库操作\n"
      ]
    },
    {
      "cell_type": "raw",
      "metadata": {
        "vscode": {
          "languageId": "raw"
        }
      },
      "source": [
        "## 1. 数据库基础概念\n",
        "\n",
        "### 什么是数据库？\n",
        "数据库是**有组织地存储数据的集合**，就像一个超级智能的电子文件柜。\n",
        "\n",
        "### 数据库分类\n",
        "\n",
        "#### 关系型数据库 (SQL)\n",
        "- **特点**: 数据存储在表格中，表格之间有关系\n",
        "- **代表**: PostgreSQL, MySQL, SQLite\n",
        "- **适用场景**: 需要严格数据一致性的应用\n",
        "\n",
        "#### 非关系型数据库 (NoSQL)\n",
        "- **特点**: 灵活的数据存储格式\n",
        "- **代表**: MongoDB, Redis, Elasticsearch\n",
        "- **适用场景**: 需要高性能和灵活性的应用\n"
      ]
    },
    {
      "cell_type": "raw",
      "metadata": {
        "vscode": {
          "languageId": "raw"
        }
      },
      "source": [
        "## 2. SQL基础语法\n",
        "\n",
        "### 核心操作 (CRUD)\n",
        "- **C**reate - 创建数据\n",
        "- **R**ead - 读取数据\n",
        "- **U**pdate - 更新数据\n",
        "- **D**elete - 删除数据\n"
      ]
    },
    {
      "cell_type": "raw",
      "metadata": {
        "vscode": {
          "languageId": "raw"
        }
      },
      "source": [
        "## 3. SQLite实战开始\n",
        "\n",
        "### 为什么选择SQLite？\n",
        "- ✅ Python内置，无需安装\n",
        "- ✅ 轻量级，适合学习\n",
        "- ✅ 支持标准SQL语法\n",
        "- ✅ 广泛用于移动应用和小型项目\n"
      ]
    },
    {
      "cell_type": "code",
      "execution_count": null,
      "metadata": {},
      "outputs": [],
      "source": [
        "# 导入必要的库\n",
        "import sqlite3\n",
        "import pandas as pd\n",
        "from datetime import datetime\n",
        "import os\n",
        "\n",
        "print(\"✅ 库导入成功！\")\n",
        "print(f\"SQLite版本: {sqlite3.sqlite_version}\")\n"
      ]
    },
    {
      "cell_type": "raw",
      "metadata": {
        "vscode": {
          "languageId": "raw"
        }
      },
      "source": [
        "### 📝 任务1: 创建数据库连接\n",
        "**你的任务**: 在下面的代码cell中，创建一个SQLite数据库连接\n"
      ]
    },
    {
      "cell_type": "code",
      "execution_count": null,
      "metadata": {},
      "outputs": [],
      "source": [
        "# 🎯 请在这里写代码：创建数据库连接\n",
        "# 提示：使用 sqlite3.connect() 函数\n",
        "# 数据库文件名：'learning.db'\n",
        "\n"
      ]
    },
    {
      "cell_type": "raw",
      "metadata": {
        "vscode": {
          "languageId": "raw"
        }
      },
      "source": [
        "### 标准答案\n"
      ]
    },
    {
      "cell_type": "code",
      "execution_count": null,
      "metadata": {},
      "outputs": [],
      "source": [
        "# 创建数据库连接\n",
        "conn = sqlite3.connect('learning.db')\n",
        "cursor = conn.cursor()\n",
        "print(\"✅ 数据库连接创建成功！\")\n"
      ]
    }
  ],
  "metadata": {
    "language_info": {
      "name": "python"
    }
  },
  "nbformat": 4,
  "nbformat_minor": 2
}
